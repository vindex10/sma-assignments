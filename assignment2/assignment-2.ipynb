{
 "cells": [
  {
   "cell_type": "code",
   "execution_count": 1,
   "metadata": {},
   "outputs": [],
   "source": [
    "import numpy as np\n",
    "import scipy as sp\n",
    "from scipy import stats\n",
    "import pandas as pd\n",
    "import matplotlib.pyplot as plt\n",
    "import seaborn as sns\n",
    "import statsmodels as sm\n",
    "import statsmodels.discrete.discrete_model\n",
    "import statsmodels.api as sma\n",
    "import statsmodels.formula.api as smf"
   ]
  },
  {
   "cell_type": "markdown",
   "metadata": {},
   "source": [
    "# STK9900 Mandatory assignment 2"
   ]
  },
  {
   "cell_type": "markdown",
   "metadata": {},
   "source": [
    "## Viktor Ananiev"
   ]
  },
  {
   "cell_type": "markdown",
   "metadata": {},
   "source": [
    "### Problem 1"
   ]
  },
  {
   "cell_type": "code",
   "execution_count": 2,
   "metadata": {},
   "outputs": [
    {
     "data": {
      "text/html": [
       "<div>\n",
       "<style scoped>\n",
       "    .dataframe tbody tr th:only-of-type {\n",
       "        vertical-align: middle;\n",
       "    }\n",
       "\n",
       "    .dataframe tbody tr th {\n",
       "        vertical-align: top;\n",
       "    }\n",
       "\n",
       "    .dataframe thead th {\n",
       "        text-align: right;\n",
       "    }\n",
       "</style>\n",
       "<table border=\"1\" class=\"dataframe\">\n",
       "  <thead>\n",
       "    <tr style=\"text-align: right;\">\n",
       "      <th></th>\n",
       "      <th>y</th>\n",
       "      <th>width</th>\n",
       "      <th>weight</th>\n",
       "      <th>color</th>\n",
       "      <th>spine</th>\n",
       "    </tr>\n",
       "  </thead>\n",
       "  <tbody>\n",
       "    <tr>\n",
       "      <th>0</th>\n",
       "      <td>1</td>\n",
       "      <td>28.3</td>\n",
       "      <td>3.05</td>\n",
       "      <td>2</td>\n",
       "      <td>3</td>\n",
       "    </tr>\n",
       "    <tr>\n",
       "      <th>1</th>\n",
       "      <td>0</td>\n",
       "      <td>22.5</td>\n",
       "      <td>1.55</td>\n",
       "      <td>3</td>\n",
       "      <td>3</td>\n",
       "    </tr>\n",
       "    <tr>\n",
       "      <th>2</th>\n",
       "      <td>1</td>\n",
       "      <td>26.0</td>\n",
       "      <td>2.30</td>\n",
       "      <td>1</td>\n",
       "      <td>1</td>\n",
       "    </tr>\n",
       "    <tr>\n",
       "      <th>3</th>\n",
       "      <td>0</td>\n",
       "      <td>24.8</td>\n",
       "      <td>2.10</td>\n",
       "      <td>3</td>\n",
       "      <td>3</td>\n",
       "    </tr>\n",
       "    <tr>\n",
       "      <th>4</th>\n",
       "      <td>1</td>\n",
       "      <td>26.0</td>\n",
       "      <td>2.60</td>\n",
       "      <td>3</td>\n",
       "      <td>3</td>\n",
       "    </tr>\n",
       "  </tbody>\n",
       "</table>\n",
       "</div>"
      ],
      "text/plain": [
       "   y  width  weight  color  spine\n",
       "0  1   28.3    3.05      2      3\n",
       "1  0   22.5    1.55      3      3\n",
       "2  1   26.0    2.30      1      1\n",
       "3  0   24.8    2.10      3      3\n",
       "4  1   26.0    2.60      3      3"
      ]
     },
     "metadata": {},
     "output_type": "display_data"
    },
    {
     "data": {
      "text/html": [
       "<div>\n",
       "<style scoped>\n",
       "    .dataframe tbody tr th:only-of-type {\n",
       "        vertical-align: middle;\n",
       "    }\n",
       "\n",
       "    .dataframe tbody tr th {\n",
       "        vertical-align: top;\n",
       "    }\n",
       "\n",
       "    .dataframe thead th {\n",
       "        text-align: right;\n",
       "    }\n",
       "</style>\n",
       "<table border=\"1\" class=\"dataframe\">\n",
       "  <thead>\n",
       "    <tr style=\"text-align: right;\">\n",
       "      <th></th>\n",
       "      <th>y</th>\n",
       "      <th>width</th>\n",
       "      <th>weight</th>\n",
       "      <th>color</th>\n",
       "      <th>spine</th>\n",
       "    </tr>\n",
       "  </thead>\n",
       "  <tbody>\n",
       "    <tr>\n",
       "      <th>count</th>\n",
       "      <td>173.000000</td>\n",
       "      <td>173.000000</td>\n",
       "      <td>173.000000</td>\n",
       "      <td>173.000000</td>\n",
       "      <td>173.000000</td>\n",
       "    </tr>\n",
       "    <tr>\n",
       "      <th>mean</th>\n",
       "      <td>0.641618</td>\n",
       "      <td>26.298844</td>\n",
       "      <td>2.437191</td>\n",
       "      <td>2.439306</td>\n",
       "      <td>2.485549</td>\n",
       "    </tr>\n",
       "    <tr>\n",
       "      <th>std</th>\n",
       "      <td>0.480917</td>\n",
       "      <td>2.109061</td>\n",
       "      <td>0.577025</td>\n",
       "      <td>0.801933</td>\n",
       "      <td>0.825516</td>\n",
       "    </tr>\n",
       "    <tr>\n",
       "      <th>min</th>\n",
       "      <td>0.000000</td>\n",
       "      <td>21.000000</td>\n",
       "      <td>1.200000</td>\n",
       "      <td>1.000000</td>\n",
       "      <td>1.000000</td>\n",
       "    </tr>\n",
       "    <tr>\n",
       "      <th>25%</th>\n",
       "      <td>0.000000</td>\n",
       "      <td>24.900000</td>\n",
       "      <td>2.000000</td>\n",
       "      <td>2.000000</td>\n",
       "      <td>2.000000</td>\n",
       "    </tr>\n",
       "    <tr>\n",
       "      <th>50%</th>\n",
       "      <td>1.000000</td>\n",
       "      <td>26.100000</td>\n",
       "      <td>2.350000</td>\n",
       "      <td>2.000000</td>\n",
       "      <td>3.000000</td>\n",
       "    </tr>\n",
       "    <tr>\n",
       "      <th>75%</th>\n",
       "      <td>1.000000</td>\n",
       "      <td>27.700000</td>\n",
       "      <td>2.850000</td>\n",
       "      <td>3.000000</td>\n",
       "      <td>3.000000</td>\n",
       "    </tr>\n",
       "    <tr>\n",
       "      <th>max</th>\n",
       "      <td>1.000000</td>\n",
       "      <td>33.500000</td>\n",
       "      <td>5.200000</td>\n",
       "      <td>4.000000</td>\n",
       "      <td>3.000000</td>\n",
       "    </tr>\n",
       "  </tbody>\n",
       "</table>\n",
       "</div>"
      ],
      "text/plain": [
       "                y       width      weight       color       spine\n",
       "count  173.000000  173.000000  173.000000  173.000000  173.000000\n",
       "mean     0.641618   26.298844    2.437191    2.439306    2.485549\n",
       "std      0.480917    2.109061    0.577025    0.801933    0.825516\n",
       "min      0.000000   21.000000    1.200000    1.000000    1.000000\n",
       "25%      0.000000   24.900000    2.000000    2.000000    2.000000\n",
       "50%      1.000000   26.100000    2.350000    2.000000    3.000000\n",
       "75%      1.000000   27.700000    2.850000    3.000000    3.000000\n",
       "max      1.000000   33.500000    5.200000    4.000000    3.000000"
      ]
     },
     "metadata": {},
     "output_type": "display_data"
    }
   ],
   "source": [
    "crabs = pd.read_csv(\"data/crabs.txt\", sep=\"\\s+\")\n",
    "display(crabs.head())\n",
    "display(crabs.describe())"
   ]
  },
  {
   "cell_type": "markdown",
   "metadata": {},
   "source": [
    "**a)** Since we are interested in the *probability* of presence of the satellites, a suitable model could be *logistic regression*. Its prediction is a quantity between 0 and 1 which suits very well for probability estimations. Moreover, it works the best when the outcome is binary because it saturates quickly with amount of confidence."
   ]
  },
  {
   "cell_type": "code",
   "execution_count": 3,
   "metadata": {},
   "outputs": [
    {
     "name": "stdout",
     "output_type": "stream",
     "text": [
      "Optimization terminated successfully.\n",
      "         Current function value: 0.562002\n",
      "         Iterations 6\n"
     ]
    }
   ],
   "source": [
    "crabs_model_width = sma.Logit(crabs[\"y\"], crabs[[\"width\"]].assign(intercept=1)).fit()"
   ]
  },
  {
   "cell_type": "code",
   "execution_count": 4,
   "metadata": {},
   "outputs": [
    {
     "data": {
      "text/html": [
       "<table class=\"simpletable\">\n",
       "<caption>Logit Regression Results</caption>\n",
       "<tr>\n",
       "  <th>Dep. Variable:</th>           <td>y</td>        <th>  No. Observations:  </th>  <td>   173</td>  \n",
       "</tr>\n",
       "<tr>\n",
       "  <th>Model:</th>                 <td>Logit</td>      <th>  Df Residuals:      </th>  <td>   171</td>  \n",
       "</tr>\n",
       "<tr>\n",
       "  <th>Method:</th>                 <td>MLE</td>       <th>  Df Model:          </th>  <td>     1</td>  \n",
       "</tr>\n",
       "<tr>\n",
       "  <th>Date:</th>            <td>Tue, 07 Apr 2020</td> <th>  Pseudo R-squ.:     </th>  <td>0.1387</td>  \n",
       "</tr>\n",
       "<tr>\n",
       "  <th>Time:</th>                <td>10:19:33</td>     <th>  Log-Likelihood:    </th> <td> -97.226</td> \n",
       "</tr>\n",
       "<tr>\n",
       "  <th>converged:</th>             <td>True</td>       <th>  LL-Null:           </th> <td> -112.88</td> \n",
       "</tr>\n",
       "<tr>\n",
       "  <th>Covariance Type:</th>     <td>nonrobust</td>    <th>  LLR p-value:       </th> <td>2.204e-08</td>\n",
       "</tr>\n",
       "</table>\n",
       "<table class=\"simpletable\">\n",
       "<tr>\n",
       "      <td></td>         <th>coef</th>     <th>std err</th>      <th>z</th>      <th>P>|z|</th>  <th>[0.025</th>    <th>0.975]</th>  \n",
       "</tr>\n",
       "<tr>\n",
       "  <th>width</th>     <td>    0.4972</td> <td>    0.102</td> <td>    4.887</td> <td> 0.000</td> <td>    0.298</td> <td>    0.697</td>\n",
       "</tr>\n",
       "<tr>\n",
       "  <th>intercept</th> <td>  -12.3508</td> <td>    2.629</td> <td>   -4.698</td> <td> 0.000</td> <td>  -17.503</td> <td>   -7.199</td>\n",
       "</tr>\n",
       "</table>"
      ],
      "text/plain": [
       "<class 'statsmodels.iolib.summary.Summary'>\n",
       "\"\"\"\n",
       "                           Logit Regression Results                           \n",
       "==============================================================================\n",
       "Dep. Variable:                      y   No. Observations:                  173\n",
       "Model:                          Logit   Df Residuals:                      171\n",
       "Method:                           MLE   Df Model:                            1\n",
       "Date:                Tue, 07 Apr 2020   Pseudo R-squ.:                  0.1387\n",
       "Time:                        10:19:33   Log-Likelihood:                -97.226\n",
       "converged:                       True   LL-Null:                       -112.88\n",
       "Covariance Type:            nonrobust   LLR p-value:                 2.204e-08\n",
       "==============================================================================\n",
       "                 coef    std err          z      P>|z|      [0.025      0.975]\n",
       "------------------------------------------------------------------------------\n",
       "width          0.4972      0.102      4.887      0.000       0.298       0.697\n",
       "intercept    -12.3508      2.629     -4.698      0.000     -17.503      -7.199\n",
       "==============================================================================\n",
       "\"\"\""
      ]
     },
     "execution_count": 4,
     "metadata": {},
     "output_type": "execute_result"
    }
   ],
   "source": [
    "crabs_model_width.summary()"
   ]
  },
  {
   "cell_type": "markdown",
   "metadata": {},
   "source": [
    "**b)** Odds: $\\frac{p}{1-p}$ in case of the logistic regression is $\\mathrm{e}^{\\sum_i a_i x_i}$ (assuming $x_0 = 1$)\n",
    "\n",
    "Consequently, odds ratio is a ratio of exponents above. In case of unit increase of $x_i$, odds ratio is just $e^{a_i}$"
   ]
  },
  {
   "cell_type": "code",
   "execution_count": 5,
   "metadata": {},
   "outputs": [
    {
     "data": {
      "text/plain": [
       "width    1.644162\n",
       "dtype: float64"
      ]
     },
     "execution_count": 5,
     "metadata": {},
     "output_type": "execute_result"
    }
   ],
   "source": [
    "np.exp(crabs_model_width.params[[\"width\"]])"
   ]
  },
  {
   "cell_type": "markdown",
   "metadata": {},
   "source": [
    "Odds ratio in our case is not the best approximation for the relative risk because the approximation works well when we can neglect odds in comparison to $1$ in the odds ration expression (then odds ratio looks like risk ratio). We operate on the data with crab widths ~ $24~cm$, while width coefficient is close to $0.5$ and intercept is close to $-12$. Regarding these numbers, we estimate the value of odds ($e^{~0} \\approx 1$) as close to $1$. It is unacceptable to neglect it in the expression for $p$: $p = \\frac{e^{\\beta_i x_i}}{1 - e^{\\beta_i x_i}}$"
   ]
  },
  {
   "cell_type": "markdown",
   "metadata": {},
   "source": [
    "We can find confidence interval for odds ratio by substituting upper and lower CI boundary for the width coefficient value: $[e^{a_{lower}}, e^{a_{upper}}]$"
   ]
  },
  {
   "cell_type": "code",
   "execution_count": 6,
   "metadata": {},
   "outputs": [
    {
     "data": {
      "text/html": [
       "<div>\n",
       "<style scoped>\n",
       "    .dataframe tbody tr th:only-of-type {\n",
       "        vertical-align: middle;\n",
       "    }\n",
       "\n",
       "    .dataframe tbody tr th {\n",
       "        vertical-align: top;\n",
       "    }\n",
       "\n",
       "    .dataframe thead th {\n",
       "        text-align: right;\n",
       "    }\n",
       "</style>\n",
       "<table border=\"1\" class=\"dataframe\">\n",
       "  <thead>\n",
       "    <tr style=\"text-align: right;\">\n",
       "      <th></th>\n",
       "      <th>lower OR</th>\n",
       "      <th>upper OR</th>\n",
       "    </tr>\n",
       "  </thead>\n",
       "  <tbody>\n",
       "    <tr>\n",
       "      <th>width</th>\n",
       "      <td>1.346935</td>\n",
       "      <td>2.006977</td>\n",
       "    </tr>\n",
       "  </tbody>\n",
       "</table>\n",
       "</div>"
      ],
      "text/plain": [
       "       lower OR  upper OR\n",
       "width  1.346935  2.006977"
      ]
     },
     "execution_count": 6,
     "metadata": {},
     "output_type": "execute_result"
    }
   ],
   "source": [
    "# 95% confidence interval for width odds\n",
    "np.exp(crabs_model_width.conf_int(0.05).loc[[\"width\"]].rename(columns={0: \"lower OR\", 1: \"upper OR\"}))"
   ]
  },
  {
   "cell_type": "markdown",
   "metadata": {},
   "source": [
    "Odds ratio 95% confidence interval does not wrap $1$, it means that effect of width is significant in the model."
   ]
  },
  {
   "cell_type": "markdown",
   "metadata": {},
   "source": [
    "**c)**"
   ]
  },
  {
   "cell_type": "markdown",
   "metadata": {},
   "source": [
    "Logistic regression model for weight exclusively"
   ]
  },
  {
   "cell_type": "code",
   "execution_count": 7,
   "metadata": {},
   "outputs": [
    {
     "name": "stdout",
     "output_type": "stream",
     "text": [
      "Optimization terminated successfully.\n",
      "         Current function value: 0.565714\n",
      "         Iterations 6\n"
     ]
    },
    {
     "data": {
      "text/html": [
       "<table class=\"simpletable\">\n",
       "<caption>Logit Regression Results</caption>\n",
       "<tr>\n",
       "  <th>Dep. Variable:</th>           <td>y</td>        <th>  No. Observations:  </th>  <td>   173</td>  \n",
       "</tr>\n",
       "<tr>\n",
       "  <th>Model:</th>                 <td>Logit</td>      <th>  Df Residuals:      </th>  <td>   171</td>  \n",
       "</tr>\n",
       "<tr>\n",
       "  <th>Method:</th>                 <td>MLE</td>       <th>  Df Model:          </th>  <td>     1</td>  \n",
       "</tr>\n",
       "<tr>\n",
       "  <th>Date:</th>            <td>Tue, 07 Apr 2020</td> <th>  Pseudo R-squ.:     </th>  <td>0.1330</td>  \n",
       "</tr>\n",
       "<tr>\n",
       "  <th>Time:</th>                <td>10:19:33</td>     <th>  Log-Likelihood:    </th> <td> -97.869</td> \n",
       "</tr>\n",
       "<tr>\n",
       "  <th>converged:</th>             <td>True</td>       <th>  LL-Null:           </th> <td> -112.88</td> \n",
       "</tr>\n",
       "<tr>\n",
       "  <th>Covariance Type:</th>     <td>nonrobust</td>    <th>  LLR p-value:       </th> <td>4.273e-08</td>\n",
       "</tr>\n",
       "</table>\n",
       "<table class=\"simpletable\">\n",
       "<tr>\n",
       "      <td></td>         <th>coef</th>     <th>std err</th>      <th>z</th>      <th>P>|z|</th>  <th>[0.025</th>    <th>0.975]</th>  \n",
       "</tr>\n",
       "<tr>\n",
       "  <th>weight</th>    <td>    1.8151</td> <td>    0.377</td> <td>    4.819</td> <td> 0.000</td> <td>    1.077</td> <td>    2.553</td>\n",
       "</tr>\n",
       "<tr>\n",
       "  <th>intercept</th> <td>   -3.6947</td> <td>    0.880</td> <td>   -4.198</td> <td> 0.000</td> <td>   -5.420</td> <td>   -1.970</td>\n",
       "</tr>\n",
       "</table>"
      ],
      "text/plain": [
       "<class 'statsmodels.iolib.summary.Summary'>\n",
       "\"\"\"\n",
       "                           Logit Regression Results                           \n",
       "==============================================================================\n",
       "Dep. Variable:                      y   No. Observations:                  173\n",
       "Model:                          Logit   Df Residuals:                      171\n",
       "Method:                           MLE   Df Model:                            1\n",
       "Date:                Tue, 07 Apr 2020   Pseudo R-squ.:                  0.1330\n",
       "Time:                        10:19:33   Log-Likelihood:                -97.869\n",
       "converged:                       True   LL-Null:                       -112.88\n",
       "Covariance Type:            nonrobust   LLR p-value:                 4.273e-08\n",
       "==============================================================================\n",
       "                 coef    std err          z      P>|z|      [0.025      0.975]\n",
       "------------------------------------------------------------------------------\n",
       "weight         1.8151      0.377      4.819      0.000       1.077       2.553\n",
       "intercept     -3.6947      0.880     -4.198      0.000      -5.420      -1.970\n",
       "==============================================================================\n",
       "\"\"\""
      ]
     },
     "execution_count": 7,
     "metadata": {},
     "output_type": "execute_result"
    }
   ],
   "source": [
    "sma.Logit(crabs[\"y\"], crabs[[\"weight\"]].assign(intercept=1)).fit().summary()"
   ]
  },
  {
   "cell_type": "markdown",
   "metadata": {},
   "source": [
    "Logistic regression for `color` exclusively"
   ]
  },
  {
   "cell_type": "code",
   "execution_count": 8,
   "metadata": {},
   "outputs": [
    {
     "name": "stdout",
     "output_type": "stream",
     "text": [
      "Optimization terminated successfully.\n",
      "         Current function value: 0.616468\n",
      "         Iterations 5\n"
     ]
    },
    {
     "data": {
      "text/html": [
       "<table class=\"simpletable\">\n",
       "<caption>Logit Regression Results</caption>\n",
       "<tr>\n",
       "  <th>Dep. Variable:</th>           <td>y</td>        <th>  No. Observations:  </th>  <td>   173</td>  \n",
       "</tr>\n",
       "<tr>\n",
       "  <th>Model:</th>                 <td>Logit</td>      <th>  Df Residuals:      </th>  <td>   171</td>  \n",
       "</tr>\n",
       "<tr>\n",
       "  <th>Method:</th>                 <td>MLE</td>       <th>  Df Model:          </th>  <td>     1</td>  \n",
       "</tr>\n",
       "<tr>\n",
       "  <th>Date:</th>            <td>Tue, 07 Apr 2020</td> <th>  Pseudo R-squ.:     </th>  <td>0.05519</td> \n",
       "</tr>\n",
       "<tr>\n",
       "  <th>Time:</th>                <td>10:19:33</td>     <th>  Log-Likelihood:    </th> <td> -106.65</td> \n",
       "</tr>\n",
       "<tr>\n",
       "  <th>converged:</th>             <td>True</td>       <th>  LL-Null:           </th> <td> -112.88</td> \n",
       "</tr>\n",
       "<tr>\n",
       "  <th>Covariance Type:</th>     <td>nonrobust</td>    <th>  LLR p-value:       </th> <td>0.0004156</td>\n",
       "</tr>\n",
       "</table>\n",
       "<table class=\"simpletable\">\n",
       "<tr>\n",
       "      <td></td>         <th>coef</th>     <th>std err</th>      <th>z</th>      <th>P>|z|</th>  <th>[0.025</th>    <th>0.975]</th>  \n",
       "</tr>\n",
       "<tr>\n",
       "  <th>Intercept</th> <td>    2.3635</td> <td>    0.555</td> <td>    4.257</td> <td> 0.000</td> <td>    1.275</td> <td>    3.452</td>\n",
       "</tr>\n",
       "<tr>\n",
       "  <th>color</th>     <td>   -0.7147</td> <td>    0.209</td> <td>   -3.412</td> <td> 0.001</td> <td>   -1.125</td> <td>   -0.304</td>\n",
       "</tr>\n",
       "</table>"
      ],
      "text/plain": [
       "<class 'statsmodels.iolib.summary.Summary'>\n",
       "\"\"\"\n",
       "                           Logit Regression Results                           \n",
       "==============================================================================\n",
       "Dep. Variable:                      y   No. Observations:                  173\n",
       "Model:                          Logit   Df Residuals:                      171\n",
       "Method:                           MLE   Df Model:                            1\n",
       "Date:                Tue, 07 Apr 2020   Pseudo R-squ.:                 0.05519\n",
       "Time:                        10:19:33   Log-Likelihood:                -106.65\n",
       "converged:                       True   LL-Null:                       -112.88\n",
       "Covariance Type:            nonrobust   LLR p-value:                 0.0004156\n",
       "==============================================================================\n",
       "                 coef    std err          z      P>|z|      [0.025      0.975]\n",
       "------------------------------------------------------------------------------\n",
       "Intercept      2.3635      0.555      4.257      0.000       1.275       3.452\n",
       "color         -0.7147      0.209     -3.412      0.001      -1.125      -0.304\n",
       "==============================================================================\n",
       "\"\"\""
      ]
     },
     "execution_count": 8,
     "metadata": {},
     "output_type": "execute_result"
    }
   ],
   "source": [
    "smf.logit(\"y~color\", data=crabs).fit().summary()"
   ]
  },
  {
   "cell_type": "markdown",
   "metadata": {},
   "source": [
    "We also tried to fit `color` as a categorical variable, but when it showed monotoneous pattern depending on the level of darkness, we decided to switch to continuous variable letting the logistic regression to approximate between given discrete values. Such approach gave higher significance and reduced number of degrees of freedom. The result can be confirmed by the deviance test between categorical and numerical models"
   ]
  },
  {
   "cell_type": "markdown",
   "metadata": {},
   "source": [
    "Logistic regression for `spine` exclusively"
   ]
  },
  {
   "cell_type": "code",
   "execution_count": 9,
   "metadata": {},
   "outputs": [
    {
     "name": "stdout",
     "output_type": "stream",
     "text": [
      "Optimization terminated successfully.\n",
      "         Current function value: 0.645180\n",
      "         Iterations 5\n"
     ]
    },
    {
     "data": {
      "text/html": [
       "<table class=\"simpletable\">\n",
       "<caption>Logit Regression Results</caption>\n",
       "<tr>\n",
       "  <th>Dep. Variable:</th>           <td>y</td>        <th>  No. Observations:  </th>  <td>   173</td> \n",
       "</tr>\n",
       "<tr>\n",
       "  <th>Model:</th>                 <td>Logit</td>      <th>  Df Residuals:      </th>  <td>   170</td> \n",
       "</tr>\n",
       "<tr>\n",
       "  <th>Method:</th>                 <td>MLE</td>       <th>  Df Model:          </th>  <td>     2</td> \n",
       "</tr>\n",
       "<tr>\n",
       "  <th>Date:</th>            <td>Tue, 07 Apr 2020</td> <th>  Pseudo R-squ.:     </th>  <td>0.01119</td>\n",
       "</tr>\n",
       "<tr>\n",
       "  <th>Time:</th>                <td>10:19:33</td>     <th>  Log-Likelihood:    </th> <td> -111.62</td>\n",
       "</tr>\n",
       "<tr>\n",
       "  <th>converged:</th>             <td>True</td>       <th>  LL-Null:           </th> <td> -112.88</td>\n",
       "</tr>\n",
       "<tr>\n",
       "  <th>Covariance Type:</th>     <td>nonrobust</td>    <th>  LLR p-value:       </th>  <td>0.2828</td> \n",
       "</tr>\n",
       "</table>\n",
       "<table class=\"simpletable\">\n",
       "<tr>\n",
       "        <td></td>           <th>coef</th>     <th>std err</th>      <th>z</th>      <th>P>|z|</th>  <th>[0.025</th>    <th>0.975]</th>  \n",
       "</tr>\n",
       "<tr>\n",
       "  <th>Intercept</th>     <td>    0.8602</td> <td>    0.360</td> <td>    2.392</td> <td> 0.017</td> <td>    0.155</td> <td>    1.565</td>\n",
       "</tr>\n",
       "<tr>\n",
       "  <th>C(spine)[T.2]</th> <td>   -0.9937</td> <td>    0.630</td> <td>   -1.577</td> <td> 0.115</td> <td>   -2.229</td> <td>    0.242</td>\n",
       "</tr>\n",
       "<tr>\n",
       "  <th>C(spine)[T.3]</th> <td>   -0.2647</td> <td>    0.407</td> <td>   -0.651</td> <td> 0.515</td> <td>   -1.062</td> <td>    0.533</td>\n",
       "</tr>\n",
       "</table>"
      ],
      "text/plain": [
       "<class 'statsmodels.iolib.summary.Summary'>\n",
       "\"\"\"\n",
       "                           Logit Regression Results                           \n",
       "==============================================================================\n",
       "Dep. Variable:                      y   No. Observations:                  173\n",
       "Model:                          Logit   Df Residuals:                      170\n",
       "Method:                           MLE   Df Model:                            2\n",
       "Date:                Tue, 07 Apr 2020   Pseudo R-squ.:                 0.01119\n",
       "Time:                        10:19:33   Log-Likelihood:                -111.62\n",
       "converged:                       True   LL-Null:                       -112.88\n",
       "Covariance Type:            nonrobust   LLR p-value:                    0.2828\n",
       "=================================================================================\n",
       "                    coef    std err          z      P>|z|      [0.025      0.975]\n",
       "---------------------------------------------------------------------------------\n",
       "Intercept         0.8602      0.360      2.392      0.017       0.155       1.565\n",
       "C(spine)[T.2]    -0.9937      0.630     -1.577      0.115      -2.229       0.242\n",
       "C(spine)[T.3]    -0.2647      0.407     -0.651      0.515      -1.062       0.533\n",
       "=================================================================================\n",
       "\"\"\""
      ]
     },
     "execution_count": 9,
     "metadata": {},
     "output_type": "execute_result"
    }
   ],
   "source": [
    "smf.logit(\"y~C(spine)\", data=crabs).fit().summary()"
   ]
  },
  {
   "cell_type": "markdown",
   "metadata": {},
   "source": [
    "Neither of approches for using `spine` as a predictor variable show significant results, so we suggest to not include it into the general model."
   ]
  },
  {
   "cell_type": "markdown",
   "metadata": {},
   "source": [
    "**d)** Let's fit logistic regression for all given variables together"
   ]
  },
  {
   "cell_type": "code",
   "execution_count": 10,
   "metadata": {},
   "outputs": [
    {
     "name": "stdout",
     "output_type": "stream",
     "text": [
      "Optimization terminated successfully.\n",
      "         Current function value: 0.538823\n",
      "         Iterations 6\n"
     ]
    },
    {
     "data": {
      "text/html": [
       "<table class=\"simpletable\">\n",
       "<caption>Logit Regression Results</caption>\n",
       "<tr>\n",
       "  <th>Dep. Variable:</th>           <td>y</td>        <th>  No. Observations:  </th>  <td>   173</td>  \n",
       "</tr>\n",
       "<tr>\n",
       "  <th>Model:</th>                 <td>Logit</td>      <th>  Df Residuals:      </th>  <td>   167</td>  \n",
       "</tr>\n",
       "<tr>\n",
       "  <th>Method:</th>                 <td>MLE</td>       <th>  Df Model:          </th>  <td>     5</td>  \n",
       "</tr>\n",
       "<tr>\n",
       "  <th>Date:</th>            <td>Tue, 07 Apr 2020</td> <th>  Pseudo R-squ.:     </th>  <td>0.1742</td>  \n",
       "</tr>\n",
       "<tr>\n",
       "  <th>Time:</th>                <td>10:19:33</td>     <th>  Log-Likelihood:    </th> <td> -93.216</td> \n",
       "</tr>\n",
       "<tr>\n",
       "  <th>converged:</th>             <td>True</td>       <th>  LL-Null:           </th> <td> -112.88</td> \n",
       "</tr>\n",
       "<tr>\n",
       "  <th>Covariance Type:</th>     <td>nonrobust</td>    <th>  LLR p-value:       </th> <td>2.042e-07</td>\n",
       "</tr>\n",
       "</table>\n",
       "<table class=\"simpletable\">\n",
       "<tr>\n",
       "        <td></td>           <th>coef</th>     <th>std err</th>      <th>z</th>      <th>P>|z|</th>  <th>[0.025</th>    <th>0.975]</th>  \n",
       "</tr>\n",
       "<tr>\n",
       "  <th>Intercept</th>     <td>   -6.8295</td> <td>    3.885</td> <td>   -1.758</td> <td> 0.079</td> <td>  -14.444</td> <td>    0.785</td>\n",
       "</tr>\n",
       "<tr>\n",
       "  <th>C(spine)[T.2]</th> <td>   -0.0448</td> <td>    0.705</td> <td>   -0.064</td> <td> 0.949</td> <td>   -1.427</td> <td>    1.337</td>\n",
       "</tr>\n",
       "<tr>\n",
       "  <th>C(spine)[T.3]</th> <td>    0.5033</td> <td>    0.491</td> <td>    1.026</td> <td> 0.305</td> <td>   -0.458</td> <td>    1.465</td>\n",
       "</tr>\n",
       "<tr>\n",
       "  <th>width</th>         <td>    0.2552</td> <td>    0.193</td> <td>    1.320</td> <td> 0.187</td> <td>   -0.124</td> <td>    0.634</td>\n",
       "</tr>\n",
       "<tr>\n",
       "  <th>weight</th>        <td>    0.8208</td> <td>    0.696</td> <td>    1.180</td> <td> 0.238</td> <td>   -0.543</td> <td>    2.184</td>\n",
       "</tr>\n",
       "<tr>\n",
       "  <th>color</th>         <td>   -0.6040</td> <td>    0.243</td> <td>   -2.483</td> <td> 0.013</td> <td>   -1.081</td> <td>   -0.127</td>\n",
       "</tr>\n",
       "</table>"
      ],
      "text/plain": [
       "<class 'statsmodels.iolib.summary.Summary'>\n",
       "\"\"\"\n",
       "                           Logit Regression Results                           \n",
       "==============================================================================\n",
       "Dep. Variable:                      y   No. Observations:                  173\n",
       "Model:                          Logit   Df Residuals:                      167\n",
       "Method:                           MLE   Df Model:                            5\n",
       "Date:                Tue, 07 Apr 2020   Pseudo R-squ.:                  0.1742\n",
       "Time:                        10:19:33   Log-Likelihood:                -93.216\n",
       "converged:                       True   LL-Null:                       -112.88\n",
       "Covariance Type:            nonrobust   LLR p-value:                 2.042e-07\n",
       "=================================================================================\n",
       "                    coef    std err          z      P>|z|      [0.025      0.975]\n",
       "---------------------------------------------------------------------------------\n",
       "Intercept        -6.8295      3.885     -1.758      0.079     -14.444       0.785\n",
       "C(spine)[T.2]    -0.0448      0.705     -0.064      0.949      -1.427       1.337\n",
       "C(spine)[T.3]     0.5033      0.491      1.026      0.305      -0.458       1.465\n",
       "width             0.2552      0.193      1.320      0.187      -0.124       0.634\n",
       "weight            0.8208      0.696      1.180      0.238      -0.543       2.184\n",
       "color            -0.6040      0.243     -2.483      0.013      -1.081      -0.127\n",
       "=================================================================================\n",
       "\"\"\""
      ]
     },
     "execution_count": 10,
     "metadata": {},
     "output_type": "execute_result"
    }
   ],
   "source": [
    "smf.logit(\"y~width+weight+C(spine)+color\", data=crabs).fit().summary()"
   ]
  },
  {
   "cell_type": "markdown",
   "metadata": {},
   "source": [
    "Such a generic model shows much less significant effects. The reason for this might be hidden in the explicit correlation between `width` and `weight`. Also we included insignificant spine predictor which introduces noise into the model. Let's get rid of both of them and see what happens"
   ]
  },
  {
   "cell_type": "code",
   "execution_count": 11,
   "metadata": {},
   "outputs": [
    {
     "name": "stdout",
     "output_type": "stream",
     "text": [
      "Optimization terminated successfully.\n",
      "         Current function value: 0.546593\n",
      "         Iterations 6\n"
     ]
    },
    {
     "data": {
      "text/html": [
       "<table class=\"simpletable\">\n",
       "<caption>Logit Regression Results</caption>\n",
       "<tr>\n",
       "  <th>Dep. Variable:</th>           <td>y</td>        <th>  No. Observations:  </th>  <td>   173</td>  \n",
       "</tr>\n",
       "<tr>\n",
       "  <th>Model:</th>                 <td>Logit</td>      <th>  Df Residuals:      </th>  <td>   170</td>  \n",
       "</tr>\n",
       "<tr>\n",
       "  <th>Method:</th>                 <td>MLE</td>       <th>  Df Model:          </th>  <td>     2</td>  \n",
       "</tr>\n",
       "<tr>\n",
       "  <th>Date:</th>            <td>Tue, 07 Apr 2020</td> <th>  Pseudo R-squ.:     </th>  <td>0.1623</td>  \n",
       "</tr>\n",
       "<tr>\n",
       "  <th>Time:</th>                <td>10:19:33</td>     <th>  Log-Likelihood:    </th> <td> -94.561</td> \n",
       "</tr>\n",
       "<tr>\n",
       "  <th>converged:</th>             <td>True</td>       <th>  LL-Null:           </th> <td> -112.88</td> \n",
       "</tr>\n",
       "<tr>\n",
       "  <th>Covariance Type:</th>     <td>nonrobust</td>    <th>  LLR p-value:       </th> <td>1.107e-08</td>\n",
       "</tr>\n",
       "</table>\n",
       "<table class=\"simpletable\">\n",
       "<tr>\n",
       "      <td></td>         <th>coef</th>     <th>std err</th>      <th>z</th>      <th>P>|z|</th>  <th>[0.025</th>    <th>0.975]</th>  \n",
       "</tr>\n",
       "<tr>\n",
       "  <th>Intercept</th> <td>  -10.0708</td> <td>    2.807</td> <td>   -3.588</td> <td> 0.000</td> <td>  -15.572</td> <td>   -4.569</td>\n",
       "</tr>\n",
       "<tr>\n",
       "  <th>width</th>     <td>    0.4583</td> <td>    0.104</td> <td>    4.406</td> <td> 0.000</td> <td>    0.254</td> <td>    0.662</td>\n",
       "</tr>\n",
       "<tr>\n",
       "  <th>color</th>     <td>   -0.5090</td> <td>    0.224</td> <td>   -2.276</td> <td> 0.023</td> <td>   -0.947</td> <td>   -0.071</td>\n",
       "</tr>\n",
       "</table>"
      ],
      "text/plain": [
       "<class 'statsmodels.iolib.summary.Summary'>\n",
       "\"\"\"\n",
       "                           Logit Regression Results                           \n",
       "==============================================================================\n",
       "Dep. Variable:                      y   No. Observations:                  173\n",
       "Model:                          Logit   Df Residuals:                      170\n",
       "Method:                           MLE   Df Model:                            2\n",
       "Date:                Tue, 07 Apr 2020   Pseudo R-squ.:                  0.1623\n",
       "Time:                        10:19:33   Log-Likelihood:                -94.561\n",
       "converged:                       True   LL-Null:                       -112.88\n",
       "Covariance Type:            nonrobust   LLR p-value:                 1.107e-08\n",
       "==============================================================================\n",
       "                 coef    std err          z      P>|z|      [0.025      0.975]\n",
       "------------------------------------------------------------------------------\n",
       "Intercept    -10.0708      2.807     -3.588      0.000     -15.572      -4.569\n",
       "width          0.4583      0.104      4.406      0.000       0.254       0.662\n",
       "color         -0.5090      0.224     -2.276      0.023      -0.947      -0.071\n",
       "==============================================================================\n",
       "\"\"\""
      ]
     },
     "execution_count": 11,
     "metadata": {},
     "output_type": "execute_result"
    }
   ],
   "source": [
    "smf.logit(\"y~width+color\", data=crabs).fit().summary()"
   ]
  },
  {
   "cell_type": "markdown",
   "metadata": {},
   "source": [
    "It turns out that significant of `width` and `color` has increased when we removed noise from the model. Moreover we made it more robust by reducing number of degrees of freedom. Currently, both effects are significant within $95\\%$ confidence limit."
   ]
  },
  {
   "cell_type": "markdown",
   "metadata": {},
   "source": [
    "**d)** Finally, let's test our model for interactions. For this we will use the rough approximation that if interactions were included, log-likelihood will become $0$, meaning our model becomes perfect. Then we test null hypothesis that coefficients for interaction terms are all equal to zero. Then deviance test will give a statistic which will be distributed as a $\\chi^2$ with number of degrees of freedom comparable to number of data points (because we expect that if null-hypothesis is true, interaction terms will introduce $~n$ noisy contributions) "
   ]
  },
  {
   "cell_type": "code",
   "execution_count": 12,
   "metadata": {},
   "outputs": [
    {
     "data": {
      "text/plain": [
       "0.16364845796092442"
      ]
     },
     "execution_count": 12,
     "metadata": {},
     "output_type": "execute_result"
    }
   ],
   "source": [
    "# p-value for deviance test for interactions\n",
    "1 - sp.stats.chi2(170).cdf(2*(0 - (-94)))"
   ]
  },
  {
   "cell_type": "markdown",
   "metadata": {},
   "source": [
    "Here we used the value for test statistics based on the log-likelihood of the reduced model (`width` and `color`), but the log-likelihood does not differ dramatically from other models fitted. The general conclusion is that we don't have enough evidence to exclude null hypothesis (the model without interactions), in other words we don't have significant arguments for including interactions to the model."
   ]
  },
  {
   "cell_type": "markdown",
   "metadata": {},
   "source": [
    "### Problem 2"
   ]
  },
  {
   "cell_type": "code",
   "execution_count": 13,
   "metadata": {},
   "outputs": [
    {
     "data": {
      "text/html": [
       "<div>\n",
       "<style scoped>\n",
       "    .dataframe tbody tr th:only-of-type {\n",
       "        vertical-align: middle;\n",
       "    }\n",
       "\n",
       "    .dataframe tbody tr th {\n",
       "        vertical-align: top;\n",
       "    }\n",
       "\n",
       "    .dataframe thead th {\n",
       "        text-align: right;\n",
       "    }\n",
       "</style>\n",
       "<table border=\"1\" class=\"dataframe\">\n",
       "  <thead>\n",
       "    <tr style=\"text-align: right;\">\n",
       "      <th></th>\n",
       "      <th>Total2000</th>\n",
       "      <th>Total1996</th>\n",
       "      <th>Log_population</th>\n",
       "      <th>Log_athletes</th>\n",
       "      <th>GDP_per_cap</th>\n",
       "    </tr>\n",
       "    <tr>\n",
       "      <th>Country</th>\n",
       "      <th></th>\n",
       "      <th></th>\n",
       "      <th></th>\n",
       "      <th></th>\n",
       "      <th></th>\n",
       "    </tr>\n",
       "  </thead>\n",
       "  <tbody>\n",
       "    <tr>\n",
       "      <th>United States</th>\n",
       "      <td>97</td>\n",
       "      <td>101</td>\n",
       "      <td>12.520986</td>\n",
       "      <td>6.498282</td>\n",
       "      <td>27.614331</td>\n",
       "    </tr>\n",
       "    <tr>\n",
       "      <th>Russia</th>\n",
       "      <td>88</td>\n",
       "      <td>63</td>\n",
       "      <td>11.901136</td>\n",
       "      <td>6.148468</td>\n",
       "      <td>2.414843</td>\n",
       "    </tr>\n",
       "    <tr>\n",
       "      <th>China</th>\n",
       "      <td>59</td>\n",
       "      <td>50</td>\n",
       "      <td>14.043202</td>\n",
       "      <td>5.686975</td>\n",
       "      <td>0.721574</td>\n",
       "    </tr>\n",
       "    <tr>\n",
       "      <th>Australia</th>\n",
       "      <td>58</td>\n",
       "      <td>41</td>\n",
       "      <td>9.826607</td>\n",
       "      <td>6.484635</td>\n",
       "      <td>19.859719</td>\n",
       "    </tr>\n",
       "    <tr>\n",
       "      <th>Germany</th>\n",
       "      <td>57</td>\n",
       "      <td>65</td>\n",
       "      <td>11.316095</td>\n",
       "      <td>6.208590</td>\n",
       "      <td>28.790279</td>\n",
       "    </tr>\n",
       "  </tbody>\n",
       "</table>\n",
       "</div>"
      ],
      "text/plain": [
       "               Total2000  Total1996  Log_population  Log_athletes  GDP_per_cap\n",
       "Country                                                                       \n",
       "United States         97        101       12.520986      6.498282    27.614331\n",
       "Russia                88         63       11.901136      6.148468     2.414843\n",
       "China                 59         50       14.043202      5.686975     0.721574\n",
       "Australia             58         41        9.826607      6.484635    19.859719\n",
       "Germany               57         65       11.316095      6.208590    28.790279"
      ]
     },
     "metadata": {},
     "output_type": "display_data"
    },
    {
     "data": {
      "text/html": [
       "<div>\n",
       "<style scoped>\n",
       "    .dataframe tbody tr th:only-of-type {\n",
       "        vertical-align: middle;\n",
       "    }\n",
       "\n",
       "    .dataframe tbody tr th {\n",
       "        vertical-align: top;\n",
       "    }\n",
       "\n",
       "    .dataframe thead th {\n",
       "        text-align: right;\n",
       "    }\n",
       "</style>\n",
       "<table border=\"1\" class=\"dataframe\">\n",
       "  <thead>\n",
       "    <tr style=\"text-align: right;\">\n",
       "      <th></th>\n",
       "      <th>Total2000</th>\n",
       "      <th>Total1996</th>\n",
       "      <th>Log_population</th>\n",
       "      <th>Log_athletes</th>\n",
       "      <th>GDP_per_cap</th>\n",
       "    </tr>\n",
       "  </thead>\n",
       "  <tbody>\n",
       "    <tr>\n",
       "      <th>count</th>\n",
       "      <td>66.000000</td>\n",
       "      <td>66.000000</td>\n",
       "      <td>66.000000</td>\n",
       "      <td>66.000000</td>\n",
       "      <td>66.000000</td>\n",
       "    </tr>\n",
       "    <tr>\n",
       "      <th>mean</th>\n",
       "      <td>13.833333</td>\n",
       "      <td>12.530303</td>\n",
       "      <td>9.801930</td>\n",
       "      <td>4.619316</td>\n",
       "      <td>11.206068</td>\n",
       "    </tr>\n",
       "    <tr>\n",
       "      <th>std</th>\n",
       "      <td>19.433978</td>\n",
       "      <td>17.981375</td>\n",
       "      <td>1.536087</td>\n",
       "      <td>0.987486</td>\n",
       "      <td>12.600124</td>\n",
       "    </tr>\n",
       "    <tr>\n",
       "      <th>min</th>\n",
       "      <td>1.000000</td>\n",
       "      <td>1.000000</td>\n",
       "      <td>5.690359</td>\n",
       "      <td>1.609438</td>\n",
       "      <td>0.077966</td>\n",
       "    </tr>\n",
       "    <tr>\n",
       "      <th>25%</th>\n",
       "      <td>3.000000</td>\n",
       "      <td>2.000000</td>\n",
       "      <td>8.616626</td>\n",
       "      <td>4.020611</td>\n",
       "      <td>1.384283</td>\n",
       "    </tr>\n",
       "    <tr>\n",
       "      <th>50%</th>\n",
       "      <td>6.000000</td>\n",
       "      <td>6.000000</td>\n",
       "      <td>9.680050</td>\n",
       "      <td>4.642724</td>\n",
       "      <td>3.688832</td>\n",
       "    </tr>\n",
       "    <tr>\n",
       "      <th>75%</th>\n",
       "      <td>14.000000</td>\n",
       "      <td>15.000000</td>\n",
       "      <td>10.927157</td>\n",
       "      <td>5.321787</td>\n",
       "      <td>19.874777</td>\n",
       "    </tr>\n",
       "    <tr>\n",
       "      <th>max</th>\n",
       "      <td>97.000000</td>\n",
       "      <td>101.000000</td>\n",
       "      <td>14.043202</td>\n",
       "      <td>6.498282</td>\n",
       "      <td>44.737688</td>\n",
       "    </tr>\n",
       "  </tbody>\n",
       "</table>\n",
       "</div>"
      ],
      "text/plain": [
       "       Total2000   Total1996  Log_population  Log_athletes  GDP_per_cap\n",
       "count  66.000000   66.000000       66.000000     66.000000    66.000000\n",
       "mean   13.833333   12.530303        9.801930      4.619316    11.206068\n",
       "std    19.433978   17.981375        1.536087      0.987486    12.600124\n",
       "min     1.000000    1.000000        5.690359      1.609438     0.077966\n",
       "25%     3.000000    2.000000        8.616626      4.020611     1.384283\n",
       "50%     6.000000    6.000000        9.680050      4.642724     3.688832\n",
       "75%    14.000000   15.000000       10.927157      5.321787    19.874777\n",
       "max    97.000000  101.000000       14.043202      6.498282    44.737688"
      ]
     },
     "metadata": {},
     "output_type": "display_data"
    }
   ],
   "source": [
    "olympics = pd.read_csv(\"data/olympic.txt\", sep=\"\\t\", index_col=\"Country\")\n",
    "olympics.columns = [c.replace(\".\", \"_\") for c in olympics.columns]\n",
    "display(olympics.head())\n",
    "display(olympics.describe())"
   ]
  },
  {
   "cell_type": "markdown",
   "metadata": {},
   "source": [
    "**a)** As a candidate model for describing the olympic data we choose Poisson model. The reason for this, is that number of medals can be earned throughout the time of olympic championship with some rate $\\lambda$. The latter depends especially on the country and its properties, and is independent of individuals of the same country. Since in the data we are provided with total number of medals per country, in order to normalize rate per athlet (obviously, the more athletes country has the more medals they potentially can win in total) we can introduce the offset into our model: $\\lambda = N_{athletes} \\cdot \\lambda_{athlet}$. Where $\\lambda_{athlet}$ can be modelled as a Poisson variable: $\\lambda = \\mathrm{e}^{\\log{N_{athletes}} + \\sum_i \\beta_i x_i}$ (we assume $x_0 = 1$)"
   ]
  },
  {
   "cell_type": "code",
   "execution_count": 14,
   "metadata": {},
   "outputs": [
    {
     "data": {
      "text/html": [
       "<table class=\"simpletable\">\n",
       "<caption>Generalized Linear Model Regression Results</caption>\n",
       "<tr>\n",
       "  <th>Dep. Variable:</th>       <td>Total2000</td>    <th>  No. Observations:  </th>  <td>    66</td> \n",
       "</tr>\n",
       "<tr>\n",
       "  <th>Model:</th>                  <td>GLM</td>       <th>  Df Residuals:      </th>  <td>    64</td> \n",
       "</tr>\n",
       "<tr>\n",
       "  <th>Model Family:</th>         <td>Poisson</td>     <th>  Df Model:          </th>  <td>     1</td> \n",
       "</tr>\n",
       "<tr>\n",
       "  <th>Link Function:</th>          <td>log</td>       <th>  Scale:             </th> <td>  1.0000</td>\n",
       "</tr>\n",
       "<tr>\n",
       "  <th>Method:</th>                <td>IRLS</td>       <th>  Log-Likelihood:    </th> <td> -251.56</td>\n",
       "</tr>\n",
       "<tr>\n",
       "  <th>Date:</th>            <td>Tue, 07 Apr 2020</td> <th>  Deviance:          </th> <td>  250.44</td>\n",
       "</tr>\n",
       "<tr>\n",
       "  <th>Time:</th>                <td>10:19:33</td>     <th>  Pearson chi2:      </th>  <td>  243.</td> \n",
       "</tr>\n",
       "<tr>\n",
       "  <th>No. Iterations:</th>          <td>5</td>        <th>                     </th>     <td> </td>   \n",
       "</tr>\n",
       "<tr>\n",
       "  <th>Covariance Type:</th>     <td>nonrobust</td>    <th>                     </th>     <td> </td>   \n",
       "</tr>\n",
       "</table>\n",
       "<table class=\"simpletable\">\n",
       "<tr>\n",
       "       <td></td>          <th>coef</th>     <th>std err</th>      <th>z</th>      <th>P>|z|</th>  <th>[0.025</th>    <th>0.975]</th>  \n",
       "</tr>\n",
       "<tr>\n",
       "  <th>Intercept</th>   <td>   -2.3363</td> <td>    0.052</td> <td>  -45.111</td> <td> 0.000</td> <td>   -2.438</td> <td>   -2.235</td>\n",
       "</tr>\n",
       "<tr>\n",
       "  <th>GDP_per_cap</th> <td>   -0.0053</td> <td>    0.003</td> <td>   -1.909</td> <td> 0.056</td> <td>   -0.011</td> <td>    0.000</td>\n",
       "</tr>\n",
       "</table>"
      ],
      "text/plain": [
       "<class 'statsmodels.iolib.summary.Summary'>\n",
       "\"\"\"\n",
       "                 Generalized Linear Model Regression Results                  \n",
       "==============================================================================\n",
       "Dep. Variable:              Total2000   No. Observations:                   66\n",
       "Model:                            GLM   Df Residuals:                       64\n",
       "Model Family:                 Poisson   Df Model:                            1\n",
       "Link Function:                    log   Scale:                          1.0000\n",
       "Method:                          IRLS   Log-Likelihood:                -251.56\n",
       "Date:                Tue, 07 Apr 2020   Deviance:                       250.44\n",
       "Time:                        10:19:33   Pearson chi2:                     243.\n",
       "No. Iterations:                     5                                         \n",
       "Covariance Type:            nonrobust                                         \n",
       "===============================================================================\n",
       "                  coef    std err          z      P>|z|      [0.025      0.975]\n",
       "-------------------------------------------------------------------------------\n",
       "Intercept      -2.3363      0.052    -45.111      0.000      -2.438      -2.235\n",
       "GDP_per_cap    -0.0053      0.003     -1.909      0.056      -0.011       0.000\n",
       "===============================================================================\n",
       "\"\"\""
      ]
     },
     "execution_count": 14,
     "metadata": {},
     "output_type": "execute_result"
    }
   ],
   "source": [
    "olymp_model = sma.GLM.from_formula(\"Total2000~GDP_per_cap\", data=olympics, family=sma.families.Poisson(), offset=olympics[\"Log_athletes\"]).fit()\n",
    "olymp_model.summary()"
   ]
  },
  {
   "cell_type": "markdown",
   "metadata": {},
   "source": [
    "**b)** The reason behind including the `population` is that among larger number of people in the country it is easier to find those suitable for olympics.  After testing the significance of the `population` variable we decided to exclude it regarding it not showing any reasonable effect. So, probably it is not only statistical factor that counts when looking for the great athletes. Maybe the correlation will be more explicit for the countries with more totalitarian regimen (then country can actually pick bright athletes forcefully). Since we have mixed data here, let's exclude `population`.\n",
    "\n",
    "Then, since we normalize on the number of athletes, we do not include this variable (`Log.athletes`) as a predictor.\n",
    "\n",
    "`Total1996` is excluded as well, since it might be a good predictor for 2000's results, but it also might include GDP effects inside of it. Better GDP → more investments in sport, better facilities for training, more work places, etc. So we are not 100% sure this variable is orthogonal to `GDP.per.cap`, thus we exclude it to test GDP significance.\n",
    "\n",
    "We, of course, include `GDP.per.cap` because we are interested in it's significance.\n",
    "\n",
    "**Result**\n",
    "\n",
    "As a result, we are at the edge of rejecting null hypothesis (H0 states that GDP does not affect number of medals) at 95% level. But still we don't have strong evidence towards it."
   ]
  },
  {
   "cell_type": "markdown",
   "metadata": {},
   "source": [
    "**b.2)** To make the story complete, we also present the model that gives better description of the provided data. Now we don't exlcude `Total1996` because it is very helpful for characterizing country's involvement into sports. "
   ]
  },
  {
   "cell_type": "code",
   "execution_count": 15,
   "metadata": {},
   "outputs": [
    {
     "data": {
      "text/html": [
       "<table class=\"simpletable\">\n",
       "<caption>Generalized Linear Model Regression Results</caption>\n",
       "<tr>\n",
       "  <th>Dep. Variable:</th>       <td>Total2000</td>    <th>  No. Observations:  </th>  <td>    66</td> \n",
       "</tr>\n",
       "<tr>\n",
       "  <th>Model:</th>                  <td>GLM</td>       <th>  Df Residuals:      </th>  <td>    62</td> \n",
       "</tr>\n",
       "<tr>\n",
       "  <th>Model Family:</th>         <td>Poisson</td>     <th>  Df Model:          </th>  <td>     3</td> \n",
       "</tr>\n",
       "<tr>\n",
       "  <th>Link Function:</th>          <td>log</td>       <th>  Scale:             </th> <td>  1.0000</td>\n",
       "</tr>\n",
       "<tr>\n",
       "  <th>Method:</th>                <td>IRLS</td>       <th>  Log-Likelihood:    </th> <td> -185.05</td>\n",
       "</tr>\n",
       "<tr>\n",
       "  <th>Date:</th>            <td>Tue, 07 Apr 2020</td> <th>  Deviance:          </th> <td>  117.43</td>\n",
       "</tr>\n",
       "<tr>\n",
       "  <th>Time:</th>                <td>10:19:33</td>     <th>  Pearson chi2:      </th>  <td>  124.</td> \n",
       "</tr>\n",
       "<tr>\n",
       "  <th>No. Iterations:</th>          <td>5</td>        <th>                     </th>     <td> </td>   \n",
       "</tr>\n",
       "<tr>\n",
       "  <th>Covariance Type:</th>     <td>nonrobust</td>    <th>                     </th>     <td> </td>   \n",
       "</tr>\n",
       "</table>\n",
       "<table class=\"simpletable\">\n",
       "<tr>\n",
       "            <td></td>               <th>coef</th>     <th>std err</th>      <th>z</th>      <th>P>|z|</th>  <th>[0.025</th>    <th>0.975]</th>  \n",
       "</tr>\n",
       "<tr>\n",
       "  <th>Intercept</th>             <td>   -2.8027</td> <td>    0.082</td> <td>  -34.057</td> <td> 0.000</td> <td>   -2.964</td> <td>   -2.641</td>\n",
       "</tr>\n",
       "<tr>\n",
       "  <th>GDP_per_cap</th>           <td>   -0.0034</td> <td>    0.004</td> <td>   -0.792</td> <td> 0.428</td> <td>   -0.012</td> <td>    0.005</td>\n",
       "</tr>\n",
       "<tr>\n",
       "  <th>Total1996</th>             <td>    0.0205</td> <td>    0.002</td> <td>    9.123</td> <td> 0.000</td> <td>    0.016</td> <td>    0.025</td>\n",
       "</tr>\n",
       "<tr>\n",
       "  <th>GDP_per_cap:Total1996</th> <td>   -0.0004</td> <td> 9.63e-05</td> <td>   -3.906</td> <td> 0.000</td> <td>   -0.001</td> <td>   -0.000</td>\n",
       "</tr>\n",
       "</table>"
      ],
      "text/plain": [
       "<class 'statsmodels.iolib.summary.Summary'>\n",
       "\"\"\"\n",
       "                 Generalized Linear Model Regression Results                  \n",
       "==============================================================================\n",
       "Dep. Variable:              Total2000   No. Observations:                   66\n",
       "Model:                            GLM   Df Residuals:                       62\n",
       "Model Family:                 Poisson   Df Model:                            3\n",
       "Link Function:                    log   Scale:                          1.0000\n",
       "Method:                          IRLS   Log-Likelihood:                -185.05\n",
       "Date:                Tue, 07 Apr 2020   Deviance:                       117.43\n",
       "Time:                        10:19:33   Pearson chi2:                     124.\n",
       "No. Iterations:                     5                                         \n",
       "Covariance Type:            nonrobust                                         \n",
       "=========================================================================================\n",
       "                            coef    std err          z      P>|z|      [0.025      0.975]\n",
       "-----------------------------------------------------------------------------------------\n",
       "Intercept                -2.8027      0.082    -34.057      0.000      -2.964      -2.641\n",
       "GDP_per_cap              -0.0034      0.004     -0.792      0.428      -0.012       0.005\n",
       "Total1996                 0.0205      0.002      9.123      0.000       0.016       0.025\n",
       "GDP_per_cap:Total1996    -0.0004   9.63e-05     -3.906      0.000      -0.001      -0.000\n",
       "=========================================================================================\n",
       "\"\"\""
      ]
     },
     "execution_count": 15,
     "metadata": {},
     "output_type": "execute_result"
    }
   ],
   "source": [
    "olymp_model_full_int = sma.GLM.from_formula(\"Total2000~GDP_per_cap+Total1996+GDP_per_cap:Total1996\", data=olympics, family=sma.families.Poisson(), offset=olympics[\"Log_athletes\"]).fit()\n",
    "olymp_model_full_int.summary()"
   ]
  },
  {
   "cell_type": "markdown",
   "metadata": {},
   "source": [
    "We also train a model without interaction in order to test for significance of the interaction using deviance f test."
   ]
  },
  {
   "cell_type": "code",
   "execution_count": 16,
   "metadata": {},
   "outputs": [
    {
     "data": {
      "text/html": [
       "<table class=\"simpletable\">\n",
       "<caption>Generalized Linear Model Regression Results</caption>\n",
       "<tr>\n",
       "  <th>Dep. Variable:</th>       <td>Total2000</td>    <th>  No. Observations:  </th>  <td>    66</td> \n",
       "</tr>\n",
       "<tr>\n",
       "  <th>Model:</th>                  <td>GLM</td>       <th>  Df Residuals:      </th>  <td>    63</td> \n",
       "</tr>\n",
       "<tr>\n",
       "  <th>Model Family:</th>         <td>Poisson</td>     <th>  Df Model:          </th>  <td>     2</td> \n",
       "</tr>\n",
       "<tr>\n",
       "  <th>Link Function:</th>          <td>log</td>       <th>  Scale:             </th> <td>  1.0000</td>\n",
       "</tr>\n",
       "<tr>\n",
       "  <th>Method:</th>                <td>IRLS</td>       <th>  Log-Likelihood:    </th> <td> -192.53</td>\n",
       "</tr>\n",
       "<tr>\n",
       "  <th>Date:</th>            <td>Tue, 07 Apr 2020</td> <th>  Deviance:          </th> <td>  132.39</td>\n",
       "</tr>\n",
       "<tr>\n",
       "  <th>Time:</th>                <td>10:19:33</td>     <th>  Pearson chi2:      </th>  <td>  132.</td> \n",
       "</tr>\n",
       "<tr>\n",
       "  <th>No. Iterations:</th>          <td>5</td>        <th>                     </th>     <td> </td>   \n",
       "</tr>\n",
       "<tr>\n",
       "  <th>Covariance Type:</th>     <td>nonrobust</td>    <th>                     </th>     <td> </td>   \n",
       "</tr>\n",
       "</table>\n",
       "<table class=\"simpletable\">\n",
       "<tr>\n",
       "       <td></td>          <th>coef</th>     <th>std err</th>      <th>z</th>      <th>P>|z|</th>  <th>[0.025</th>    <th>0.975]</th>  \n",
       "</tr>\n",
       "<tr>\n",
       "  <th>Intercept</th>   <td>   -2.5893</td> <td>    0.058</td> <td>  -44.916</td> <td> 0.000</td> <td>   -2.702</td> <td>   -2.476</td>\n",
       "</tr>\n",
       "<tr>\n",
       "  <th>GDP_per_cap</th> <td>   -0.0158</td> <td>    0.003</td> <td>   -5.164</td> <td> 0.000</td> <td>   -0.022</td> <td>   -0.010</td>\n",
       "</tr>\n",
       "<tr>\n",
       "  <th>Total1996</th>   <td>    0.0128</td> <td>    0.001</td> <td>   11.247</td> <td> 0.000</td> <td>    0.011</td> <td>    0.015</td>\n",
       "</tr>\n",
       "</table>"
      ],
      "text/plain": [
       "<class 'statsmodels.iolib.summary.Summary'>\n",
       "\"\"\"\n",
       "                 Generalized Linear Model Regression Results                  \n",
       "==============================================================================\n",
       "Dep. Variable:              Total2000   No. Observations:                   66\n",
       "Model:                            GLM   Df Residuals:                       63\n",
       "Model Family:                 Poisson   Df Model:                            2\n",
       "Link Function:                    log   Scale:                          1.0000\n",
       "Method:                          IRLS   Log-Likelihood:                -192.53\n",
       "Date:                Tue, 07 Apr 2020   Deviance:                       132.39\n",
       "Time:                        10:19:33   Pearson chi2:                     132.\n",
       "No. Iterations:                     5                                         \n",
       "Covariance Type:            nonrobust                                         \n",
       "===============================================================================\n",
       "                  coef    std err          z      P>|z|      [0.025      0.975]\n",
       "-------------------------------------------------------------------------------\n",
       "Intercept      -2.5893      0.058    -44.916      0.000      -2.702      -2.476\n",
       "GDP_per_cap    -0.0158      0.003     -5.164      0.000      -0.022      -0.010\n",
       "Total1996       0.0128      0.001     11.247      0.000       0.011       0.015\n",
       "===============================================================================\n",
       "\"\"\""
      ]
     },
     "execution_count": 16,
     "metadata": {},
     "output_type": "execute_result"
    }
   ],
   "source": [
    "olymp_model_full = sma.GLM.from_formula(\"Total2000~GDP_per_cap+Total1996\", data=olympics, family=sma.families.Poisson(), offset=olympics[\"Log_athletes\"]).fit()\n",
    "olymp_model_full.summary()"
   ]
  },
  {
   "cell_type": "code",
   "execution_count": 17,
   "metadata": {},
   "outputs": [],
   "source": [
    "# anova for glm in python statsmodels: https://stackoverflow.com/a/60769343\n",
    "\n",
    "from scipy import stats\n",
    "\n",
    "def calculate_nested_f_statistic(small_model, big_model):\n",
    "    \"\"\"Given two fitted GLMs, the larger of which contains the parameter space of the smaller, return the F Stat and P value corresponding to the larger model adding explanatory power\"\"\"\n",
    "    addtl_params = big_model.df_model - small_model.df_model\n",
    "    f_stat = (small_model.deviance - big_model.deviance) / (addtl_params * big_model.scale)\n",
    "    df_numerator = addtl_params\n",
    "    # use fitted values to obtain n_obs from model object:\n",
    "    df_denom = (big_model.fittedvalues.shape[0] - big_model.df_model)\n",
    "    p_value = stats.f.sf(f_stat, df_numerator, df_denom)\n",
    "    return (f_stat, p_value)"
   ]
  },
  {
   "cell_type": "code",
   "execution_count": 18,
   "metadata": {},
   "outputs": [
    {
     "data": {
      "text/html": [
       "<div>\n",
       "<style scoped>\n",
       "    .dataframe tbody tr th:only-of-type {\n",
       "        vertical-align: middle;\n",
       "    }\n",
       "\n",
       "    .dataframe tbody tr th {\n",
       "        vertical-align: top;\n",
       "    }\n",
       "\n",
       "    .dataframe thead th {\n",
       "        text-align: right;\n",
       "    }\n",
       "</style>\n",
       "<table border=\"1\" class=\"dataframe\">\n",
       "  <thead>\n",
       "    <tr style=\"text-align: right;\">\n",
       "      <th></th>\n",
       "      <th>f_stat</th>\n",
       "      <th>p_value</th>\n",
       "    </tr>\n",
       "  </thead>\n",
       "  <tbody>\n",
       "    <tr>\n",
       "      <th>0</th>\n",
       "      <td>14.957838</td>\n",
       "      <td>0.000263</td>\n",
       "    </tr>\n",
       "  </tbody>\n",
       "</table>\n",
       "</div>"
      ],
      "text/plain": [
       "      f_stat   p_value\n",
       "0  14.957838  0.000263"
      ]
     },
     "metadata": {},
     "output_type": "display_data"
    }
   ],
   "source": [
    "olymp_full_f_stat, olymp_full_p_value = calculate_nested_f_statistic(olymp_model_full, olymp_model_full_int)\n",
    "olymp_full_int_summary = pd.DataFrame({\"f_stat\": [olymp_full_f_stat], \"p_value\": [olymp_full_p_value]})\n",
    "display(olymp_full_int_summary)"
   ]
  },
  {
   "cell_type": "markdown",
   "metadata": {},
   "source": [
    "Having conducted the test, we claim that interactions are significant in the model, and we have to include them. This will help to make implicit dependency of `Total1996` on `GDP` to become explicit."
   ]
  },
  {
   "cell_type": "markdown",
   "metadata": {},
   "source": [
    "### Problem 3"
   ]
  },
  {
   "cell_type": "code",
   "execution_count": 19,
   "metadata": {},
   "outputs": [
    {
     "data": {
      "text/html": [
       "<div>\n",
       "<style scoped>\n",
       "    .dataframe tbody tr th:only-of-type {\n",
       "        vertical-align: middle;\n",
       "    }\n",
       "\n",
       "    .dataframe tbody tr th {\n",
       "        vertical-align: top;\n",
       "    }\n",
       "\n",
       "    .dataframe thead th {\n",
       "        text-align: right;\n",
       "    }\n",
       "</style>\n",
       "<table border=\"1\" class=\"dataframe\">\n",
       "  <thead>\n",
       "    <tr style=\"text-align: right;\">\n",
       "      <th></th>\n",
       "      <th>status</th>\n",
       "      <th>time</th>\n",
       "      <th>treat</th>\n",
       "      <th>sex</th>\n",
       "      <th>asc</th>\n",
       "      <th>age</th>\n",
       "      <th>agegr</th>\n",
       "    </tr>\n",
       "  </thead>\n",
       "  <tbody>\n",
       "    <tr>\n",
       "      <th>0</th>\n",
       "      <td>1</td>\n",
       "      <td>4</td>\n",
       "      <td>0</td>\n",
       "      <td>1</td>\n",
       "      <td>2</td>\n",
       "      <td>66</td>\n",
       "      <td>3</td>\n",
       "    </tr>\n",
       "    <tr>\n",
       "      <th>1</th>\n",
       "      <td>1</td>\n",
       "      <td>5</td>\n",
       "      <td>0</td>\n",
       "      <td>0</td>\n",
       "      <td>2</td>\n",
       "      <td>66</td>\n",
       "      <td>3</td>\n",
       "    </tr>\n",
       "    <tr>\n",
       "      <th>2</th>\n",
       "      <td>1</td>\n",
       "      <td>13</td>\n",
       "      <td>1</td>\n",
       "      <td>1</td>\n",
       "      <td>2</td>\n",
       "      <td>57</td>\n",
       "      <td>2</td>\n",
       "    </tr>\n",
       "    <tr>\n",
       "      <th>3</th>\n",
       "      <td>1</td>\n",
       "      <td>16</td>\n",
       "      <td>1</td>\n",
       "      <td>0</td>\n",
       "      <td>2</td>\n",
       "      <td>67</td>\n",
       "      <td>3</td>\n",
       "    </tr>\n",
       "    <tr>\n",
       "      <th>4</th>\n",
       "      <td>1</td>\n",
       "      <td>21</td>\n",
       "      <td>1</td>\n",
       "      <td>1</td>\n",
       "      <td>2</td>\n",
       "      <td>62</td>\n",
       "      <td>2</td>\n",
       "    </tr>\n",
       "  </tbody>\n",
       "</table>\n",
       "</div>"
      ],
      "text/plain": [
       "   status  time  treat  sex  asc  age  agegr\n",
       "0       1     4      0    1    2   66      3\n",
       "1       1     5      0    0    2   66      3\n",
       "2       1    13      1    1    2   57      2\n",
       "3       1    16      1    0    2   67      3\n",
       "4       1    21      1    1    2   62      2"
      ]
     },
     "metadata": {},
     "output_type": "display_data"
    },
    {
     "data": {
      "text/html": [
       "<div>\n",
       "<style scoped>\n",
       "    .dataframe tbody tr th:only-of-type {\n",
       "        vertical-align: middle;\n",
       "    }\n",
       "\n",
       "    .dataframe tbody tr th {\n",
       "        vertical-align: top;\n",
       "    }\n",
       "\n",
       "    .dataframe thead th {\n",
       "        text-align: right;\n",
       "    }\n",
       "</style>\n",
       "<table border=\"1\" class=\"dataframe\">\n",
       "  <thead>\n",
       "    <tr style=\"text-align: right;\">\n",
       "      <th></th>\n",
       "      <th>status</th>\n",
       "      <th>time</th>\n",
       "      <th>treat</th>\n",
       "      <th>sex</th>\n",
       "      <th>asc</th>\n",
       "      <th>age</th>\n",
       "      <th>agegr</th>\n",
       "    </tr>\n",
       "  </thead>\n",
       "  <tbody>\n",
       "    <tr>\n",
       "      <th>count</th>\n",
       "      <td>488.000000</td>\n",
       "      <td>488.000000</td>\n",
       "      <td>488.000000</td>\n",
       "      <td>488.000000</td>\n",
       "      <td>488.000000</td>\n",
       "      <td>488.000000</td>\n",
       "      <td>488.000000</td>\n",
       "    </tr>\n",
       "    <tr>\n",
       "      <th>mean</th>\n",
       "      <td>0.598361</td>\n",
       "      <td>1330.543033</td>\n",
       "      <td>0.485656</td>\n",
       "      <td>0.594262</td>\n",
       "      <td>0.307377</td>\n",
       "      <td>59.409836</td>\n",
       "      <td>2.159836</td>\n",
       "    </tr>\n",
       "    <tr>\n",
       "      <th>std</th>\n",
       "      <td>0.490733</td>\n",
       "      <td>1194.470413</td>\n",
       "      <td>0.500307</td>\n",
       "      <td>0.491538</td>\n",
       "      <td>0.640671</td>\n",
       "      <td>9.932837</td>\n",
       "      <td>0.680519</td>\n",
       "    </tr>\n",
       "    <tr>\n",
       "      <th>min</th>\n",
       "      <td>0.000000</td>\n",
       "      <td>4.000000</td>\n",
       "      <td>0.000000</td>\n",
       "      <td>0.000000</td>\n",
       "      <td>0.000000</td>\n",
       "      <td>17.000000</td>\n",
       "      <td>1.000000</td>\n",
       "    </tr>\n",
       "    <tr>\n",
       "      <th>25%</th>\n",
       "      <td>0.000000</td>\n",
       "      <td>230.750000</td>\n",
       "      <td>0.000000</td>\n",
       "      <td>0.000000</td>\n",
       "      <td>0.000000</td>\n",
       "      <td>53.000000</td>\n",
       "      <td>2.000000</td>\n",
       "    </tr>\n",
       "    <tr>\n",
       "      <th>50%</th>\n",
       "      <td>1.000000</td>\n",
       "      <td>955.500000</td>\n",
       "      <td>0.000000</td>\n",
       "      <td>1.000000</td>\n",
       "      <td>0.000000</td>\n",
       "      <td>60.000000</td>\n",
       "      <td>2.000000</td>\n",
       "    </tr>\n",
       "    <tr>\n",
       "      <th>75%</th>\n",
       "      <td>1.000000</td>\n",
       "      <td>2277.750000</td>\n",
       "      <td>1.000000</td>\n",
       "      <td>1.000000</td>\n",
       "      <td>0.000000</td>\n",
       "      <td>66.000000</td>\n",
       "      <td>3.000000</td>\n",
       "    </tr>\n",
       "    <tr>\n",
       "      <th>max</th>\n",
       "      <td>1.000000</td>\n",
       "      <td>4892.000000</td>\n",
       "      <td>1.000000</td>\n",
       "      <td>1.000000</td>\n",
       "      <td>2.000000</td>\n",
       "      <td>80.000000</td>\n",
       "      <td>3.000000</td>\n",
       "    </tr>\n",
       "  </tbody>\n",
       "</table>\n",
       "</div>"
      ],
      "text/plain": [
       "           status         time       treat         sex         asc  \\\n",
       "count  488.000000   488.000000  488.000000  488.000000  488.000000   \n",
       "mean     0.598361  1330.543033    0.485656    0.594262    0.307377   \n",
       "std      0.490733  1194.470413    0.500307    0.491538    0.640671   \n",
       "min      0.000000     4.000000    0.000000    0.000000    0.000000   \n",
       "25%      0.000000   230.750000    0.000000    0.000000    0.000000   \n",
       "50%      1.000000   955.500000    0.000000    1.000000    0.000000   \n",
       "75%      1.000000  2277.750000    1.000000    1.000000    0.000000   \n",
       "max      1.000000  4892.000000    1.000000    1.000000    2.000000   \n",
       "\n",
       "              age       agegr  \n",
       "count  488.000000  488.000000  \n",
       "mean    59.409836    2.159836  \n",
       "std      9.932837    0.680519  \n",
       "min     17.000000    1.000000  \n",
       "25%     53.000000    2.000000  \n",
       "50%     60.000000    2.000000  \n",
       "75%     66.000000    3.000000  \n",
       "max     80.000000    3.000000  "
      ]
     },
     "metadata": {},
     "output_type": "display_data"
    }
   ],
   "source": [
    "cyr_data = pd.read_csv(\"data/cirrhosis.txt\", sep=\"\\t\")\n",
    "display(cyr_data.head())\n",
    "display(cyr_data.describe())"
   ]
  },
  {
   "cell_type": "code",
   "execution_count": 20,
   "metadata": {},
   "outputs": [],
   "source": [
    "def plot_km_surv_factor(ax, data, column):\n",
    "    uniques = sorted(data[column].value_counts().index.values)\n",
    "    labels = []\n",
    "    for val in uniques:\n",
    "        mask = (data[column] == val)\n",
    "        # https://www.statsmodels.org/stable/generated/statsmodels.duration.survfunc.SurvfuncRight.html\n",
    "        # If `exog` is None, the standard Kaplan-Meier estimator is used.\n",
    "        sm.duration.survfunc.SurvfuncRight(data[mask].time, data[mask].status).plot(ax);\n",
    "        labels.extend([f\"{column}={val}\", None])\n",
    "    ax.legend(*zip(*(pair for pair in zip(ax.get_lines(), labels) if pair[1] is not None)))"
   ]
  },
  {
   "cell_type": "markdown",
   "metadata": {},
   "source": [
    "Kaplan Meier estimate and logrank test for `treat` covariate."
   ]
  },
  {
   "cell_type": "code",
   "execution_count": 21,
   "metadata": {},
   "outputs": [
    {
     "name": "stdout",
     "output_type": "stream",
     "text": [
      "chi2: 0.7277855502502244, p: 0.3936019208963941\n"
     ]
    },
    {
     "data": {
      "image/png": "[encoded data removed]",
      "text/plain": [
       "<Figure size 432x288 with 1 Axes>"
      ]
     },
     "metadata": {
      "needs_background": "light"
     },
     "output_type": "display_data"
    }
   ],
   "source": [
    "fig, ax = plt.subplots()\n",
    "plot_km_surv_factor(ax, cyr_data, \"treat\")\n",
    "chi2, p = sma.duration.survdiff(cyr_data.time, cyr_data.status, cyr_data.treat)\n",
    "print(f\"chi2: {chi2}, p: {p}\")"
   ]
  },
  {
   "cell_type": "markdown",
   "metadata": {},
   "source": [
    "From the plot it looks like **treatment** helps a bit, meaning treated patients decreased the probability of death. But logrank test tells us that the difference is not significant, so it is not enough evidence for us to reject null-hypothesis (that treated and untreated effects are the same). This happens because deviation between treated and untreated KM estimates deviate mostly within error bands."
   ]
  },
  {
   "cell_type": "markdown",
   "metadata": {},
   "source": [
    "Kaplan Meier estimate and logrank test for `sex` covariate"
   ]
  },
  {
   "cell_type": "code",
   "execution_count": 22,
   "metadata": {},
   "outputs": [
    {
     "name": "stdout",
     "output_type": "stream",
     "text": [
      "chi2: 3.549117671923825, p: 0.059577122208565925\n"
     ]
    },
    {
     "data": {
      "image/png": "[encoded data removed]",
      "text/plain": [
       "<Figure size 432x288 with 1 Axes>"
      ]
     },
     "metadata": {
      "needs_background": "light"
     },
     "output_type": "display_data"
    }
   ],
   "source": [
    "fig, ax = plt.subplots()\n",
    "plot_km_surv_factor(ax, cyr_data, \"sex\")\n",
    "chi2, p = sma.duration.survdiff(cyr_data.time, cyr_data.status, cyr_data.sex)\n",
    "print(f\"chi2: {chi2}, p: {p}\")"
   ]
  },
  {
   "cell_type": "markdown",
   "metadata": {},
   "source": [
    "In case of the **sex**, both lines also look similar (as for the treatment), but p-value is much lower, almost at the edge of 95% confidence. It is a hint to not throw away this covariate entirely, it might get more significant with more data."
   ]
  },
  {
   "cell_type": "markdown",
   "metadata": {},
   "source": [
    "Kaplan Meier estimate and logrank test for `agegr` covariate"
   ]
  },
  {
   "cell_type": "code",
   "execution_count": 23,
   "metadata": {},
   "outputs": [
    {
     "name": "stdout",
     "output_type": "stream",
     "text": [
      "chi2: 50.56287045985019, p: 1.0481282508578715e-11\n"
     ]
    },
    {
     "data": {
      "image/png": "[encoded data removed]",
      "text/plain": [
       "<Figure size 432x288 with 1 Axes>"
      ]
     },
     "metadata": {
      "needs_background": "light"
     },
     "output_type": "display_data"
    }
   ],
   "source": [
    "fig, ax = plt.subplots()\n",
    "plot_km_surv_factor(ax, cyr_data, \"agegr\")\n",
    "chi2, p = sma.duration.survdiff(cyr_data.time, cyr_data.status, cyr_data.agegr)\n",
    "print(f\"chi2: {chi2}, p: {p}\")"
   ]
  },
  {
   "cell_type": "markdown",
   "metadata": {},
   "source": [
    "Here we can see explicitly that **age group** matters. And very small p-value confirms that age group is an important feature to take into account. The older is person, the higher chance to die. There is a modification of the logrank test which accounts for ordered covariates by assigning weights to statistic depending on the group (standard test is omnibus regarding order).\n",
    "\n",
    "https://web.stanford.edu/~lutian/coursepdf/unit6.pdf p12"
   ]
  },
  {
   "cell_type": "markdown",
   "metadata": {},
   "source": [
    "Kaplan Meier estimate and logrank test for `asc` covariate"
   ]
  },
  {
   "cell_type": "code",
   "execution_count": 24,
   "metadata": {},
   "outputs": [
    {
     "name": "stdout",
     "output_type": "stream",
     "text": [
      "chi2: 69.92501454288704, p: 6.661338147750939e-16\n"
     ]
    },
    {
     "data": {
      "image/png": "[encoded data removed]",
      "text/plain": [
       "<Figure size 432x288 with 1 Axes>"
      ]
     },
     "metadata": {
      "needs_background": "light"
     },
     "output_type": "display_data"
    }
   ],
   "source": [
    "fig, ax = plt.subplots()\n",
    "plot_km_surv_factor(ax, cyr_data, \"asc\")\n",
    "chi2, p = sma.duration.survdiff(cyr_data.time, cyr_data.status, cyr_data.asc)\n",
    "print(f\"chi2: {chi2}, p: {p}\")"
   ]
  },
  {
   "cell_type": "markdown",
   "metadata": {},
   "source": [
    "Finally, **ascities** are also very important signatures of high hazard rate. We can see it from the plots, and p-value confirms it. The more liquid is in the abdomen the higher is the risk. Here also weighted test could be useful, to account for degree of ascities severity."
   ]
  },
  {
   "cell_type": "markdown",
   "metadata": {},
   "source": [
    "**b)** Work on this piece of assignment ended up in the contribution to python statsmodels package. Before, it supported survdiff for only two groups, now it allows any number of groups: https://github.com/statsmodels/statsmodels/pull/6626\n",
    "\n",
    "*References:*\n",
    "\n",
    "Calculations based on: https://web.stanford.edu/~lutian/coursepdf/unit6.pdf\n",
    "\n",
    "But variance taken from: https://web.stanford.edu/~lutian/coursepdf/survweek3.pdf"
   ]
  },
  {
   "cell_type": "markdown",
   "metadata": {},
   "source": [
    "**c)**"
   ]
  },
  {
   "cell_type": "code",
   "execution_count": 25,
   "metadata": {},
   "outputs": [
    {
     "data": {
      "text/html": [
       "<table class=\"simpletable\">\n",
       "<tr>\n",
       "        <td>Model:</td>        <td>PH Reg</td>  <td>Sample size:</td> <td>488</td>\n",
       "</tr>\n",
       "<tr>\n",
       "  <td>Dependent variable:</td>  <td>time</td>   <td>Num. events:</td> <td>292</td>\n",
       "</tr>\n",
       "<tr>\n",
       "         <td>Ties:</td>        <td>Breslow</td>       <td></td>        <td></td>  \n",
       "</tr>\n",
       "</table>\n",
       "<table class=\"simpletable\">\n",
       "<tr>\n",
       "    <td></td>    <th>log HR</th> <th>log HR SE</th>   <th>HR</th>      <th>t</th>    <th>P>|t|</th> <th>[0.025</th> <th>0.975]</th>\n",
       "</tr>\n",
       "<tr>\n",
       "  <th>treat</th> <td>0.0449</td>  <td>0.1176</td>   <td>1.0459</td> <td>0.3816</td> <td>0.7027</td> <td>0.8306</td> <td>1.3170</td>\n",
       "</tr>\n",
       "<tr>\n",
       "  <th>sex</th>   <td>0.4618</td>  <td>0.1254</td>   <td>1.5870</td> <td>3.6831</td> <td>0.0002</td> <td>1.2412</td> <td>2.0291</td>\n",
       "</tr>\n",
       "<tr>\n",
       "  <th>age</th>   <td>0.0488</td>  <td>0.0068</td>   <td>1.0500</td> <td>7.1493</td> <td>0.0000</td> <td>1.0361</td> <td>1.0642</td>\n",
       "</tr>\n",
       "<tr>\n",
       "  <th>asc</th>   <td>0.5945</td>  <td>0.0829</td>   <td>1.8120</td> <td>7.1734</td> <td>0.0000</td> <td>1.5404</td> <td>2.1316</td>\n",
       "</tr>\n",
       "</table>"
      ],
      "text/plain": [
       "<class 'statsmodels.iolib.summary2.Summary'>\n",
       "\"\"\"\n",
       "                     Results: PHReg\n",
       "=========================================================\n",
       "Model:                   PH Reg      Sample size:     488\n",
       "Dependent variable:      time        Num. events:     292\n",
       "Ties:                    Breslow                         \n",
       "---------------------------------------------------------\n",
       "      log HR log HR SE   HR     t    P>|t|  [0.025 0.975]\n",
       "---------------------------------------------------------\n",
       "treat 0.0449    0.1176 1.0459 0.3816 0.7027 0.8306 1.3170\n",
       "sex   0.4618    0.1254 1.5870 3.6831 0.0002 1.2412 2.0291\n",
       "age   0.0488    0.0068 1.0500 7.1493 0.0000 1.0361 1.0642\n",
       "asc   0.5945    0.0829 1.8120 7.1734 0.0000 1.5404 2.1316\n",
       "=========================================================\n",
       "Confidence intervals are for the hazard ratios\n",
       "\"\"\""
      ]
     },
     "execution_count": 25,
     "metadata": {},
     "output_type": "execute_result"
    }
   ],
   "source": [
    "cyr_phreg = sm.duration.hazard_regression.PHReg(cyr_data.time, cyr_data[[\"treat\", \"sex\", \"age\", \"asc\"]], cyr_data.status).fit()\n",
    "cyr_phreg.summary()"
   ]
  },
  {
   "cell_type": "markdown",
   "metadata": {},
   "source": [
    "From the summary it follows that sex, age and ascities are much more responsible for survival rate (even within 99% confidence limit) than treatment. All the coefficients are positive, it means that their increase increases HR, as a result people with smaller value of the covariate have higher chances to survive.\n",
    "\n",
    "Also, results of Cox regression tests reproduce our predictions from Kaplan Meier plots. Moreover as we expected, `sex` covariate gained significance from collective analysis.\n",
    "\n",
    "Treatment doesn't show significant effect on the hazard rate (p-value is too big)"
   ]
  },
  {
   "cell_type": "markdown",
   "metadata": {},
   "source": [
    "95% confidence limit for HR for `sex` covariate:"
   ]
  },
  {
   "cell_type": "code",
   "execution_count": 26,
   "metadata": {},
   "outputs": [
    {
     "data": {
      "text/plain": [
       "array([1.24117948, 2.02908311])"
      ]
     },
     "execution_count": 26,
     "metadata": {},
     "output_type": "execute_result"
    }
   ],
   "source": [
    "np.exp(cyr_phreg.conf_int(.05))[1]"
   ]
  }
 ],
 "metadata": {
  "kernelspec": {
   "display_name": "Python 3",
   "language": "python",
   "name": "python3"
  },
  "language_info": {
   "codemirror_mode": {
    "name": "ipython",
    "version": 3
   },
   "file_extension": ".py",
   "mimetype": "text/x-python",
   "name": "python",
   "nbconvert_exporter": "python",
   "pygments_lexer": "ipython3",
   "version": "3.6.10"
  }
 },
 "nbformat": 4,
 "nbformat_minor": 2
}
