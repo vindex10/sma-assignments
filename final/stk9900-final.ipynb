{
 "cells": [
  {
   "cell_type": "code",
   "execution_count": 1,
   "metadata": {},
   "outputs": [],
   "source": [
    "import numpy as np\n",
    "import scipy as sp\n",
    "from scipy import stats\n",
    "import pandas as pd\n",
    "import matplotlib.pyplot as plt\n",
    "\n",
    "import statsmodels.formula.api as smf\n",
    "import statsmodels as sm\n",
    "from statsmodels.stats.weightstats import ttest_ind\n",
    "from statsmodels.stats.proportion import proportions_ztest"
   ]
  },
  {
   "cell_type": "markdown",
   "metadata": {},
   "source": [
    "## Problem 1"
   ]
  },
  {
   "cell_type": "code",
   "execution_count": 2,
   "metadata": {},
   "outputs": [
    {
     "data": {
      "text/html": [
       "<div>\n",
       "<style scoped>\n",
       "    .dataframe tbody tr th:only-of-type {\n",
       "        vertical-align: middle;\n",
       "    }\n",
       "\n",
       "    .dataframe tbody tr th {\n",
       "        vertical-align: top;\n",
       "    }\n",
       "\n",
       "    .dataframe thead th {\n",
       "        text-align: right;\n",
       "    }\n",
       "</style>\n",
       "<table border=\"1\" class=\"dataframe\">\n",
       "  <thead>\n",
       "    <tr style=\"text-align: right;\">\n",
       "      <th></th>\n",
       "      <th>CH2O</th>\n",
       "      <th>AIR</th>\n",
       "      <th>UFFI</th>\n",
       "    </tr>\n",
       "  </thead>\n",
       "  <tbody>\n",
       "    <tr>\n",
       "      <th>0</th>\n",
       "      <td>31.33</td>\n",
       "      <td>0</td>\n",
       "      <td>0</td>\n",
       "    </tr>\n",
       "    <tr>\n",
       "      <th>1</th>\n",
       "      <td>28.57</td>\n",
       "      <td>1</td>\n",
       "      <td>0</td>\n",
       "    </tr>\n",
       "    <tr>\n",
       "      <th>2</th>\n",
       "      <td>39.95</td>\n",
       "      <td>1</td>\n",
       "      <td>0</td>\n",
       "    </tr>\n",
       "    <tr>\n",
       "      <th>3</th>\n",
       "      <td>44.98</td>\n",
       "      <td>4</td>\n",
       "      <td>0</td>\n",
       "    </tr>\n",
       "    <tr>\n",
       "      <th>4</th>\n",
       "      <td>39.55</td>\n",
       "      <td>4</td>\n",
       "      <td>0</td>\n",
       "    </tr>\n",
       "  </tbody>\n",
       "</table>\n",
       "</div>"
      ],
      "text/plain": [
       "    CH2O  AIR  UFFI\n",
       "0  31.33    0     0\n",
       "1  28.57    1     0\n",
       "2  39.95    1     0\n",
       "3  44.98    4     0\n",
       "4  39.55    4     0"
      ]
     },
     "execution_count": 2,
     "metadata": {},
     "output_type": "execute_result"
    }
   ],
   "source": [
    "uffi = pd.read_csv(\"data/uffi.txt\", header=0, sep=\"\\t\")\n",
    "uffi.head()"
   ]
  },
  {
   "cell_type": "markdown",
   "metadata": {},
   "source": [
    "a)"
   ]
  },
  {
   "cell_type": "markdown",
   "metadata": {},
   "source": [
    "Assuming equal variance of CH2O among UFFI groups, we want to know whether difference between average level of CH2O between the groups is significant. The null hypothesis claims that means are the same, thus t-statisic is 0. How significant is deviation of t-statistic from zero?"
   ]
  },
  {
   "cell_type": "code",
   "execution_count": 3,
   "metadata": {},
   "outputs": [
    {
     "data": {
      "text/html": [
       "<div>\n",
       "<style scoped>\n",
       "    .dataframe tbody tr th:only-of-type {\n",
       "        vertical-align: middle;\n",
       "    }\n",
       "\n",
       "    .dataframe tbody tr th {\n",
       "        vertical-align: top;\n",
       "    }\n",
       "\n",
       "    .dataframe thead th {\n",
       "        text-align: right;\n",
       "    }\n",
       "</style>\n",
       "<table border=\"1\" class=\"dataframe\">\n",
       "  <thead>\n",
       "    <tr style=\"text-align: right;\">\n",
       "      <th></th>\n",
       "      <th>t-test stat</th>\n",
       "      <th>p</th>\n",
       "      <th>df</th>\n",
       "    </tr>\n",
       "  </thead>\n",
       "  <tbody>\n",
       "    <tr>\n",
       "      <th>CH2O</th>\n",
       "      <td>-2.252544</td>\n",
       "      <td>0.034598</td>\n",
       "      <td>22.0</td>\n",
       "    </tr>\n",
       "  </tbody>\n",
       "</table>\n",
       "</div>"
      ],
      "text/plain": [
       "      t-test stat         p    df\n",
       "CH2O    -2.252544  0.034598  22.0"
      ]
     },
     "execution_count": 3,
     "metadata": {},
     "output_type": "execute_result"
    }
   ],
   "source": [
    "def ttest(data, target, group):\n",
    "    gr_vals = np.unique(data[group])\n",
    "    assert gr_vals.shape[0] == 2\n",
    "    tstat, pval, df = ttest_ind(data[data[group] == gr_vals[0]][target],\n",
    "                                data[data[group] == gr_vals[1]][target])\n",
    "    return pd.DataFrame({\"t-test stat\": [tstat],\n",
    "                         \"p\": [pval],\n",
    "                         \"df\": [df]}, index=[target])\n",
    "ttest(uffi, \"CH2O\", \"UFFI\")"
   ]
  },
  {
   "cell_type": "markdown",
   "metadata": {},
   "source": [
    "Based on the t-test, difference of means between groups is significant, and null hypothesis can be disregarded at the confidence level 95%."
   ]
  },
  {
   "cell_type": "markdown",
   "metadata": {},
   "source": [
    "Now we will run a linear regression model to fit the dependency of CH2O on UFFI group. Within the linear regression summary t-test for significance of the UFFI covariate is provided. It verifies how significant is the deviation of the fitting coefficient from 0, so it verifies how significant is the effect of the correponding covariate."
   ]
  },
  {
   "cell_type": "code",
   "execution_count": 4,
   "metadata": {},
   "outputs": [
    {
     "data": {
      "text/html": [
       "<table class=\"simpletable\">\n",
       "<caption>OLS Regression Results</caption>\n",
       "<tr>\n",
       "  <th>Dep. Variable:</th>          <td>CH2O</td>       <th>  R-squared:         </th> <td>   0.187</td>\n",
       "</tr>\n",
       "<tr>\n",
       "  <th>Model:</th>                   <td>OLS</td>       <th>  Adj. R-squared:    </th> <td>   0.150</td>\n",
       "</tr>\n",
       "<tr>\n",
       "  <th>Method:</th>             <td>Least Squares</td>  <th>  F-statistic:       </th> <td>   5.074</td>\n",
       "</tr>\n",
       "<tr>\n",
       "  <th>Date:</th>             <td>Tue, 02 Jun 2020</td> <th>  Prob (F-statistic):</th>  <td>0.0346</td> \n",
       "</tr>\n",
       "<tr>\n",
       "  <th>Time:</th>                 <td>21:48:45</td>     <th>  Log-Likelihood:    </th> <td> -87.952</td>\n",
       "</tr>\n",
       "<tr>\n",
       "  <th>No. Observations:</th>      <td>    24</td>      <th>  AIC:               </th> <td>   179.9</td>\n",
       "</tr>\n",
       "<tr>\n",
       "  <th>Df Residuals:</th>          <td>    22</td>      <th>  BIC:               </th> <td>   182.3</td>\n",
       "</tr>\n",
       "<tr>\n",
       "  <th>Df Model:</th>              <td>     1</td>      <th>                     </th>     <td> </td>   \n",
       "</tr>\n",
       "<tr>\n",
       "  <th>Covariance Type:</th>      <td>nonrobust</td>    <th>                     </th>     <td> </td>   \n",
       "</tr>\n",
       "</table>\n",
       "<table class=\"simpletable\">\n",
       "<tr>\n",
       "      <td></td>         <th>coef</th>     <th>std err</th>      <th>t</th>      <th>P>|t|</th>  <th>[0.025</th>    <th>0.975]</th>  \n",
       "</tr>\n",
       "<tr>\n",
       "  <th>Intercept</th> <td>   46.1217</td> <td>    2.849</td> <td>   16.191</td> <td> 0.000</td> <td>   40.214</td> <td>   52.029</td>\n",
       "</tr>\n",
       "<tr>\n",
       "  <th>UFFI</th>      <td>    9.0742</td> <td>    4.028</td> <td>    2.253</td> <td> 0.035</td> <td>    0.720</td> <td>   17.429</td>\n",
       "</tr>\n",
       "</table>\n",
       "<table class=\"simpletable\">\n",
       "<tr>\n",
       "  <th>Omnibus:</th>       <td> 1.383</td> <th>  Durbin-Watson:     </th> <td>   0.653</td>\n",
       "</tr>\n",
       "<tr>\n",
       "  <th>Prob(Omnibus):</th> <td> 0.501</td> <th>  Jarque-Bera (JB):  </th> <td>   0.908</td>\n",
       "</tr>\n",
       "<tr>\n",
       "  <th>Skew:</th>          <td>-0.020</td> <th>  Prob(JB):          </th> <td>   0.635</td>\n",
       "</tr>\n",
       "<tr>\n",
       "  <th>Kurtosis:</th>      <td> 2.048</td> <th>  Cond. No.          </th> <td>    2.62</td>\n",
       "</tr>\n",
       "</table><br/><br/>Warnings:<br/>[1] Standard Errors assume that the covariance matrix of the errors is correctly specified."
      ],
      "text/plain": [
       "<class 'statsmodels.iolib.summary.Summary'>\n",
       "\"\"\"\n",
       "                            OLS Regression Results                            \n",
       "==============================================================================\n",
       "Dep. Variable:                   CH2O   R-squared:                       0.187\n",
       "Model:                            OLS   Adj. R-squared:                  0.150\n",
       "Method:                 Least Squares   F-statistic:                     5.074\n",
       "Date:                Tue, 02 Jun 2020   Prob (F-statistic):             0.0346\n",
       "Time:                        21:48:45   Log-Likelihood:                -87.952\n",
       "No. Observations:                  24   AIC:                             179.9\n",
       "Df Residuals:                      22   BIC:                             182.3\n",
       "Df Model:                           1                                         \n",
       "Covariance Type:            nonrobust                                         \n",
       "==============================================================================\n",
       "                 coef    std err          t      P>|t|      [0.025      0.975]\n",
       "------------------------------------------------------------------------------\n",
       "Intercept     46.1217      2.849     16.191      0.000      40.214      52.029\n",
       "UFFI           9.0742      4.028      2.253      0.035       0.720      17.429\n",
       "==============================================================================\n",
       "Omnibus:                        1.383   Durbin-Watson:                   0.653\n",
       "Prob(Omnibus):                  0.501   Jarque-Bera (JB):                0.908\n",
       "Skew:                          -0.020   Prob(JB):                        0.635\n",
       "Kurtosis:                       2.048   Cond. No.                         2.62\n",
       "==============================================================================\n",
       "\n",
       "Warnings:\n",
       "[1] Standard Errors assume that the covariance matrix of the errors is correctly specified.\n",
       "\"\"\""
      ]
     },
     "execution_count": 4,
     "metadata": {},
     "output_type": "execute_result"
    }
   ],
   "source": [
    "smf.ols(\"CH2O ~ UFFI\", data=uffi).fit().summary()"
   ]
  },
  {
   "cell_type": "markdown",
   "metadata": {},
   "source": [
    "Comparing the significance tests for means and taken from the linear regression, we see the expected result, p-values are equal and both claim that effect is significant within 95% confidence level."
   ]
  },
  {
   "cell_type": "markdown",
   "metadata": {},
   "source": [
    "b)"
   ]
  },
  {
   "cell_type": "code",
   "execution_count": 5,
   "metadata": {},
   "outputs": [
    {
     "data": {
      "text/plain": [
       "<matplotlib.axes._subplots.AxesSubplot at 0x7fbcca5e9160>"
      ]
     },
     "execution_count": 5,
     "metadata": {},
     "output_type": "execute_result"
    },
    {
     "data": {
      "image/png": "[encoded data removed]",
      "text/plain": [
       "<Figure size 432x288 with 1 Axes>"
      ]
     },
     "metadata": {
      "needs_background": "light"
     },
     "output_type": "display_data"
    }
   ],
   "source": [
    "uffi.plot(x=\"AIR\", y=\"CH2O\", kind=\"scatter\")"
   ]
  },
  {
   "cell_type": "markdown",
   "metadata": {},
   "source": [
    "We see linear trend in the dependency of CH2O on the AIR. To quantify what we see, we can compute Pearson's correlation coefficient between CH2O and AIR. We expect it to be high (meaning close to 1)."
   ]
  },
  {
   "cell_type": "code",
   "execution_count": 6,
   "metadata": {},
   "outputs": [
    {
     "data": {
      "text/plain": [
       "0.7650847476370517"
      ]
     },
     "execution_count": 6,
     "metadata": {},
     "output_type": "execute_result"
    }
   ],
   "source": [
    "sp.stats.pearsonr(uffi[\"AIR\"], uffi[\"CH2O\"])[0]"
   ]
  },
  {
   "cell_type": "code",
   "execution_count": 7,
   "metadata": {},
   "outputs": [
    {
     "data": {
      "text/html": [
       "<table class=\"simpletable\">\n",
       "<caption>OLS Regression Results</caption>\n",
       "<tr>\n",
       "  <th>Dep. Variable:</th>          <td>CH2O</td>       <th>  R-squared:         </th> <td>   0.585</td>\n",
       "</tr>\n",
       "<tr>\n",
       "  <th>Model:</th>                   <td>OLS</td>       <th>  Adj. R-squared:    </th> <td>   0.567</td>\n",
       "</tr>\n",
       "<tr>\n",
       "  <th>Method:</th>             <td>Least Squares</td>  <th>  F-statistic:       </th> <td>   31.06</td>\n",
       "</tr>\n",
       "<tr>\n",
       "  <th>Date:</th>             <td>Tue, 02 Jun 2020</td> <th>  Prob (F-statistic):</th> <td>1.33e-05</td>\n",
       "</tr>\n",
       "<tr>\n",
       "  <th>Time:</th>                 <td>21:48:45</td>     <th>  Log-Likelihood:    </th> <td> -79.879</td>\n",
       "</tr>\n",
       "<tr>\n",
       "  <th>No. Observations:</th>      <td>    24</td>      <th>  AIC:               </th> <td>   163.8</td>\n",
       "</tr>\n",
       "<tr>\n",
       "  <th>Df Residuals:</th>          <td>    22</td>      <th>  BIC:               </th> <td>   166.1</td>\n",
       "</tr>\n",
       "<tr>\n",
       "  <th>Df Model:</th>              <td>     1</td>      <th>                     </th>     <td> </td>   \n",
       "</tr>\n",
       "<tr>\n",
       "  <th>Covariance Type:</th>      <td>nonrobust</td>    <th>                     </th>     <td> </td>   \n",
       "</tr>\n",
       "</table>\n",
       "<table class=\"simpletable\">\n",
       "<tr>\n",
       "      <td></td>         <th>coef</th>     <th>std err</th>      <th>t</th>      <th>P>|t|</th>  <th>[0.025</th>    <th>0.975]</th>  \n",
       "</tr>\n",
       "<tr>\n",
       "  <th>Intercept</th> <td>   36.1533</td> <td>    2.974</td> <td>   12.156</td> <td> 0.000</td> <td>   29.985</td> <td>   42.321</td>\n",
       "</tr>\n",
       "<tr>\n",
       "  <th>AIR</th>       <td>    2.8303</td> <td>    0.508</td> <td>    5.573</td> <td> 0.000</td> <td>    1.777</td> <td>    3.884</td>\n",
       "</tr>\n",
       "</table>\n",
       "<table class=\"simpletable\">\n",
       "<tr>\n",
       "  <th>Omnibus:</th>       <td> 1.949</td> <th>  Durbin-Watson:     </th> <td>   0.813</td>\n",
       "</tr>\n",
       "<tr>\n",
       "  <th>Prob(Omnibus):</th> <td> 0.377</td> <th>  Jarque-Bera (JB):  </th> <td>   1.076</td>\n",
       "</tr>\n",
       "<tr>\n",
       "  <th>Skew:</th>          <td> 0.073</td> <th>  Prob(JB):          </th> <td>   0.584</td>\n",
       "</tr>\n",
       "<tr>\n",
       "  <th>Kurtosis:</th>      <td> 1.973</td> <th>  Cond. No.          </th> <td>    12.4</td>\n",
       "</tr>\n",
       "</table><br/><br/>Warnings:<br/>[1] Standard Errors assume that the covariance matrix of the errors is correctly specified."
      ],
      "text/plain": [
       "<class 'statsmodels.iolib.summary.Summary'>\n",
       "\"\"\"\n",
       "                            OLS Regression Results                            \n",
       "==============================================================================\n",
       "Dep. Variable:                   CH2O   R-squared:                       0.585\n",
       "Model:                            OLS   Adj. R-squared:                  0.567\n",
       "Method:                 Least Squares   F-statistic:                     31.06\n",
       "Date:                Tue, 02 Jun 2020   Prob (F-statistic):           1.33e-05\n",
       "Time:                        21:48:45   Log-Likelihood:                -79.879\n",
       "No. Observations:                  24   AIC:                             163.8\n",
       "Df Residuals:                      22   BIC:                             166.1\n",
       "Df Model:                           1                                         \n",
       "Covariance Type:            nonrobust                                         \n",
       "==============================================================================\n",
       "                 coef    std err          t      P>|t|      [0.025      0.975]\n",
       "------------------------------------------------------------------------------\n",
       "Intercept     36.1533      2.974     12.156      0.000      29.985      42.321\n",
       "AIR            2.8303      0.508      5.573      0.000       1.777       3.884\n",
       "==============================================================================\n",
       "Omnibus:                        1.949   Durbin-Watson:                   0.813\n",
       "Prob(Omnibus):                  0.377   Jarque-Bera (JB):                1.076\n",
       "Skew:                           0.073   Prob(JB):                        0.584\n",
       "Kurtosis:                       1.973   Cond. No.                         12.4\n",
       "==============================================================================\n",
       "\n",
       "Warnings:\n",
       "[1] Standard Errors assume that the covariance matrix of the errors is correctly specified.\n",
       "\"\"\""
      ]
     },
     "execution_count": 7,
     "metadata": {},
     "output_type": "execute_result"
    }
   ],
   "source": [
    "smf.ols(\"CH2O ~ AIR\", data=uffi).fit().summary()"
   ]
  },
  {
   "cell_type": "markdown",
   "metadata": {},
   "source": [
    "After fitting linear regression for CH2O as a function of AIR we discover that AIR is a significant predictor of CH2O level within 99% confidence.\n",
    "\n",
    "Moreover we can have a look at R^2 coefficient. It describes the fraction of variance that has been augmented by linear regression in comparison to the total variance of the data. It has relation to the Pearson's correlation coefficient: $R^2 = \\rho^2$\n",
    "\n",
    "Let's compute $\\rho^2$ and compare to $R^2$:"
   ]
  },
  {
   "cell_type": "code",
   "execution_count": 8,
   "metadata": {},
   "outputs": [
    {
     "data": {
      "text/plain": [
       "0.5853546710668511"
      ]
     },
     "execution_count": 8,
     "metadata": {},
     "output_type": "execute_result"
    }
   ],
   "source": [
    "sp.stats.pearsonr(uffi[\"AIR\"], uffi[\"CH2O\"])[0]**2"
   ]
  },
  {
   "cell_type": "markdown",
   "metadata": {},
   "source": [
    "c)"
   ]
  },
  {
   "cell_type": "code",
   "execution_count": 9,
   "metadata": {},
   "outputs": [
    {
     "data": {
      "text/html": [
       "<table class=\"simpletable\">\n",
       "<caption>OLS Regression Results</caption>\n",
       "<tr>\n",
       "  <th>Dep. Variable:</th>          <td>CH2O</td>       <th>  R-squared:         </th> <td>   0.783</td>\n",
       "</tr>\n",
       "<tr>\n",
       "  <th>Model:</th>                   <td>OLS</td>       <th>  Adj. R-squared:    </th> <td>   0.762</td>\n",
       "</tr>\n",
       "<tr>\n",
       "  <th>Method:</th>             <td>Least Squares</td>  <th>  F-statistic:       </th> <td>   37.82</td>\n",
       "</tr>\n",
       "<tr>\n",
       "  <th>Date:</th>             <td>Tue, 02 Jun 2020</td> <th>  Prob (F-statistic):</th> <td>1.10e-07</td>\n",
       "</tr>\n",
       "<tr>\n",
       "  <th>Time:</th>                 <td>21:48:46</td>     <th>  Log-Likelihood:    </th> <td> -72.126</td>\n",
       "</tr>\n",
       "<tr>\n",
       "  <th>No. Observations:</th>      <td>    24</td>      <th>  AIC:               </th> <td>   150.3</td>\n",
       "</tr>\n",
       "<tr>\n",
       "  <th>Df Residuals:</th>          <td>    21</td>      <th>  BIC:               </th> <td>   153.8</td>\n",
       "</tr>\n",
       "<tr>\n",
       "  <th>Df Model:</th>              <td>     2</td>      <th>                     </th>     <td> </td>   \n",
       "</tr>\n",
       "<tr>\n",
       "  <th>Covariance Type:</th>      <td>nonrobust</td>    <th>                     </th>     <td> </td>   \n",
       "</tr>\n",
       "</table>\n",
       "<table class=\"simpletable\">\n",
       "<tr>\n",
       "      <td></td>         <th>coef</th>     <th>std err</th>      <th>t</th>      <th>P>|t|</th>  <th>[0.025</th>    <th>0.975]</th>  \n",
       "</tr>\n",
       "<tr>\n",
       "  <th>Intercept</th> <td>   31.3734</td> <td>    2.461</td> <td>   12.750</td> <td> 0.000</td> <td>   26.256</td> <td>   36.491</td>\n",
       "</tr>\n",
       "<tr>\n",
       "  <th>UFFI</th>      <td>    9.3120</td> <td>    2.133</td> <td>    4.367</td> <td> 0.000</td> <td>    4.877</td> <td>   13.747</td>\n",
       "</tr>\n",
       "<tr>\n",
       "  <th>AIR</th>       <td>    2.8545</td> <td>    0.376</td> <td>    7.584</td> <td> 0.000</td> <td>    2.072</td> <td>    3.637</td>\n",
       "</tr>\n",
       "</table>\n",
       "<table class=\"simpletable\">\n",
       "<tr>\n",
       "  <th>Omnibus:</th>       <td> 0.667</td> <th>  Durbin-Watson:     </th> <td>   1.394</td>\n",
       "</tr>\n",
       "<tr>\n",
       "  <th>Prob(Omnibus):</th> <td> 0.717</td> <th>  Jarque-Bera (JB):  </th> <td>   0.659</td>\n",
       "</tr>\n",
       "<tr>\n",
       "  <th>Skew:</th>          <td>-0.054</td> <th>  Prob(JB):          </th> <td>   0.719</td>\n",
       "</tr>\n",
       "<tr>\n",
       "  <th>Kurtosis:</th>      <td> 2.196</td> <th>  Cond. No.          </th> <td>    15.6</td>\n",
       "</tr>\n",
       "</table><br/><br/>Warnings:<br/>[1] Standard Errors assume that the covariance matrix of the errors is correctly specified."
      ],
      "text/plain": [
       "<class 'statsmodels.iolib.summary.Summary'>\n",
       "\"\"\"\n",
       "                            OLS Regression Results                            \n",
       "==============================================================================\n",
       "Dep. Variable:                   CH2O   R-squared:                       0.783\n",
       "Model:                            OLS   Adj. R-squared:                  0.762\n",
       "Method:                 Least Squares   F-statistic:                     37.82\n",
       "Date:                Tue, 02 Jun 2020   Prob (F-statistic):           1.10e-07\n",
       "Time:                        21:48:46   Log-Likelihood:                -72.126\n",
       "No. Observations:                  24   AIC:                             150.3\n",
       "Df Residuals:                      21   BIC:                             153.8\n",
       "Df Model:                           2                                         \n",
       "Covariance Type:            nonrobust                                         \n",
       "==============================================================================\n",
       "                 coef    std err          t      P>|t|      [0.025      0.975]\n",
       "------------------------------------------------------------------------------\n",
       "Intercept     31.3734      2.461     12.750      0.000      26.256      36.491\n",
       "UFFI           9.3120      2.133      4.367      0.000       4.877      13.747\n",
       "AIR            2.8545      0.376      7.584      0.000       2.072       3.637\n",
       "==============================================================================\n",
       "Omnibus:                        0.667   Durbin-Watson:                   1.394\n",
       "Prob(Omnibus):                  0.717   Jarque-Bera (JB):                0.659\n",
       "Skew:                          -0.054   Prob(JB):                        0.719\n",
       "Kurtosis:                       2.196   Cond. No.                         15.6\n",
       "==============================================================================\n",
       "\n",
       "Warnings:\n",
       "[1] Standard Errors assume that the covariance matrix of the errors is correctly specified.\n",
       "\"\"\""
      ]
     },
     "execution_count": 9,
     "metadata": {},
     "output_type": "execute_result"
    }
   ],
   "source": [
    "smf.ols(\"CH2O ~ UFFI + AIR\", data=uffi).fit().summary()"
   ]
  },
  {
   "cell_type": "markdown",
   "metadata": {},
   "source": [
    "Results of multiple linear regression claim that both covariates are significant, moreover corresponding fitted coefficients haven't changed their values much. The main difference lies in the intercept. It gives a hint that two covariates are independent."
   ]
  },
  {
   "cell_type": "markdown",
   "metadata": {},
   "source": [
    "## Problem 2"
   ]
  },
  {
   "cell_type": "code",
   "execution_count": 10,
   "metadata": {},
   "outputs": [
    {
     "data": {
      "text/html": [
       "<div>\n",
       "<style scoped>\n",
       "    .dataframe tbody tr th:only-of-type {\n",
       "        vertical-align: middle;\n",
       "    }\n",
       "\n",
       "    .dataframe tbody tr th {\n",
       "        vertical-align: top;\n",
       "    }\n",
       "\n",
       "    .dataframe thead th {\n",
       "        text-align: right;\n",
       "    }\n",
       "</style>\n",
       "<table border=\"1\" class=\"dataframe\">\n",
       "  <thead>\n",
       "    <tr style=\"text-align: right;\">\n",
       "      <th></th>\n",
       "      <th>numvisit</th>\n",
       "      <th>age</th>\n",
       "      <th>educ</th>\n",
       "      <th>married</th>\n",
       "      <th>badh</th>\n",
       "      <th>loginc</th>\n",
       "      <th>reform</th>\n",
       "    </tr>\n",
       "  </thead>\n",
       "  <tbody>\n",
       "    <tr>\n",
       "      <th>0</th>\n",
       "      <td>1</td>\n",
       "      <td>45</td>\n",
       "      <td>10.5</td>\n",
       "      <td>0</td>\n",
       "      <td>0</td>\n",
       "      <td>7.636776</td>\n",
       "      <td>0</td>\n",
       "    </tr>\n",
       "    <tr>\n",
       "      <th>1</th>\n",
       "      <td>9</td>\n",
       "      <td>53</td>\n",
       "      <td>9.0</td>\n",
       "      <td>1</td>\n",
       "      <td>1</td>\n",
       "      <td>7.699212</td>\n",
       "      <td>0</td>\n",
       "    </tr>\n",
       "    <tr>\n",
       "      <th>2</th>\n",
       "      <td>40</td>\n",
       "      <td>48</td>\n",
       "      <td>10.5</td>\n",
       "      <td>0</td>\n",
       "      <td>1</td>\n",
       "      <td>7.057358</td>\n",
       "      <td>0</td>\n",
       "    </tr>\n",
       "    <tr>\n",
       "      <th>3</th>\n",
       "      <td>0</td>\n",
       "      <td>52</td>\n",
       "      <td>18.0</td>\n",
       "      <td>0</td>\n",
       "      <td>0</td>\n",
       "      <td>7.688554</td>\n",
       "      <td>1</td>\n",
       "    </tr>\n",
       "    <tr>\n",
       "      <th>4</th>\n",
       "      <td>1</td>\n",
       "      <td>40</td>\n",
       "      <td>10.5</td>\n",
       "      <td>0</td>\n",
       "      <td>0</td>\n",
       "      <td>7.541466</td>\n",
       "      <td>0</td>\n",
       "    </tr>\n",
       "  </tbody>\n",
       "</table>\n",
       "</div>"
      ],
      "text/plain": [
       "   numvisit  age  educ  married  badh    loginc  reform\n",
       "0         1   45  10.5        0     0  7.636776       0\n",
       "1         9   53   9.0        1     1  7.699212       0\n",
       "2        40   48  10.5        0     1  7.057358       0\n",
       "3         0   52  18.0        0     0  7.688554       1\n",
       "4         1   40  10.5        0     0  7.541466       0"
      ]
     },
     "execution_count": 10,
     "metadata": {},
     "output_type": "execute_result"
    }
   ],
   "source": [
    "drvisits = pd.read_csv(\"data/drvisits.txt\", sep=\"\\t\")\n",
    "drvisits.columns = [c.strip() for c in drvisits.columns]\n",
    "drvisits.head()"
   ]
  },
  {
   "cell_type": "markdown",
   "metadata": {},
   "source": [
    "a)"
   ]
  },
  {
   "cell_type": "markdown",
   "metadata": {},
   "source": [
    "Number of doctoral visits is measured within the time range of 3 months. Basically, the model explains the rate, assuming it is constant in time, but changes as a function of covariates."
   ]
  },
  {
   "cell_type": "code",
   "execution_count": 11,
   "metadata": {},
   "outputs": [
    {
     "name": "stdout",
     "output_type": "stream",
     "text": [
      "Optimization terminated successfully.\n",
      "         Current function value: 2.978283\n",
      "         Iterations 4\n"
     ]
    },
    {
     "data": {
      "text/html": [
       "<table class=\"simpletable\">\n",
       "<caption>Poisson Regression Results</caption>\n",
       "<tr>\n",
       "  <th>Dep. Variable:</th>       <td>numvisit</td>     <th>  No. Observations:  </th>  <td>  2227</td>  \n",
       "</tr>\n",
       "<tr>\n",
       "  <th>Model:</th>                <td>Poisson</td>     <th>  Df Residuals:      </th>  <td>  2225</td>  \n",
       "</tr>\n",
       "<tr>\n",
       "  <th>Method:</th>                 <td>MLE</td>       <th>  Df Model:          </th>  <td>     1</td>  \n",
       "</tr>\n",
       "<tr>\n",
       "  <th>Date:</th>            <td>Tue, 02 Jun 2020</td> <th>  Pseudo R-squ.:     </th> <td>0.003688</td> \n",
       "</tr>\n",
       "<tr>\n",
       "  <th>Time:</th>                <td>21:48:46</td>     <th>  Log-Likelihood:    </th> <td> -6632.6</td> \n",
       "</tr>\n",
       "<tr>\n",
       "  <th>converged:</th>             <td>True</td>       <th>  LL-Null:           </th> <td> -6657.2</td> \n",
       "</tr>\n",
       "<tr>\n",
       "  <th>Covariance Type:</th>     <td>nonrobust</td>    <th>  LLR p-value:       </th> <td>2.422e-12</td>\n",
       "</tr>\n",
       "</table>\n",
       "<table class=\"simpletable\">\n",
       "<tr>\n",
       "      <td></td>         <th>coef</th>     <th>std err</th>      <th>z</th>      <th>P>|z|</th>  <th>[0.025</th>    <th>0.975]</th>  \n",
       "</tr>\n",
       "<tr>\n",
       "  <th>Intercept</th> <td>    1.0406</td> <td>    0.018</td> <td>   58.069</td> <td> 0.000</td> <td>    1.005</td> <td>    1.076</td>\n",
       "</tr>\n",
       "<tr>\n",
       "  <th>reform</th>    <td>   -0.1848</td> <td>    0.026</td> <td>   -6.995</td> <td> 0.000</td> <td>   -0.237</td> <td>   -0.133</td>\n",
       "</tr>\n",
       "</table>"
      ],
      "text/plain": [
       "<class 'statsmodels.iolib.summary.Summary'>\n",
       "\"\"\"\n",
       "                          Poisson Regression Results                          \n",
       "==============================================================================\n",
       "Dep. Variable:               numvisit   No. Observations:                 2227\n",
       "Model:                        Poisson   Df Residuals:                     2225\n",
       "Method:                           MLE   Df Model:                            1\n",
       "Date:                Tue, 02 Jun 2020   Pseudo R-squ.:                0.003688\n",
       "Time:                        21:48:46   Log-Likelihood:                -6632.6\n",
       "converged:                       True   LL-Null:                       -6657.2\n",
       "Covariance Type:            nonrobust   LLR p-value:                 2.422e-12\n",
       "==============================================================================\n",
       "                 coef    std err          z      P>|z|      [0.025      0.975]\n",
       "------------------------------------------------------------------------------\n",
       "Intercept      1.0406      0.018     58.069      0.000       1.005       1.076\n",
       "reform        -0.1848      0.026     -6.995      0.000      -0.237      -0.133\n",
       "==============================================================================\n",
       "\"\"\""
      ]
     },
     "execution_count": 11,
     "metadata": {},
     "output_type": "execute_result"
    }
   ],
   "source": [
    "drvisits_reform_pois = smf.poisson(\"numvisit ~ reform\", data=drvisits).fit()\n",
    "drvisits_reform_pois.summary()"
   ]
  },
  {
   "cell_type": "markdown",
   "metadata": {},
   "source": [
    "Rate ratio represents how the rate will change if one of the covariates get an increase of 1 unit. Since the link function is exponential, subtraction doesn't give us direct connection to fitted coefficients, while division does."
   ]
  },
  {
   "cell_type": "markdown",
   "metadata": {},
   "source": [
    "Below we provide rate ratio for `reform` covariate, and its 95% confidence interval:"
   ]
  },
  {
   "cell_type": "code",
   "execution_count": 12,
   "metadata": {},
   "outputs": [
    {
     "data": {
      "text/html": [
       "<div>\n",
       "<style scoped>\n",
       "    .dataframe tbody tr th:only-of-type {\n",
       "        vertical-align: middle;\n",
       "    }\n",
       "\n",
       "    .dataframe tbody tr th {\n",
       "        vertical-align: top;\n",
       "    }\n",
       "\n",
       "    .dataframe thead th {\n",
       "        text-align: right;\n",
       "    }\n",
       "</style>\n",
       "<table border=\"1\" class=\"dataframe\">\n",
       "  <thead>\n",
       "    <tr style=\"text-align: right;\">\n",
       "      <th></th>\n",
       "      <th>RR</th>\n",
       "      <th>[0.025</th>\n",
       "      <th>0.975]</th>\n",
       "    </tr>\n",
       "  </thead>\n",
       "  <tbody>\n",
       "    <tr>\n",
       "      <th>reform</th>\n",
       "      <td>0.831235</td>\n",
       "      <td>0.789281</td>\n",
       "      <td>0.875418</td>\n",
       "    </tr>\n",
       "  </tbody>\n",
       "</table>\n",
       "</div>"
      ],
      "text/plain": [
       "              RR    [0.025    0.975]\n",
       "reform  0.831235  0.789281  0.875418"
      ]
     },
     "execution_count": 12,
     "metadata": {},
     "output_type": "execute_result"
    }
   ],
   "source": [
    "def rr_confint(model, confidence_level=0.05):\n",
    "    res = drvisits_reform_pois.conf_int(0.05)\n",
    "    res.drop(index=[\"Intercept\"], inplace=True)\n",
    "    res.columns = [\"[0.025\", \"0.975]\"]\n",
    "    res.insert(0, \"RR\", drvisits_reform_pois.params, True)\n",
    "    res = np.exp(res)\n",
    "    return res\n",
    "rr_confint(drvisits_reform_pois, confidence_level=0.05)"
   ]
  },
  {
   "cell_type": "markdown",
   "metadata": {},
   "source": [
    "b)"
   ]
  },
  {
   "cell_type": "code",
   "execution_count": 13,
   "metadata": {},
   "outputs": [
    {
     "name": "stdout",
     "output_type": "stream",
     "text": [
      "Optimization terminated successfully.\n",
      "         Current function value: 2.668489\n",
      "         Iterations 6\n"
     ]
    },
    {
     "data": {
      "text/html": [
       "<table class=\"simpletable\">\n",
       "<caption>Poisson Regression Results</caption>\n",
       "<tr>\n",
       "  <th>Dep. Variable:</th>       <td>numvisit</td>     <th>  No. Observations:  </th>   <td>  2227</td>  \n",
       "</tr>\n",
       "<tr>\n",
       "  <th>Model:</th>                <td>Poisson</td>     <th>  Df Residuals:      </th>   <td>  2220</td>  \n",
       "</tr>\n",
       "<tr>\n",
       "  <th>Method:</th>                 <td>MLE</td>       <th>  Df Model:          </th>   <td>     6</td>  \n",
       "</tr>\n",
       "<tr>\n",
       "  <th>Date:</th>            <td>Tue, 02 Jun 2020</td> <th>  Pseudo R-squ.:     </th>   <td>0.1073</td>  \n",
       "</tr>\n",
       "<tr>\n",
       "  <th>Time:</th>                <td>21:48:46</td>     <th>  Log-Likelihood:    </th>  <td> -5942.7</td> \n",
       "</tr>\n",
       "<tr>\n",
       "  <th>converged:</th>             <td>True</td>       <th>  LL-Null:           </th>  <td> -6657.2</td> \n",
       "</tr>\n",
       "<tr>\n",
       "  <th>Covariance Type:</th>     <td>nonrobust</td>    <th>  LLR p-value:       </th> <td>1.316e-305</td>\n",
       "</tr>\n",
       "</table>\n",
       "<table class=\"simpletable\">\n",
       "<tr>\n",
       "      <td></td>         <th>coef</th>     <th>std err</th>      <th>z</th>      <th>P>|z|</th>  <th>[0.025</th>    <th>0.975]</th>  \n",
       "</tr>\n",
       "<tr>\n",
       "  <th>Intercept</th> <td>   -0.4137</td> <td>    0.269</td> <td>   -1.537</td> <td> 0.124</td> <td>   -0.941</td> <td>    0.114</td>\n",
       "</tr>\n",
       "<tr>\n",
       "  <th>age</th>       <td>    0.0044</td> <td>    0.001</td> <td>    3.352</td> <td> 0.001</td> <td>    0.002</td> <td>    0.007</td>\n",
       "</tr>\n",
       "<tr>\n",
       "  <th>educ</th>      <td>   -0.0107</td> <td>    0.006</td> <td>   -1.785</td> <td> 0.074</td> <td>   -0.022</td> <td>    0.001</td>\n",
       "</tr>\n",
       "<tr>\n",
       "  <th>married</th>   <td>    0.0414</td> <td>    0.028</td> <td>    1.485</td> <td> 0.137</td> <td>   -0.013</td> <td>    0.096</td>\n",
       "</tr>\n",
       "<tr>\n",
       "  <th>badh</th>      <td>    1.1332</td> <td>    0.030</td> <td>   37.396</td> <td> 0.000</td> <td>    1.074</td> <td>    1.193</td>\n",
       "</tr>\n",
       "<tr>\n",
       "  <th>loginc</th>    <td>    0.1492</td> <td>    0.036</td> <td>    4.140</td> <td> 0.000</td> <td>    0.079</td> <td>    0.220</td>\n",
       "</tr>\n",
       "<tr>\n",
       "  <th>reform</th>    <td>   -0.1402</td> <td>    0.027</td> <td>   -5.279</td> <td> 0.000</td> <td>   -0.192</td> <td>   -0.088</td>\n",
       "</tr>\n",
       "</table>"
      ],
      "text/plain": [
       "<class 'statsmodels.iolib.summary.Summary'>\n",
       "\"\"\"\n",
       "                          Poisson Regression Results                          \n",
       "==============================================================================\n",
       "Dep. Variable:               numvisit   No. Observations:                 2227\n",
       "Model:                        Poisson   Df Residuals:                     2220\n",
       "Method:                           MLE   Df Model:                            6\n",
       "Date:                Tue, 02 Jun 2020   Pseudo R-squ.:                  0.1073\n",
       "Time:                        21:48:46   Log-Likelihood:                -5942.7\n",
       "converged:                       True   LL-Null:                       -6657.2\n",
       "Covariance Type:            nonrobust   LLR p-value:                1.316e-305\n",
       "==============================================================================\n",
       "                 coef    std err          z      P>|z|      [0.025      0.975]\n",
       "------------------------------------------------------------------------------\n",
       "Intercept     -0.4137      0.269     -1.537      0.124      -0.941       0.114\n",
       "age            0.0044      0.001      3.352      0.001       0.002       0.007\n",
       "educ          -0.0107      0.006     -1.785      0.074      -0.022       0.001\n",
       "married        0.0414      0.028      1.485      0.137      -0.013       0.096\n",
       "badh           1.1332      0.030     37.396      0.000       1.074       1.193\n",
       "loginc         0.1492      0.036      4.140      0.000       0.079       0.220\n",
       "reform        -0.1402      0.027     -5.279      0.000      -0.192      -0.088\n",
       "==============================================================================\n",
       "\"\"\""
      ]
     },
     "execution_count": 13,
     "metadata": {},
     "output_type": "execute_result"
    }
   ],
   "source": [
    "smf.poisson(\"numvisit ~ age + educ + married + badh + loginc + reform\", data=drvisits).fit().summary()"
   ]
  },
  {
   "cell_type": "markdown",
   "metadata": {},
   "source": [
    "Covariates with high significance are: age, badh, loginc and reform. Education can be included within 95% confidence, but it is at the edge, so it is arguable.\n",
    "\n",
    "Some of them are expected to be correlated, like age and badh. Elder people tend to have more health problems. Both coefficients are positive, as expected.\n",
    "\n",
    "The better is education the lesser people attend doctor, possibly because they can avoid some dangers. Also people that can afford education expected to have higher income. This connection, however, doesn't seem to be explicit in this table. Since data is collected in Germany, their education is free and might be independent on income status.\n",
    "\n",
    "Married people attend doctor more frequently, possibly because of their children.\n",
    "\n",
    "Finally, in assumption that there are no interactions, reform has decreased frequency of visits. But `reform` has changed its fitted value after inclusion of other parameters. It means that there are interactions. For instance, `badh` and `reform` could be dependent. If reform indeed decreased number of visits, it means lesser amount of people should be in poor health condition.\n",
    "\n",
    "Finally, let's test significance of `badh` and `reform`. We can do this in two ways. 1st approach is to take a Wald test, and check p-value of `badh` or `reform` separately. This is the number shown in front of each coefficient in the table below. Another approach is to compare deviances by conducting the likelihood test. Null hypothesis here will be: both coefficients are zero. Likelihood for this case is also provided in the table as null-Likelihood. Log  likelihood ratio p-value shows the probability that the difference in likelihoods is accidental. From the table it follows that the coincidence is very improbable, so at least one of the parameters is definitely non-zero."
   ]
  },
  {
   "cell_type": "code",
   "execution_count": 14,
   "metadata": {},
   "outputs": [
    {
     "name": "stdout",
     "output_type": "stream",
     "text": [
      "Optimization terminated successfully.\n",
      "         Current function value: 2.677912\n",
      "         Iterations 6\n"
     ]
    },
    {
     "data": {
      "text/html": [
       "<table class=\"simpletable\">\n",
       "<caption>Poisson Regression Results</caption>\n",
       "<tr>\n",
       "  <th>Dep. Variable:</th>       <td>numvisit</td>     <th>  No. Observations:  </th>   <td>  2227</td>  \n",
       "</tr>\n",
       "<tr>\n",
       "  <th>Model:</th>                <td>Poisson</td>     <th>  Df Residuals:      </th>   <td>  2224</td>  \n",
       "</tr>\n",
       "<tr>\n",
       "  <th>Method:</th>                 <td>MLE</td>       <th>  Df Model:          </th>   <td>     2</td>  \n",
       "</tr>\n",
       "<tr>\n",
       "  <th>Date:</th>            <td>Tue, 02 Jun 2020</td> <th>  Pseudo R-squ.:     </th>   <td>0.1042</td>  \n",
       "</tr>\n",
       "<tr>\n",
       "  <th>Time:</th>                <td>21:48:46</td>     <th>  Log-Likelihood:    </th>  <td> -5963.7</td> \n",
       "</tr>\n",
       "<tr>\n",
       "  <th>converged:</th>             <td>True</td>       <th>  LL-Null:           </th>  <td> -6657.2</td> \n",
       "</tr>\n",
       "<tr>\n",
       "  <th>Covariance Type:</th>     <td>nonrobust</td>    <th>  LLR p-value:       </th> <td>6.688e-302</td>\n",
       "</tr>\n",
       "</table>\n",
       "<table class=\"simpletable\">\n",
       "<tr>\n",
       "      <td></td>         <th>coef</th>     <th>std err</th>      <th>z</th>      <th>P>|z|</th>  <th>[0.025</th>    <th>0.975]</th>  \n",
       "</tr>\n",
       "<tr>\n",
       "  <th>Intercept</th> <td>    0.7915</td> <td>    0.020</td> <td>   39.212</td> <td> 0.000</td> <td>    0.752</td> <td>    0.831</td>\n",
       "</tr>\n",
       "<tr>\n",
       "  <th>badh</th>      <td>    1.1653</td> <td>    0.029</td> <td>   40.201</td> <td> 0.000</td> <td>    1.109</td> <td>    1.222</td>\n",
       "</tr>\n",
       "<tr>\n",
       "  <th>reform</th>    <td>   -0.1340</td> <td>    0.026</td> <td>   -5.061</td> <td> 0.000</td> <td>   -0.186</td> <td>   -0.082</td>\n",
       "</tr>\n",
       "</table>"
      ],
      "text/plain": [
       "<class 'statsmodels.iolib.summary.Summary'>\n",
       "\"\"\"\n",
       "                          Poisson Regression Results                          \n",
       "==============================================================================\n",
       "Dep. Variable:               numvisit   No. Observations:                 2227\n",
       "Model:                        Poisson   Df Residuals:                     2224\n",
       "Method:                           MLE   Df Model:                            2\n",
       "Date:                Tue, 02 Jun 2020   Pseudo R-squ.:                  0.1042\n",
       "Time:                        21:48:46   Log-Likelihood:                -5963.7\n",
       "converged:                       True   LL-Null:                       -6657.2\n",
       "Covariance Type:            nonrobust   LLR p-value:                6.688e-302\n",
       "==============================================================================\n",
       "                 coef    std err          z      P>|z|      [0.025      0.975]\n",
       "------------------------------------------------------------------------------\n",
       "Intercept      0.7915      0.020     39.212      0.000       0.752       0.831\n",
       "badh           1.1653      0.029     40.201      0.000       1.109       1.222\n",
       "reform        -0.1340      0.026     -5.061      0.000      -0.186      -0.082\n",
       "==============================================================================\n",
       "\"\"\""
      ]
     },
     "execution_count": 14,
     "metadata": {},
     "output_type": "execute_result"
    }
   ],
   "source": [
    "smf.poisson(\"numvisit ~ badh + reform\", data=drvisits).fit().summary()"
   ]
  },
  {
   "cell_type": "markdown",
   "metadata": {},
   "source": [
    "c)"
   ]
  },
  {
   "cell_type": "markdown",
   "metadata": {},
   "source": [
    "Below we will fit different models with non-linear interactions included. We will also comment on the results under each group of tables."
   ]
  },
  {
   "cell_type": "code",
   "execution_count": 15,
   "metadata": {},
   "outputs": [
    {
     "name": "stdout",
     "output_type": "stream",
     "text": [
      "Optimization terminated successfully.\n",
      "         Current function value: 2.667609\n",
      "         Iterations 8\n"
     ]
    },
    {
     "data": {
      "text/html": [
       "<table class=\"simpletable\">\n",
       "<caption>Poisson Regression Results</caption>\n",
       "<tr>\n",
       "  <th>Dep. Variable:</th>       <td>numvisit</td>     <th>  No. Observations:  </th>   <td>  2227</td>  \n",
       "</tr>\n",
       "<tr>\n",
       "  <th>Model:</th>                <td>Poisson</td>     <th>  Df Residuals:      </th>   <td>  2219</td>  \n",
       "</tr>\n",
       "<tr>\n",
       "  <th>Method:</th>                 <td>MLE</td>       <th>  Df Model:          </th>   <td>     7</td>  \n",
       "</tr>\n",
       "<tr>\n",
       "  <th>Date:</th>            <td>Tue, 02 Jun 2020</td> <th>  Pseudo R-squ.:     </th>   <td>0.1076</td>  \n",
       "</tr>\n",
       "<tr>\n",
       "  <th>Time:</th>                <td>21:48:46</td>     <th>  Log-Likelihood:    </th>  <td> -5940.8</td> \n",
       "</tr>\n",
       "<tr>\n",
       "  <th>converged:</th>             <td>True</td>       <th>  LL-Null:           </th>  <td> -6657.2</td> \n",
       "</tr>\n",
       "<tr>\n",
       "  <th>Covariance Type:</th>     <td>nonrobust</td>    <th>  LLR p-value:       </th> <td>3.009e-305</td>\n",
       "</tr>\n",
       "</table>\n",
       "<table class=\"simpletable\">\n",
       "<tr>\n",
       "      <td></td>         <th>coef</th>     <th>std err</th>      <th>z</th>      <th>P>|z|</th>  <th>[0.025</th>    <th>0.975]</th>  \n",
       "</tr>\n",
       "<tr>\n",
       "  <th>Intercept</th> <td>   -0.0699</td> <td>    0.320</td> <td>   -0.219</td> <td> 0.827</td> <td>   -0.696</td> <td>    0.557</td>\n",
       "</tr>\n",
       "<tr>\n",
       "  <th>age</th>       <td>   -0.0150</td> <td>    0.010</td> <td>   -1.523</td> <td> 0.128</td> <td>   -0.034</td> <td>    0.004</td>\n",
       "</tr>\n",
       "<tr>\n",
       "  <th>age_sq</th>    <td>    0.0002</td> <td>    0.000</td> <td>    1.985</td> <td> 0.047</td> <td> 3.09e-06</td> <td>    0.000</td>\n",
       "</tr>\n",
       "<tr>\n",
       "  <th>educ</th>      <td>   -0.0092</td> <td>    0.006</td> <td>   -1.510</td> <td> 0.131</td> <td>   -0.021</td> <td>    0.003</td>\n",
       "</tr>\n",
       "<tr>\n",
       "  <th>married</th>   <td>    0.0534</td> <td>    0.029</td> <td>    1.872</td> <td> 0.061</td> <td>   -0.003</td> <td>    0.109</td>\n",
       "</tr>\n",
       "<tr>\n",
       "  <th>badh</th>      <td>    1.1349</td> <td>    0.030</td> <td>   37.403</td> <td> 0.000</td> <td>    1.075</td> <td>    1.194</td>\n",
       "</tr>\n",
       "<tr>\n",
       "  <th>loginc</th>    <td>    0.1475</td> <td>    0.036</td> <td>    4.091</td> <td> 0.000</td> <td>    0.077</td> <td>    0.218</td>\n",
       "</tr>\n",
       "<tr>\n",
       "  <th>reform</th>    <td>   -0.1398</td> <td>    0.027</td> <td>   -5.266</td> <td> 0.000</td> <td>   -0.192</td> <td>   -0.088</td>\n",
       "</tr>\n",
       "</table>"
      ],
      "text/plain": [
       "<class 'statsmodels.iolib.summary.Summary'>\n",
       "\"\"\"\n",
       "                          Poisson Regression Results                          \n",
       "==============================================================================\n",
       "Dep. Variable:               numvisit   No. Observations:                 2227\n",
       "Model:                        Poisson   Df Residuals:                     2219\n",
       "Method:                           MLE   Df Model:                            7\n",
       "Date:                Tue, 02 Jun 2020   Pseudo R-squ.:                  0.1076\n",
       "Time:                        21:48:46   Log-Likelihood:                -5940.8\n",
       "converged:                       True   LL-Null:                       -6657.2\n",
       "Covariance Type:            nonrobust   LLR p-value:                3.009e-305\n",
       "==============================================================================\n",
       "                 coef    std err          z      P>|z|      [0.025      0.975]\n",
       "------------------------------------------------------------------------------\n",
       "Intercept     -0.0699      0.320     -0.219      0.827      -0.696       0.557\n",
       "age           -0.0150      0.010     -1.523      0.128      -0.034       0.004\n",
       "age_sq         0.0002      0.000      1.985      0.047    3.09e-06       0.000\n",
       "educ          -0.0092      0.006     -1.510      0.131      -0.021       0.003\n",
       "married        0.0534      0.029      1.872      0.061      -0.003       0.109\n",
       "badh           1.1349      0.030     37.403      0.000       1.075       1.194\n",
       "loginc         0.1475      0.036      4.091      0.000       0.077       0.218\n",
       "reform        -0.1398      0.027     -5.266      0.000      -0.192      -0.088\n",
       "==============================================================================\n",
       "\"\"\""
      ]
     },
     "execution_count": 15,
     "metadata": {},
     "output_type": "execute_result"
    }
   ],
   "source": [
    "smf.poisson(\"numvisit ~ age + age_sq + educ + married + badh + loginc + reform\", data=drvisits.assign(age_sq=drvisits[\"age\"]**2)).fit().summary()"
   ]
  },
  {
   "cell_type": "code",
   "execution_count": 16,
   "metadata": {},
   "outputs": [
    {
     "name": "stdout",
     "output_type": "stream",
     "text": [
      "Optimization terminated successfully.\n",
      "         Current function value: 2.668187\n",
      "         Iterations 6\n"
     ]
    },
    {
     "data": {
      "text/html": [
       "<table class=\"simpletable\">\n",
       "<caption>Poisson Regression Results</caption>\n",
       "<tr>\n",
       "  <th>Dep. Variable:</th>       <td>numvisit</td>     <th>  No. Observations:  </th>   <td>  2227</td>  \n",
       "</tr>\n",
       "<tr>\n",
       "  <th>Model:</th>                <td>Poisson</td>     <th>  Df Residuals:      </th>   <td>  2219</td>  \n",
       "</tr>\n",
       "<tr>\n",
       "  <th>Method:</th>                 <td>MLE</td>       <th>  Df Model:          </th>   <td>     7</td>  \n",
       "</tr>\n",
       "<tr>\n",
       "  <th>Date:</th>            <td>Tue, 02 Jun 2020</td> <th>  Pseudo R-squ.:     </th>   <td>0.1074</td>  \n",
       "</tr>\n",
       "<tr>\n",
       "  <th>Time:</th>                <td>21:48:46</td>     <th>  Log-Likelihood:    </th>  <td> -5942.1</td> \n",
       "</tr>\n",
       "<tr>\n",
       "  <th>converged:</th>             <td>True</td>       <th>  LL-Null:           </th>  <td> -6657.2</td> \n",
       "</tr>\n",
       "<tr>\n",
       "  <th>Covariance Type:</th>     <td>nonrobust</td>    <th>  LLR p-value:       </th> <td>1.085e-304</td>\n",
       "</tr>\n",
       "</table>\n",
       "<table class=\"simpletable\">\n",
       "<tr>\n",
       "      <td></td>         <th>coef</th>     <th>std err</th>      <th>z</th>      <th>P>|z|</th>  <th>[0.025</th>    <th>0.975]</th>  \n",
       "</tr>\n",
       "<tr>\n",
       "  <th>Intercept</th> <td>    0.6034</td> <td>    0.916</td> <td>    0.659</td> <td> 0.510</td> <td>   -1.191</td> <td>    2.398</td>\n",
       "</tr>\n",
       "<tr>\n",
       "  <th>age</th>       <td>    0.0148</td> <td>    0.009</td> <td>    1.630</td> <td> 0.103</td> <td>   -0.003</td> <td>    0.033</td>\n",
       "</tr>\n",
       "<tr>\n",
       "  <th>age_log</th>   <td>   -0.3964</td> <td>    0.341</td> <td>   -1.162</td> <td> 0.245</td> <td>   -1.065</td> <td>    0.272</td>\n",
       "</tr>\n",
       "<tr>\n",
       "  <th>educ</th>      <td>   -0.0097</td> <td>    0.006</td> <td>   -1.598</td> <td> 0.110</td> <td>   -0.022</td> <td>    0.002</td>\n",
       "</tr>\n",
       "<tr>\n",
       "  <th>married</th>   <td>    0.0482</td> <td>    0.028</td> <td>    1.691</td> <td> 0.091</td> <td>   -0.008</td> <td>    0.104</td>\n",
       "</tr>\n",
       "<tr>\n",
       "  <th>badh</th>      <td>    1.1342</td> <td>    0.030</td> <td>   37.396</td> <td> 0.000</td> <td>    1.075</td> <td>    1.194</td>\n",
       "</tr>\n",
       "<tr>\n",
       "  <th>loginc</th>    <td>    0.1486</td> <td>    0.036</td> <td>    4.121</td> <td> 0.000</td> <td>    0.078</td> <td>    0.219</td>\n",
       "</tr>\n",
       "<tr>\n",
       "  <th>reform</th>    <td>   -0.1400</td> <td>    0.027</td> <td>   -5.272</td> <td> 0.000</td> <td>   -0.192</td> <td>   -0.088</td>\n",
       "</tr>\n",
       "</table>"
      ],
      "text/plain": [
       "<class 'statsmodels.iolib.summary.Summary'>\n",
       "\"\"\"\n",
       "                          Poisson Regression Results                          \n",
       "==============================================================================\n",
       "Dep. Variable:               numvisit   No. Observations:                 2227\n",
       "Model:                        Poisson   Df Residuals:                     2219\n",
       "Method:                           MLE   Df Model:                            7\n",
       "Date:                Tue, 02 Jun 2020   Pseudo R-squ.:                  0.1074\n",
       "Time:                        21:48:46   Log-Likelihood:                -5942.1\n",
       "converged:                       True   LL-Null:                       -6657.2\n",
       "Covariance Type:            nonrobust   LLR p-value:                1.085e-304\n",
       "==============================================================================\n",
       "                 coef    std err          z      P>|z|      [0.025      0.975]\n",
       "------------------------------------------------------------------------------\n",
       "Intercept      0.6034      0.916      0.659      0.510      -1.191       2.398\n",
       "age            0.0148      0.009      1.630      0.103      -0.003       0.033\n",
       "age_log       -0.3964      0.341     -1.162      0.245      -1.065       0.272\n",
       "educ          -0.0097      0.006     -1.598      0.110      -0.022       0.002\n",
       "married        0.0482      0.028      1.691      0.091      -0.008       0.104\n",
       "badh           1.1342      0.030     37.396      0.000       1.075       1.194\n",
       "loginc         0.1486      0.036      4.121      0.000       0.078       0.219\n",
       "reform        -0.1400      0.027     -5.272      0.000      -0.192      -0.088\n",
       "==============================================================================\n",
       "\"\"\""
      ]
     },
     "execution_count": 16,
     "metadata": {},
     "output_type": "execute_result"
    }
   ],
   "source": [
    "smf.poisson(\"numvisit ~ age + age_log + educ + married + badh + loginc + reform\", data=drvisits.assign(age_log=np.log(drvisits[\"age\"]))).fit().summary()"
   ]
  },
  {
   "cell_type": "markdown",
   "metadata": {},
   "source": [
    "Two tables above test whether age has log or polynomial non-linearities. Both possibilities gain insignificant effect, so can be disregarded. Next we are going to test education in the similar way."
   ]
  },
  {
   "cell_type": "code",
   "execution_count": 17,
   "metadata": {},
   "outputs": [
    {
     "name": "stdout",
     "output_type": "stream",
     "text": [
      "Optimization terminated successfully.\n",
      "         Current function value: 2.667151\n",
      "         Iterations 6\n"
     ]
    },
    {
     "data": {
      "text/html": [
       "<table class=\"simpletable\">\n",
       "<caption>Poisson Regression Results</caption>\n",
       "<tr>\n",
       "  <th>Dep. Variable:</th>       <td>numvisit</td>     <th>  No. Observations:  </th>   <td>  2227</td>  \n",
       "</tr>\n",
       "<tr>\n",
       "  <th>Model:</th>                <td>Poisson</td>     <th>  Df Residuals:      </th>   <td>  2219</td>  \n",
       "</tr>\n",
       "<tr>\n",
       "  <th>Method:</th>                 <td>MLE</td>       <th>  Df Model:          </th>   <td>     7</td>  \n",
       "</tr>\n",
       "<tr>\n",
       "  <th>Date:</th>            <td>Tue, 02 Jun 2020</td> <th>  Pseudo R-squ.:     </th>   <td>0.1078</td>  \n",
       "</tr>\n",
       "<tr>\n",
       "  <th>Time:</th>                <td>21:48:47</td>     <th>  Log-Likelihood:    </th>  <td> -5939.7</td> \n",
       "</tr>\n",
       "<tr>\n",
       "  <th>converged:</th>             <td>True</td>       <th>  LL-Null:           </th>  <td> -6657.2</td> \n",
       "</tr>\n",
       "<tr>\n",
       "  <th>Covariance Type:</th>     <td>nonrobust</td>    <th>  LLR p-value:       </th> <td>1.089e-305</td>\n",
       "</tr>\n",
       "</table>\n",
       "<table class=\"simpletable\">\n",
       "<tr>\n",
       "      <td></td>         <th>coef</th>     <th>std err</th>      <th>z</th>      <th>P>|z|</th>  <th>[0.025</th>    <th>0.975]</th>  \n",
       "</tr>\n",
       "<tr>\n",
       "  <th>Intercept</th> <td>   -0.9411</td> <td>    0.347</td> <td>   -2.713</td> <td> 0.007</td> <td>   -1.621</td> <td>   -0.261</td>\n",
       "</tr>\n",
       "<tr>\n",
       "  <th>age</th>       <td>    0.0048</td> <td>    0.001</td> <td>    3.659</td> <td> 0.000</td> <td>    0.002</td> <td>    0.007</td>\n",
       "</tr>\n",
       "<tr>\n",
       "  <th>educ</th>      <td>    0.0843</td> <td>    0.040</td> <td>    2.120</td> <td> 0.034</td> <td>    0.006</td> <td>    0.162</td>\n",
       "</tr>\n",
       "<tr>\n",
       "  <th>educ_sq</th>   <td>   -0.0038</td> <td>    0.002</td> <td>   -2.417</td> <td> 0.016</td> <td>   -0.007</td> <td>   -0.001</td>\n",
       "</tr>\n",
       "<tr>\n",
       "  <th>married</th>   <td>    0.0415</td> <td>    0.028</td> <td>    1.491</td> <td> 0.136</td> <td>   -0.013</td> <td>    0.096</td>\n",
       "</tr>\n",
       "<tr>\n",
       "  <th>badh</th>      <td>    1.1312</td> <td>    0.030</td> <td>   37.328</td> <td> 0.000</td> <td>    1.072</td> <td>    1.191</td>\n",
       "</tr>\n",
       "<tr>\n",
       "  <th>loginc</th>    <td>    0.1415</td> <td>    0.036</td> <td>    3.915</td> <td> 0.000</td> <td>    0.071</td> <td>    0.212</td>\n",
       "</tr>\n",
       "<tr>\n",
       "  <th>reform</th>    <td>   -0.1416</td> <td>    0.027</td> <td>   -5.333</td> <td> 0.000</td> <td>   -0.194</td> <td>   -0.090</td>\n",
       "</tr>\n",
       "</table>"
      ],
      "text/plain": [
       "<class 'statsmodels.iolib.summary.Summary'>\n",
       "\"\"\"\n",
       "                          Poisson Regression Results                          \n",
       "==============================================================================\n",
       "Dep. Variable:               numvisit   No. Observations:                 2227\n",
       "Model:                        Poisson   Df Residuals:                     2219\n",
       "Method:                           MLE   Df Model:                            7\n",
       "Date:                Tue, 02 Jun 2020   Pseudo R-squ.:                  0.1078\n",
       "Time:                        21:48:47   Log-Likelihood:                -5939.7\n",
       "converged:                       True   LL-Null:                       -6657.2\n",
       "Covariance Type:            nonrobust   LLR p-value:                1.089e-305\n",
       "==============================================================================\n",
       "                 coef    std err          z      P>|z|      [0.025      0.975]\n",
       "------------------------------------------------------------------------------\n",
       "Intercept     -0.9411      0.347     -2.713      0.007      -1.621      -0.261\n",
       "age            0.0048      0.001      3.659      0.000       0.002       0.007\n",
       "educ           0.0843      0.040      2.120      0.034       0.006       0.162\n",
       "educ_sq       -0.0038      0.002     -2.417      0.016      -0.007      -0.001\n",
       "married        0.0415      0.028      1.491      0.136      -0.013       0.096\n",
       "badh           1.1312      0.030     37.328      0.000       1.072       1.191\n",
       "loginc         0.1415      0.036      3.915      0.000       0.071       0.212\n",
       "reform        -0.1416      0.027     -5.333      0.000      -0.194      -0.090\n",
       "==============================================================================\n",
       "\"\"\""
      ]
     },
     "execution_count": 17,
     "metadata": {},
     "output_type": "execute_result"
    }
   ],
   "source": [
    "smf.poisson(\"numvisit ~ age + educ + educ_sq + married + badh + loginc + reform\", data=drvisits.assign(educ_sq=drvisits[\"educ\"]**2)).fit().summary()"
   ]
  },
  {
   "cell_type": "code",
   "execution_count": 18,
   "metadata": {},
   "outputs": [
    {
     "name": "stdout",
     "output_type": "stream",
     "text": [
      "Optimization terminated successfully.\n",
      "         Current function value: 2.667105\n",
      "         Iterations 6\n"
     ]
    },
    {
     "data": {
      "text/html": [
       "<table class=\"simpletable\">\n",
       "<caption>Poisson Regression Results</caption>\n",
       "<tr>\n",
       "  <th>Dep. Variable:</th>       <td>numvisit</td>     <th>  No. Observations:  </th>   <td>  2227</td>  \n",
       "</tr>\n",
       "<tr>\n",
       "  <th>Model:</th>                <td>Poisson</td>     <th>  Df Residuals:      </th>   <td>  2219</td>  \n",
       "</tr>\n",
       "<tr>\n",
       "  <th>Method:</th>                 <td>MLE</td>       <th>  Df Model:          </th>   <td>     7</td>  \n",
       "</tr>\n",
       "<tr>\n",
       "  <th>Date:</th>            <td>Tue, 02 Jun 2020</td> <th>  Pseudo R-squ.:     </th>   <td>0.1078</td>  \n",
       "</tr>\n",
       "<tr>\n",
       "  <th>Time:</th>                <td>21:48:47</td>     <th>  Log-Likelihood:    </th>  <td> -5939.6</td> \n",
       "</tr>\n",
       "<tr>\n",
       "  <th>converged:</th>             <td>True</td>       <th>  LL-Null:           </th>  <td> -6657.2</td> \n",
       "</tr>\n",
       "<tr>\n",
       "  <th>Covariance Type:</th>     <td>nonrobust</td>    <th>  LLR p-value:       </th> <td>9.836e-306</td>\n",
       "</tr>\n",
       "</table>\n",
       "<table class=\"simpletable\">\n",
       "<tr>\n",
       "      <td></td>         <th>coef</th>     <th>std err</th>      <th>z</th>      <th>P>|z|</th>  <th>[0.025</th>    <th>0.975]</th>  \n",
       "</tr>\n",
       "<tr>\n",
       "  <th>Intercept</th> <td>   -1.8864</td> <td>    0.658</td> <td>   -2.865</td> <td> 0.004</td> <td>   -3.177</td> <td>   -0.596</td>\n",
       "</tr>\n",
       "<tr>\n",
       "  <th>age</th>       <td>    0.0048</td> <td>    0.001</td> <td>    3.634</td> <td> 0.000</td> <td>    0.002</td> <td>    0.007</td>\n",
       "</tr>\n",
       "<tr>\n",
       "  <th>educ</th>      <td>   -0.0974</td> <td>    0.036</td> <td>   -2.718</td> <td> 0.007</td> <td>   -0.168</td> <td>   -0.027</td>\n",
       "</tr>\n",
       "<tr>\n",
       "  <th>educ_log</th>  <td>    1.0393</td> <td>    0.423</td> <td>    2.455</td> <td> 0.014</td> <td>    0.209</td> <td>    1.869</td>\n",
       "</tr>\n",
       "<tr>\n",
       "  <th>married</th>   <td>    0.0417</td> <td>    0.028</td> <td>    1.499</td> <td> 0.134</td> <td>   -0.013</td> <td>    0.096</td>\n",
       "</tr>\n",
       "<tr>\n",
       "  <th>badh</th>      <td>    1.1312</td> <td>    0.030</td> <td>   37.324</td> <td> 0.000</td> <td>    1.072</td> <td>    1.191</td>\n",
       "</tr>\n",
       "<tr>\n",
       "  <th>loginc</th>    <td>    0.1412</td> <td>    0.036</td> <td>    3.904</td> <td> 0.000</td> <td>    0.070</td> <td>    0.212</td>\n",
       "</tr>\n",
       "<tr>\n",
       "  <th>reform</th>    <td>   -0.1412</td> <td>    0.027</td> <td>   -5.315</td> <td> 0.000</td> <td>   -0.193</td> <td>   -0.089</td>\n",
       "</tr>\n",
       "</table>"
      ],
      "text/plain": [
       "<class 'statsmodels.iolib.summary.Summary'>\n",
       "\"\"\"\n",
       "                          Poisson Regression Results                          \n",
       "==============================================================================\n",
       "Dep. Variable:               numvisit   No. Observations:                 2227\n",
       "Model:                        Poisson   Df Residuals:                     2219\n",
       "Method:                           MLE   Df Model:                            7\n",
       "Date:                Tue, 02 Jun 2020   Pseudo R-squ.:                  0.1078\n",
       "Time:                        21:48:47   Log-Likelihood:                -5939.6\n",
       "converged:                       True   LL-Null:                       -6657.2\n",
       "Covariance Type:            nonrobust   LLR p-value:                9.836e-306\n",
       "==============================================================================\n",
       "                 coef    std err          z      P>|z|      [0.025      0.975]\n",
       "------------------------------------------------------------------------------\n",
       "Intercept     -1.8864      0.658     -2.865      0.004      -3.177      -0.596\n",
       "age            0.0048      0.001      3.634      0.000       0.002       0.007\n",
       "educ          -0.0974      0.036     -2.718      0.007      -0.168      -0.027\n",
       "educ_log       1.0393      0.423      2.455      0.014       0.209       1.869\n",
       "married        0.0417      0.028      1.499      0.134      -0.013       0.096\n",
       "badh           1.1312      0.030     37.324      0.000       1.072       1.191\n",
       "loginc         0.1412      0.036      3.904      0.000       0.070       0.212\n",
       "reform        -0.1412      0.027     -5.315      0.000      -0.193      -0.089\n",
       "==============================================================================\n",
       "\"\"\""
      ]
     },
     "execution_count": 18,
     "metadata": {},
     "output_type": "execute_result"
    }
   ],
   "source": [
    "smf.poisson(\"numvisit ~ age + educ + educ_log + married + badh + loginc + reform\", data=drvisits.assign(educ_log=np.log(drvisits[\"educ\"]))).fit().summary()"
   ]
  },
  {
   "cell_type": "markdown",
   "metadata": {},
   "source": [
    "Education shows also significance at the edge of confidence level, and still lies orders of magnitude farther from the effects with the highest significance.\n",
    "\n",
    "Finally, regarding log income, we don't test for logarithmic correction to it, we only check for quadratic contribution"
   ]
  },
  {
   "cell_type": "code",
   "execution_count": 19,
   "metadata": {},
   "outputs": [
    {
     "name": "stdout",
     "output_type": "stream",
     "text": [
      "Optimization terminated successfully.\n",
      "         Current function value: 2.666241\n",
      "         Iterations 6\n"
     ]
    },
    {
     "data": {
      "text/html": [
       "<table class=\"simpletable\">\n",
       "<caption>Poisson Regression Results</caption>\n",
       "<tr>\n",
       "  <th>Dep. Variable:</th>       <td>numvisit</td>     <th>  No. Observations:  </th>   <td>  2227</td>  \n",
       "</tr>\n",
       "<tr>\n",
       "  <th>Model:</th>                <td>Poisson</td>     <th>  Df Residuals:      </th>   <td>  2219</td>  \n",
       "</tr>\n",
       "<tr>\n",
       "  <th>Method:</th>                 <td>MLE</td>       <th>  Df Model:          </th>   <td>     7</td>  \n",
       "</tr>\n",
       "<tr>\n",
       "  <th>Date:</th>            <td>Tue, 02 Jun 2020</td> <th>  Pseudo R-squ.:     </th>   <td>0.1081</td>  \n",
       "</tr>\n",
       "<tr>\n",
       "  <th>Time:</th>                <td>21:48:47</td>     <th>  Log-Likelihood:    </th>  <td> -5937.7</td> \n",
       "</tr>\n",
       "<tr>\n",
       "  <th>converged:</th>             <td>True</td>       <th>  LL-Null:           </th>  <td> -6657.2</td> \n",
       "</tr>\n",
       "<tr>\n",
       "  <th>Covariance Type:</th>     <td>nonrobust</td>    <th>  LLR p-value:       </th> <td>1.443e-306</td>\n",
       "</tr>\n",
       "</table>\n",
       "<table class=\"simpletable\">\n",
       "<tr>\n",
       "      <td></td>         <th>coef</th>     <th>std err</th>      <th>z</th>      <th>P>|z|</th>  <th>[0.025</th>    <th>0.975]</th>  \n",
       "</tr>\n",
       "<tr>\n",
       "  <th>Intercept</th> <td>  -10.9020</td> <td>    3.425</td> <td>   -3.183</td> <td> 0.001</td> <td>  -17.615</td> <td>   -4.189</td>\n",
       "</tr>\n",
       "<tr>\n",
       "  <th>age</th>       <td>    0.0046</td> <td>    0.001</td> <td>    3.543</td> <td> 0.000</td> <td>    0.002</td> <td>    0.007</td>\n",
       "</tr>\n",
       "<tr>\n",
       "  <th>educ</th>      <td>   -0.0101</td> <td>    0.006</td> <td>   -1.684</td> <td> 0.092</td> <td>   -0.022</td> <td>    0.002</td>\n",
       "</tr>\n",
       "<tr>\n",
       "  <th>married</th>   <td>    0.0403</td> <td>    0.028</td> <td>    1.446</td> <td> 0.148</td> <td>   -0.014</td> <td>    0.095</td>\n",
       "</tr>\n",
       "<tr>\n",
       "  <th>badh</th>      <td>    1.1347</td> <td>    0.030</td> <td>   37.460</td> <td> 0.000</td> <td>    1.075</td> <td>    1.194</td>\n",
       "</tr>\n",
       "<tr>\n",
       "  <th>loginc</th>    <td>    2.8859</td> <td>    0.891</td> <td>    3.238</td> <td> 0.001</td> <td>    1.139</td> <td>    4.633</td>\n",
       "</tr>\n",
       "<tr>\n",
       "  <th>loginc_sq</th> <td>   -0.1784</td> <td>    0.058</td> <td>   -3.074</td> <td> 0.002</td> <td>   -0.292</td> <td>   -0.065</td>\n",
       "</tr>\n",
       "<tr>\n",
       "  <th>reform</th>    <td>   -0.1396</td> <td>    0.027</td> <td>   -5.257</td> <td> 0.000</td> <td>   -0.192</td> <td>   -0.088</td>\n",
       "</tr>\n",
       "</table>"
      ],
      "text/plain": [
       "<class 'statsmodels.iolib.summary.Summary'>\n",
       "\"\"\"\n",
       "                          Poisson Regression Results                          \n",
       "==============================================================================\n",
       "Dep. Variable:               numvisit   No. Observations:                 2227\n",
       "Model:                        Poisson   Df Residuals:                     2219\n",
       "Method:                           MLE   Df Model:                            7\n",
       "Date:                Tue, 02 Jun 2020   Pseudo R-squ.:                  0.1081\n",
       "Time:                        21:48:47   Log-Likelihood:                -5937.7\n",
       "converged:                       True   LL-Null:                       -6657.2\n",
       "Covariance Type:            nonrobust   LLR p-value:                1.443e-306\n",
       "==============================================================================\n",
       "                 coef    std err          z      P>|z|      [0.025      0.975]\n",
       "------------------------------------------------------------------------------\n",
       "Intercept    -10.9020      3.425     -3.183      0.001     -17.615      -4.189\n",
       "age            0.0046      0.001      3.543      0.000       0.002       0.007\n",
       "educ          -0.0101      0.006     -1.684      0.092      -0.022       0.002\n",
       "married        0.0403      0.028      1.446      0.148      -0.014       0.095\n",
       "badh           1.1347      0.030     37.460      0.000       1.075       1.194\n",
       "loginc         2.8859      0.891      3.238      0.001       1.139       4.633\n",
       "loginc_sq     -0.1784      0.058     -3.074      0.002      -0.292      -0.065\n",
       "reform        -0.1396      0.027     -5.257      0.000      -0.192      -0.088\n",
       "==============================================================================\n",
       "\"\"\""
      ]
     },
     "execution_count": 19,
     "metadata": {},
     "output_type": "execute_result"
    }
   ],
   "source": [
    "smf.poisson(\"numvisit ~ age + educ + married + badh + loginc + loginc_sq + reform\", data=drvisits.assign(loginc_sq=drvisits[\"loginc\"]**2)).fit().summary()"
   ]
  },
  {
   "cell_type": "markdown",
   "metadata": {},
   "source": [
    "From the report we discover that log income has a significant effect and can be included into the final model to account for the non-linearities."
   ]
  },
  {
   "cell_type": "markdown",
   "metadata": {},
   "source": [
    "d)"
   ]
  },
  {
   "cell_type": "markdown",
   "metadata": {},
   "source": [
    "By definition, mean and variance of Poisson distribution are equal. This can be a good test for data, to check whether it could be fitted by Poisson process. This is useful when we are trying to find common rate for entire data. In our case this estimate gives us only a vague idea about the suitability of the Poisson model. The thing is that rate and thus mean and variance can vary depending on the hyperparameters like age, badh, etc."
   ]
  },
  {
   "cell_type": "code",
   "execution_count": 20,
   "metadata": {},
   "outputs": [
    {
     "data": {
      "text/plain": [
       "6.227030355079969"
      ]
     },
     "execution_count": 20,
     "metadata": {},
     "output_type": "execute_result"
    }
   ],
   "source": [
    "np.std(drvisits[\"numvisit\"])**2/drvisits[\"numvisit\"].mean()"
   ]
  },
  {
   "cell_type": "markdown",
   "metadata": {},
   "source": [
    "In addition to the directly computed overdispersion coefficient we suggest somewhat more specific coefficient. We split data into groups according to the categorical variables + we turn scalar covariates into categorical by histogramming. In this setting, we expect that Poisson rate won't change a lot within each group, and we suggest calculating average with weights proportional to the number of elements in each group. So those group with better statistics contribute more massively into the coefficient estimate.\n",
    "\n",
    "In assumption that data is sampled from poisson model, our coefficient should be 1."
   ]
  },
  {
   "cell_type": "code",
   "execution_count": 21,
   "metadata": {},
   "outputs": [
    {
     "name": "stdout",
     "output_type": "stream",
     "text": [
      "First 20 smallest groups\n"
     ]
    },
    {
     "data": {
      "text/html": [
       "<div>\n",
       "<style scoped>\n",
       "    .dataframe tbody tr th:only-of-type {\n",
       "        vertical-align: middle;\n",
       "    }\n",
       "\n",
       "    .dataframe tbody tr th {\n",
       "        vertical-align: top;\n",
       "    }\n",
       "\n",
       "    .dataframe thead th {\n",
       "        text-align: right;\n",
       "    }\n",
       "</style>\n",
       "<table border=\"1\" class=\"dataframe\">\n",
       "  <thead>\n",
       "    <tr style=\"text-align: right;\">\n",
       "      <th></th>\n",
       "      <th></th>\n",
       "      <th></th>\n",
       "      <th></th>\n",
       "      <th>num</th>\n",
       "      <th>mean</th>\n",
       "      <th>variance</th>\n",
       "    </tr>\n",
       "    <tr>\n",
       "      <th>badh</th>\n",
       "      <th>reform</th>\n",
       "      <th>age_hist</th>\n",
       "      <th>loginc_hist</th>\n",
       "      <th></th>\n",
       "      <th></th>\n",
       "      <th></th>\n",
       "    </tr>\n",
       "  </thead>\n",
       "  <tbody>\n",
       "    <tr>\n",
       "      <th>0</th>\n",
       "      <th>0</th>\n",
       "      <th>0</th>\n",
       "      <th>1</th>\n",
       "      <td>1</td>\n",
       "      <td>0.000000</td>\n",
       "      <td>0.000000</td>\n",
       "    </tr>\n",
       "    <tr>\n",
       "      <th rowspan=\"3\" valign=\"top\">1</th>\n",
       "      <th rowspan=\"2\" valign=\"top\">0</th>\n",
       "      <th>1</th>\n",
       "      <th>1</th>\n",
       "      <td>1</td>\n",
       "      <td>4.000000</td>\n",
       "      <td>0.000000</td>\n",
       "    </tr>\n",
       "    <tr>\n",
       "      <th>2</th>\n",
       "      <th>3</th>\n",
       "      <td>1</td>\n",
       "      <td>0.000000</td>\n",
       "      <td>0.000000</td>\n",
       "    </tr>\n",
       "    <tr>\n",
       "      <th>1</th>\n",
       "      <th>1</th>\n",
       "      <th>3</th>\n",
       "      <td>1</td>\n",
       "      <td>3.000000</td>\n",
       "      <td>0.000000</td>\n",
       "    </tr>\n",
       "    <tr>\n",
       "      <th>0</th>\n",
       "      <th>0</th>\n",
       "      <th>2</th>\n",
       "      <th>0</th>\n",
       "      <td>1</td>\n",
       "      <td>0.000000</td>\n",
       "      <td>0.000000</td>\n",
       "    </tr>\n",
       "    <tr>\n",
       "      <th rowspan=\"9\" valign=\"top\">1</th>\n",
       "      <th rowspan=\"2\" valign=\"top\">1</th>\n",
       "      <th>1</th>\n",
       "      <th>1</th>\n",
       "      <td>1</td>\n",
       "      <td>9.000000</td>\n",
       "      <td>0.000000</td>\n",
       "    </tr>\n",
       "    <tr>\n",
       "      <th>0</th>\n",
       "      <th>2</th>\n",
       "      <td>1</td>\n",
       "      <td>8.000000</td>\n",
       "      <td>0.000000</td>\n",
       "    </tr>\n",
       "    <tr>\n",
       "      <th rowspan=\"3\" valign=\"top\">0</th>\n",
       "      <th>1</th>\n",
       "      <th>3</th>\n",
       "      <td>2</td>\n",
       "      <td>5.000000</td>\n",
       "      <td>1.000000</td>\n",
       "    </tr>\n",
       "    <tr>\n",
       "      <th>0</th>\n",
       "      <th>2</th>\n",
       "      <td>2</td>\n",
       "      <td>2.500000</td>\n",
       "      <td>0.250000</td>\n",
       "    </tr>\n",
       "    <tr>\n",
       "      <th>4</th>\n",
       "      <th>1</th>\n",
       "      <td>2</td>\n",
       "      <td>9.000000</td>\n",
       "      <td>9.000000</td>\n",
       "    </tr>\n",
       "    <tr>\n",
       "      <th rowspan=\"2\" valign=\"top\">1</th>\n",
       "      <th>2</th>\n",
       "      <th>1</th>\n",
       "      <td>2</td>\n",
       "      <td>4.500000</td>\n",
       "      <td>2.250000</td>\n",
       "    </tr>\n",
       "    <tr>\n",
       "      <th>3</th>\n",
       "      <th>1</th>\n",
       "      <td>2</td>\n",
       "      <td>2.000000</td>\n",
       "      <td>1.000000</td>\n",
       "    </tr>\n",
       "    <tr>\n",
       "      <th rowspan=\"2\" valign=\"top\">0</th>\n",
       "      <th rowspan=\"2\" valign=\"top\">3</th>\n",
       "      <th>3</th>\n",
       "      <td>3</td>\n",
       "      <td>8.666667</td>\n",
       "      <td>33.555556</td>\n",
       "    </tr>\n",
       "    <tr>\n",
       "      <th>1</th>\n",
       "      <td>3</td>\n",
       "      <td>2.666667</td>\n",
       "      <td>6.222222</td>\n",
       "    </tr>\n",
       "    <tr>\n",
       "      <th>0</th>\n",
       "      <th>1</th>\n",
       "      <th>0</th>\n",
       "      <th>1</th>\n",
       "      <td>3</td>\n",
       "      <td>1.666667</td>\n",
       "      <td>1.555556</td>\n",
       "    </tr>\n",
       "    <tr>\n",
       "      <th rowspan=\"3\" valign=\"top\">1</th>\n",
       "      <th rowspan=\"2\" valign=\"top\">0</th>\n",
       "      <th>4</th>\n",
       "      <th>3</th>\n",
       "      <td>3</td>\n",
       "      <td>2.666667</td>\n",
       "      <td>5.555556</td>\n",
       "    </tr>\n",
       "    <tr>\n",
       "      <th>2</th>\n",
       "      <th>1</th>\n",
       "      <td>4</td>\n",
       "      <td>3.500000</td>\n",
       "      <td>5.250000</td>\n",
       "    </tr>\n",
       "    <tr>\n",
       "      <th>1</th>\n",
       "      <th>4</th>\n",
       "      <th>1</th>\n",
       "      <td>4</td>\n",
       "      <td>3.250000</td>\n",
       "      <td>8.687500</td>\n",
       "    </tr>\n",
       "    <tr>\n",
       "      <th>0</th>\n",
       "      <th>1</th>\n",
       "      <th>4</th>\n",
       "      <th>1</th>\n",
       "      <td>4</td>\n",
       "      <td>5.250000</td>\n",
       "      <td>72.687500</td>\n",
       "    </tr>\n",
       "    <tr>\n",
       "      <th>1</th>\n",
       "      <th>1</th>\n",
       "      <th>4</th>\n",
       "      <th>3</th>\n",
       "      <td>4</td>\n",
       "      <td>13.750000</td>\n",
       "      <td>17.187500</td>\n",
       "    </tr>\n",
       "  </tbody>\n",
       "</table>\n",
       "</div>"
      ],
      "text/plain": [
       "                                  num       mean   variance\n",
       "badh reform age_hist loginc_hist                           \n",
       "0    0      0        1              1   0.000000   0.000000\n",
       "1    0      1        1              1   4.000000   0.000000\n",
       "            2        3              1   0.000000   0.000000\n",
       "     1      1        3              1   3.000000   0.000000\n",
       "0    0      2        0              1   0.000000   0.000000\n",
       "1    1      1        1              1   9.000000   0.000000\n",
       "            0        2              1   8.000000   0.000000\n",
       "     0      1        3              2   5.000000   1.000000\n",
       "            0        2              2   2.500000   0.250000\n",
       "            4        1              2   9.000000   9.000000\n",
       "     1      2        1              2   4.500000   2.250000\n",
       "            3        1              2   2.000000   1.000000\n",
       "     0      3        3              3   8.666667  33.555556\n",
       "                     1              3   2.666667   6.222222\n",
       "0    1      0        1              3   1.666667   1.555556\n",
       "1    0      4        3              3   2.666667   5.555556\n",
       "            2        1              4   3.500000   5.250000\n",
       "     1      4        1              4   3.250000   8.687500\n",
       "0    1      4        1              4   5.250000  72.687500\n",
       "1    1      4        3              4  13.750000  17.187500"
      ]
     },
     "metadata": {},
     "output_type": "display_data"
    },
    {
     "name": "stdout",
     "output_type": "stream",
     "text": [
      "Weighted average overdispersion coefficient\n"
     ]
    },
    {
     "data": {
      "text/plain": [
       "103.1732207818216"
      ]
     },
     "metadata": {},
     "output_type": "display_data"
    }
   ],
   "source": [
    "def overdispersion_coef(data):\n",
    "    summary = data \\\n",
    "        .assign(loginc_hist=np.searchsorted(np.histogram(drvisits[\"loginc\"], 3)[1], drvisits[\"loginc\"])) \\\n",
    "        .assign(age_hist=np.searchsorted(np.histogram(drvisits[\"age\"], 4)[1], drvisits[\"age\"])) \\\n",
    "        .groupby([\"badh\", \"reform\", \"age_hist\", \"loginc_hist\"])[\"numvisit\"] \\\n",
    "        .agg([pd.NamedAgg(\"num\", lambda x: x.shape[0]),\n",
    "              pd.NamedAgg(\"mean\", np.mean),\n",
    "              pd.NamedAgg(\"variance\", lambda x: np.std(x)**2)]) \\\n",
    "        .sort_values(\"num\", ascending=True)\n",
    "    \n",
    "    print(\"First 20 smallest groups\")\n",
    "    display(summary[:20])\n",
    "    \n",
    "    mean_coef = np.sum(summary[\"variance\"]**2/summary[\"mean\"]*summary[\"num\"])/np.sum(summary[\"num\"])\n",
    "    \n",
    "    print(\"Weighted average overdispersion coefficient\")\n",
    "    display(mean_coef)\n",
    "overdispersion_coef(drvisits)"
   ]
  },
  {
   "cell_type": "markdown",
   "metadata": {},
   "source": [
    "First of all, we observe that there exist groups with 1 or 2 elements, so there is not enough statistics to properly fit such a model. Moreover, we've got coefficient of order 100 when it should be close to 1. This is a strong sign towards overdispersion of the data."
   ]
  },
  {
   "cell_type": "markdown",
   "metadata": {},
   "source": [
    "There are alternative ways to approach overdispersed data within generalized linear model familiy of algorithims. We can either tune the link function of the poisson based glm, or we can change the distribution to include more parameters to disconnect mean and variance."
   ]
  },
  {
   "cell_type": "code",
   "execution_count": 22,
   "metadata": {},
   "outputs": [
    {
     "name": "stderr",
     "output_type": "stream",
     "text": [
      "/home/vindex10/projects/.venvs/sandbox/lib64/python3.6/site-packages/statsmodels/genmod/generalized_linear_model.py:277: DomainWarning: The sqrt link function does not respect the domain of the Poisson family.\n",
      "  family.__class__.__name__), DomainWarning)\n"
     ]
    },
    {
     "data": {
      "text/html": [
       "<table class=\"simpletable\">\n",
       "<caption>Generalized Linear Model Regression Results</caption>\n",
       "<tr>\n",
       "  <th>Dep. Variable:</th>       <td>numvisit</td>     <th>  No. Observations:  </th>  <td>  2227</td> \n",
       "</tr>\n",
       "<tr>\n",
       "  <th>Model:</th>                  <td>GLM</td>       <th>  Df Residuals:      </th>  <td>  2222</td> \n",
       "</tr>\n",
       "<tr>\n",
       "  <th>Model Family:</th>         <td>Poisson</td>     <th>  Df Model:          </th>  <td>     4</td> \n",
       "</tr>\n",
       "<tr>\n",
       "  <th>Link Function:</th>         <td>sqrt</td>       <th>  Scale:             </th> <td>  1.0000</td>\n",
       "</tr>\n",
       "<tr>\n",
       "  <th>Method:</th>                <td>IRLS</td>       <th>  Log-Likelihood:    </th> <td> -5947.1</td>\n",
       "</tr>\n",
       "<tr>\n",
       "  <th>Date:</th>            <td>Tue, 02 Jun 2020</td> <th>  Deviance:          </th> <td>  7428.6</td>\n",
       "</tr>\n",
       "<tr>\n",
       "  <th>Time:</th>                <td>21:48:47</td>     <th>  Pearson chi2:      </th> <td>9.69e+03</td>\n",
       "</tr>\n",
       "<tr>\n",
       "  <th>No. Iterations:</th>          <td>5</td>        <th>                     </th>     <td> </td>   \n",
       "</tr>\n",
       "<tr>\n",
       "  <th>Covariance Type:</th>     <td>nonrobust</td>    <th>                     </th>     <td> </td>   \n",
       "</tr>\n",
       "</table>\n",
       "<table class=\"simpletable\">\n",
       "<tr>\n",
       "      <td></td>         <th>coef</th>     <th>std err</th>      <th>z</th>      <th>P>|z|</th>  <th>[0.025</th>    <th>0.975]</th>  \n",
       "</tr>\n",
       "<tr>\n",
       "  <th>Intercept</th> <td>    0.5455</td> <td>    0.217</td> <td>    2.511</td> <td> 0.012</td> <td>    0.120</td> <td>    0.971</td>\n",
       "</tr>\n",
       "<tr>\n",
       "  <th>age</th>       <td>    0.0044</td> <td>    0.001</td> <td>    4.392</td> <td> 0.000</td> <td>    0.002</td> <td>    0.006</td>\n",
       "</tr>\n",
       "<tr>\n",
       "  <th>badh</th>      <td>    1.1158</td> <td>    0.034</td> <td>   32.658</td> <td> 0.000</td> <td>    1.049</td> <td>    1.183</td>\n",
       "</tr>\n",
       "<tr>\n",
       "  <th>loginc</th>    <td>    0.1020</td> <td>    0.028</td> <td>    3.620</td> <td> 0.000</td> <td>    0.047</td> <td>    0.157</td>\n",
       "</tr>\n",
       "<tr>\n",
       "  <th>reform</th>    <td>   -0.1092</td> <td>    0.021</td> <td>   -5.140</td> <td> 0.000</td> <td>   -0.151</td> <td>   -0.068</td>\n",
       "</tr>\n",
       "</table>"
      ],
      "text/plain": [
       "<class 'statsmodels.iolib.summary.Summary'>\n",
       "\"\"\"\n",
       "                 Generalized Linear Model Regression Results                  \n",
       "==============================================================================\n",
       "Dep. Variable:               numvisit   No. Observations:                 2227\n",
       "Model:                            GLM   Df Residuals:                     2222\n",
       "Model Family:                 Poisson   Df Model:                            4\n",
       "Link Function:                   sqrt   Scale:                          1.0000\n",
       "Method:                          IRLS   Log-Likelihood:                -5947.1\n",
       "Date:                Tue, 02 Jun 2020   Deviance:                       7428.6\n",
       "Time:                        21:48:47   Pearson chi2:                 9.69e+03\n",
       "No. Iterations:                     5                                         \n",
       "Covariance Type:            nonrobust                                         \n",
       "==============================================================================\n",
       "                 coef    std err          z      P>|z|      [0.025      0.975]\n",
       "------------------------------------------------------------------------------\n",
       "Intercept      0.5455      0.217      2.511      0.012       0.120       0.971\n",
       "age            0.0044      0.001      4.392      0.000       0.002       0.006\n",
       "badh           1.1158      0.034     32.658      0.000       1.049       1.183\n",
       "loginc         0.1020      0.028      3.620      0.000       0.047       0.157\n",
       "reform        -0.1092      0.021     -5.140      0.000      -0.151      -0.068\n",
       "==============================================================================\n",
       "\"\"\""
      ]
     },
     "execution_count": 22,
     "metadata": {},
     "output_type": "execute_result"
    }
   ],
   "source": [
    "smf.glm(\"numvisit ~ age + badh + loginc + reform\", data=drvisits, family=sm.genmod.families.Poisson(sm.genmod.families.links.sqrt())).fit().summary()"
   ]
  },
  {
   "cell_type": "markdown",
   "metadata": {},
   "source": [
    "It turns out that tuning the link, by choosing Square Root link doesn't help much. We can compare models by comparing likelihood values. And for the tuned model we didn't get closer to 0. Let's try another model, Negative Binomial model. This one has more parameters, so mean and variance are independent parameters of the distribution."
   ]
  },
  {
   "cell_type": "code",
   "execution_count": 23,
   "metadata": {},
   "outputs": [
    {
     "name": "stdout",
     "output_type": "stream",
     "text": [
      "Optimization terminated successfully.\n",
      "         Current function value: 2.049168\n",
      "         Iterations: 25\n",
      "         Function evaluations: 29\n",
      "         Gradient evaluations: 29\n"
     ]
    },
    {
     "data": {
      "text/html": [
       "<table class=\"simpletable\">\n",
       "<caption>NegativeBinomial Regression Results</caption>\n",
       "<tr>\n",
       "  <th>Dep. Variable:</th>       <td>numvisit</td>     <th>  No. Observations:  </th>  <td>  2227</td>  \n",
       "</tr>\n",
       "<tr>\n",
       "  <th>Model:</th>           <td>NegativeBinomial</td> <th>  Df Residuals:      </th>  <td>  2222</td>  \n",
       "</tr>\n",
       "<tr>\n",
       "  <th>Method:</th>                 <td>MLE</td>       <th>  Df Model:          </th>  <td>     4</td>  \n",
       "</tr>\n",
       "<tr>\n",
       "  <th>Date:</th>            <td>Tue, 02 Jun 2020</td> <th>  Pseudo R-squ.:     </th>  <td>0.03185</td> \n",
       "</tr>\n",
       "<tr>\n",
       "  <th>Time:</th>                <td>21:48:48</td>     <th>  Log-Likelihood:    </th> <td> -4563.5</td> \n",
       "</tr>\n",
       "<tr>\n",
       "  <th>converged:</th>             <td>True</td>       <th>  LL-Null:           </th> <td> -4713.6</td> \n",
       "</tr>\n",
       "<tr>\n",
       "  <th>Covariance Type:</th>     <td>nonrobust</td>    <th>  LLR p-value:       </th> <td>9.597e-64</td>\n",
       "</tr>\n",
       "</table>\n",
       "<table class=\"simpletable\">\n",
       "<tr>\n",
       "      <td></td>         <th>coef</th>     <th>std err</th>      <th>z</th>      <th>P>|z|</th>  <th>[0.025</th>    <th>0.975]</th>  \n",
       "</tr>\n",
       "<tr>\n",
       "  <th>Intercept</th> <td>   -0.4131</td> <td>    0.534</td> <td>   -0.774</td> <td> 0.439</td> <td>   -1.459</td> <td>    0.633</td>\n",
       "</tr>\n",
       "<tr>\n",
       "  <th>age</th>       <td>    0.0058</td> <td>    0.002</td> <td>    2.439</td> <td> 0.015</td> <td>    0.001</td> <td>    0.010</td>\n",
       "</tr>\n",
       "<tr>\n",
       "  <th>badh</th>      <td>    1.1337</td> <td>    0.075</td> <td>   15.196</td> <td> 0.000</td> <td>    0.987</td> <td>    1.280</td>\n",
       "</tr>\n",
       "<tr>\n",
       "  <th>loginc</th>    <td>    0.1291</td> <td>    0.069</td> <td>    1.869</td> <td> 0.062</td> <td>   -0.006</td> <td>    0.264</td>\n",
       "</tr>\n",
       "<tr>\n",
       "  <th>reform</th>    <td>   -0.1387</td> <td>    0.051</td> <td>   -2.717</td> <td> 0.007</td> <td>   -0.239</td> <td>   -0.039</td>\n",
       "</tr>\n",
       "<tr>\n",
       "  <th>alpha</th>     <td>    1.0024</td> <td>    0.048</td> <td>   21.040</td> <td> 0.000</td> <td>    0.909</td> <td>    1.096</td>\n",
       "</tr>\n",
       "</table>"
      ],
      "text/plain": [
       "<class 'statsmodels.iolib.summary.Summary'>\n",
       "\"\"\"\n",
       "                     NegativeBinomial Regression Results                      \n",
       "==============================================================================\n",
       "Dep. Variable:               numvisit   No. Observations:                 2227\n",
       "Model:               NegativeBinomial   Df Residuals:                     2222\n",
       "Method:                           MLE   Df Model:                            4\n",
       "Date:                Tue, 02 Jun 2020   Pseudo R-squ.:                 0.03185\n",
       "Time:                        21:48:48   Log-Likelihood:                -4563.5\n",
       "converged:                       True   LL-Null:                       -4713.6\n",
       "Covariance Type:            nonrobust   LLR p-value:                 9.597e-64\n",
       "==============================================================================\n",
       "                 coef    std err          z      P>|z|      [0.025      0.975]\n",
       "------------------------------------------------------------------------------\n",
       "Intercept     -0.4131      0.534     -0.774      0.439      -1.459       0.633\n",
       "age            0.0058      0.002      2.439      0.015       0.001       0.010\n",
       "badh           1.1337      0.075     15.196      0.000       0.987       1.280\n",
       "loginc         0.1291      0.069      1.869      0.062      -0.006       0.264\n",
       "reform        -0.1387      0.051     -2.717      0.007      -0.239      -0.039\n",
       "alpha          1.0024      0.048     21.040      0.000       0.909       1.096\n",
       "==============================================================================\n",
       "\"\"\""
      ]
     },
     "execution_count": 23,
     "metadata": {},
     "output_type": "execute_result"
    }
   ],
   "source": [
    "smf.negativebinomial(\"numvisit ~ age + badh + loginc + reform\", data=drvisits).fit().summary()"
   ]
  },
  {
   "cell_type": "markdown",
   "metadata": {},
   "source": [
    "We observe quite an improvement of the likelihood value. Parameter alpha is another parameter of the model, and we have strong evidence of it being non-zero (where 0 makes negative binomial distribution to behave like Poisson) "
   ]
  },
  {
   "cell_type": "markdown",
   "metadata": {},
   "source": [
    "## Problem 3"
   ]
  },
  {
   "cell_type": "code",
   "execution_count": 24,
   "metadata": {},
   "outputs": [
    {
     "data": {
      "text/html": [
       "<div>\n",
       "<style scoped>\n",
       "    .dataframe tbody tr th:only-of-type {\n",
       "        vertical-align: middle;\n",
       "    }\n",
       "\n",
       "    .dataframe tbody tr th {\n",
       "        vertical-align: top;\n",
       "    }\n",
       "\n",
       "    .dataframe thead th {\n",
       "        text-align: right;\n",
       "    }\n",
       "</style>\n",
       "<table border=\"1\" class=\"dataframe\">\n",
       "  <thead>\n",
       "    <tr style=\"text-align: right;\">\n",
       "      <th></th>\n",
       "      <th>smoking</th>\n",
       "      <th>age</th>\n",
       "      <th>wheeze</th>\n",
       "    </tr>\n",
       "  </thead>\n",
       "  <tbody>\n",
       "    <tr>\n",
       "      <th>0</th>\n",
       "      <td>0</td>\n",
       "      <td>7</td>\n",
       "      <td>0</td>\n",
       "    </tr>\n",
       "    <tr>\n",
       "      <th>1</th>\n",
       "      <td>0</td>\n",
       "      <td>8</td>\n",
       "      <td>0</td>\n",
       "    </tr>\n",
       "    <tr>\n",
       "      <th>2</th>\n",
       "      <td>0</td>\n",
       "      <td>9</td>\n",
       "      <td>0</td>\n",
       "    </tr>\n",
       "    <tr>\n",
       "      <th>3</th>\n",
       "      <td>0</td>\n",
       "      <td>10</td>\n",
       "      <td>0</td>\n",
       "    </tr>\n",
       "    <tr>\n",
       "      <th>4</th>\n",
       "      <td>0</td>\n",
       "      <td>7</td>\n",
       "      <td>0</td>\n",
       "    </tr>\n",
       "  </tbody>\n",
       "</table>\n",
       "</div>"
      ],
      "text/plain": [
       "   smoking  age  wheeze\n",
       "0        0    7       0\n",
       "1        0    8       0\n",
       "2        0    9       0\n",
       "3        0   10       0\n",
       "4        0    7       0"
      ]
     },
     "execution_count": 24,
     "metadata": {},
     "output_type": "execute_result"
    }
   ],
   "source": [
    "wheezing = pd.read_csv(\"data/wheezing.txt\", sep=\"\\s+\")\n",
    "wheezing.head()"
   ]
  },
  {
   "cell_type": "markdown",
   "metadata": {},
   "source": [
    "a)"
   ]
  },
  {
   "cell_type": "code",
   "execution_count": 25,
   "metadata": {},
   "outputs": [],
   "source": [
    "def summarize(df_dict):\n",
    "    for label, df in df_dict.items():\n",
    "        print(f\"{label}:\")\n",
    "        display(df)"
   ]
  },
  {
   "cell_type": "code",
   "execution_count": 26,
   "metadata": {},
   "outputs": [
    {
     "name": "stdout",
     "output_type": "stream",
     "text": [
      "proportions:\n"
     ]
    },
    {
     "data": {
      "text/html": [
       "<div>\n",
       "<style scoped>\n",
       "    .dataframe tbody tr th:only-of-type {\n",
       "        vertical-align: middle;\n",
       "    }\n",
       "\n",
       "    .dataframe tbody tr th {\n",
       "        vertical-align: top;\n",
       "    }\n",
       "\n",
       "    .dataframe thead th {\n",
       "        text-align: right;\n",
       "    }\n",
       "</style>\n",
       "<table border=\"1\" class=\"dataframe\">\n",
       "  <thead>\n",
       "    <tr style=\"text-align: right;\">\n",
       "      <th></th>\n",
       "      <th>wheeze_fraction</th>\n",
       "      <th>odds</th>\n",
       "    </tr>\n",
       "  </thead>\n",
       "  <tbody>\n",
       "    <tr>\n",
       "      <th>no_smoking</th>\n",
       "      <td>0.139286</td>\n",
       "      <td>0.161826</td>\n",
       "    </tr>\n",
       "    <tr>\n",
       "      <th>smoking</th>\n",
       "      <td>0.175134</td>\n",
       "      <td>0.212318</td>\n",
       "    </tr>\n",
       "  </tbody>\n",
       "</table>\n",
       "</div>"
      ],
      "text/plain": [
       "            wheeze_fraction      odds\n",
       "no_smoking         0.139286  0.161826\n",
       "smoking            0.175134  0.212318"
      ]
     },
     "metadata": {},
     "output_type": "display_data"
    },
    {
     "name": "stdout",
     "output_type": "stream",
     "text": [
      "ztest:\n"
     ]
    },
    {
     "data": {
      "text/html": [
       "<div>\n",
       "<style scoped>\n",
       "    .dataframe tbody tr th:only-of-type {\n",
       "        vertical-align: middle;\n",
       "    }\n",
       "\n",
       "    .dataframe tbody tr th {\n",
       "        vertical-align: top;\n",
       "    }\n",
       "\n",
       "    .dataframe thead th {\n",
       "        text-align: right;\n",
       "    }\n",
       "</style>\n",
       "<table border=\"1\" class=\"dataframe\">\n",
       "  <thead>\n",
       "    <tr style=\"text-align: right;\">\n",
       "      <th></th>\n",
       "      <th>ztest</th>\n",
       "    </tr>\n",
       "  </thead>\n",
       "  <tbody>\n",
       "    <tr>\n",
       "      <th>z_stat</th>\n",
       "      <td>-2.206041</td>\n",
       "    </tr>\n",
       "    <tr>\n",
       "      <th>pval</th>\n",
       "      <td>0.027381</td>\n",
       "    </tr>\n",
       "  </tbody>\n",
       "</table>\n",
       "</div>"
      ],
      "text/plain": [
       "           ztest\n",
       "z_stat -2.206041\n",
       "pval    0.027381"
      ]
     },
     "metadata": {},
     "output_type": "display_data"
    },
    {
     "name": "stdout",
     "output_type": "stream",
     "text": [
      "descriptive:\n"
     ]
    },
    {
     "data": {
      "text/html": [
       "<div>\n",
       "<style scoped>\n",
       "    .dataframe tbody tr th:only-of-type {\n",
       "        vertical-align: middle;\n",
       "    }\n",
       "\n",
       "    .dataframe tbody tr th {\n",
       "        vertical-align: top;\n",
       "    }\n",
       "\n",
       "    .dataframe thead th {\n",
       "        text-align: right;\n",
       "    }\n",
       "</style>\n",
       "<table border=\"1\" class=\"dataframe\">\n",
       "  <thead>\n",
       "    <tr style=\"text-align: right;\">\n",
       "      <th></th>\n",
       "      <th>descriptive</th>\n",
       "    </tr>\n",
       "  </thead>\n",
       "  <tbody>\n",
       "    <tr>\n",
       "      <th>relative_risk</th>\n",
       "      <td>1.257370</td>\n",
       "    </tr>\n",
       "    <tr>\n",
       "      <th>odds_ratio</th>\n",
       "      <td>1.312014</td>\n",
       "    </tr>\n",
       "  </tbody>\n",
       "</table>\n",
       "</div>"
      ],
      "text/plain": [
       "               descriptive\n",
       "relative_risk     1.257370\n",
       "odds_ratio        1.312014"
      ]
     },
     "metadata": {},
     "output_type": "display_data"
    }
   ],
   "source": [
    "def grouped_proportion(data, grouper, target):\n",
    "    res = {}\n",
    "    \n",
    "    positives = []\n",
    "    sums = []\n",
    "    labels = []\n",
    "    for g, g_data in data.groupby(grouper)[target]:\n",
    "        label = (\"no_\" if not g else \"\") + grouper\n",
    "        labels.append(label)\n",
    "        \n",
    "        target_0, target_1 = g_data.value_counts()\n",
    "\n",
    "        positives.append(target_1)\n",
    "        sums.append(target_0 + target_1)\n",
    "        \n",
    "    sums = np.array(sums, dtype=np.float32)\n",
    "    positives = np.array(positives, dtype=np.float32)\n",
    "    \n",
    "    proportions = dict(zip(labels, positives/sums))\n",
    "    res[\"proportions\"] = pd.DataFrame(proportions, index=[target + \"_fraction\"]).T\n",
    "    res[\"proportions\"][\"odds\"] = res[\"proportions\"][target + \"_fraction\"]/(1. - res[\"proportions\"][target + \"_fraction\"])\n",
    "    \n",
    "    zstat, pval = proportions_ztest(positives, sums, alternative=\"two-sided\")\n",
    "    res[\"ztest\"] = pd.DataFrame({\"z_stat\": zstat,\n",
    "                                 \"pval\": pval}, index=[\"ztest\"]).T\n",
    "    \n",
    "    res[\"descriptive\"] = pd.DataFrame({\"relative_risk\": (res[\"proportions\"][target+\"_fraction\"].loc[grouper]/res[\"proportions\"][target+\"_fraction\"].loc[\"no_\" + grouper]),\n",
    "                                       \"odds_ratio\": (res[\"proportions\"][\"odds\"].loc[grouper]/res[\"proportions\"][\"odds\"].loc[\"no_\" + grouper])\n",
    "                                      }, index=[\"descriptive\"]).T\n",
    "    \n",
    "    \n",
    "    \n",
    "    return res\n",
    "summarize(grouped_proportion(wheezing, \"smoking\", \"wheeze\"))"
   ]
  },
  {
   "cell_type": "markdown",
   "metadata": {},
   "source": [
    "When comparing fractions of wheezing children between smoking and non-smoking groups, we see a slight difference. Mothers who smoke have 4% more children with wheezing.\n",
    "\n",
    "We can apply z-test to check how significant is the difference. According to p-value, we conclude that it is significant with 95% confidence level.\n",
    "\n",
    "Relative risk = 1 means we don't see any difference between two groups.\n",
    "\n",
    "In our case relative risk is > 1, meaning we observe the difference between probabilities. Moreover, since odds ratio hardens the relative risk value, we expect it to be > RR. That's what indeed takes places.\n",
    "\n",
    "Odds ratio is interesting because that's exactly the value that links pure data to the optimized parameter of the logistic regression model."
   ]
  },
  {
   "cell_type": "markdown",
   "metadata": {},
   "source": [
    "b)"
   ]
  },
  {
   "cell_type": "code",
   "execution_count": 27,
   "metadata": {},
   "outputs": [
    {
     "name": "stdout",
     "output_type": "stream",
     "text": [
      "Optimization terminated successfully.\n",
      "         Current function value: 0.424652\n",
      "         Iterations 6\n"
     ]
    },
    {
     "data": {
      "text/html": [
       "<table class=\"simpletable\">\n",
       "<caption>Logit Regression Results</caption>\n",
       "<tr>\n",
       "  <th>Dep. Variable:</th>        <td>wheeze</td>      <th>  No. Observations:  </th>  <td>  2148</td> \n",
       "</tr>\n",
       "<tr>\n",
       "  <th>Model:</th>                 <td>Logit</td>      <th>  Df Residuals:      </th>  <td>  2146</td> \n",
       "</tr>\n",
       "<tr>\n",
       "  <th>Method:</th>                 <td>MLE</td>       <th>  Df Model:          </th>  <td>     1</td> \n",
       "</tr>\n",
       "<tr>\n",
       "  <th>Date:</th>            <td>Tue, 02 Jun 2020</td> <th>  Pseudo R-squ.:     </th> <td>0.002615</td>\n",
       "</tr>\n",
       "<tr>\n",
       "  <th>Time:</th>                <td>21:48:48</td>     <th>  Log-Likelihood:    </th> <td> -912.15</td>\n",
       "</tr>\n",
       "<tr>\n",
       "  <th>converged:</th>             <td>True</td>       <th>  LL-Null:           </th> <td> -914.54</td>\n",
       "</tr>\n",
       "<tr>\n",
       "  <th>Covariance Type:</th>     <td>nonrobust</td>    <th>  LLR p-value:       </th>  <td>0.02875</td>\n",
       "</tr>\n",
       "</table>\n",
       "<table class=\"simpletable\">\n",
       "<tr>\n",
       "      <td></td>         <th>coef</th>     <th>std err</th>      <th>z</th>      <th>P>|z|</th>  <th>[0.025</th>    <th>0.975]</th>  \n",
       "</tr>\n",
       "<tr>\n",
       "  <th>Intercept</th> <td>   -1.8212</td> <td>    0.077</td> <td>  -23.595</td> <td> 0.000</td> <td>   -1.973</td> <td>   -1.670</td>\n",
       "</tr>\n",
       "<tr>\n",
       "  <th>smoking</th>   <td>    0.2716</td> <td>    0.123</td> <td>    2.202</td> <td> 0.028</td> <td>    0.030</td> <td>    0.513</td>\n",
       "</tr>\n",
       "</table>"
      ],
      "text/plain": [
       "<class 'statsmodels.iolib.summary.Summary'>\n",
       "\"\"\"\n",
       "                           Logit Regression Results                           \n",
       "==============================================================================\n",
       "Dep. Variable:                 wheeze   No. Observations:                 2148\n",
       "Model:                          Logit   Df Residuals:                     2146\n",
       "Method:                           MLE   Df Model:                            1\n",
       "Date:                Tue, 02 Jun 2020   Pseudo R-squ.:                0.002615\n",
       "Time:                        21:48:48   Log-Likelihood:                -912.15\n",
       "converged:                       True   LL-Null:                       -914.54\n",
       "Covariance Type:            nonrobust   LLR p-value:                   0.02875\n",
       "==============================================================================\n",
       "                 coef    std err          z      P>|z|      [0.025      0.975]\n",
       "------------------------------------------------------------------------------\n",
       "Intercept     -1.8212      0.077    -23.595      0.000      -1.973      -1.670\n",
       "smoking        0.2716      0.123      2.202      0.028       0.030       0.513\n",
       "==============================================================================\n",
       "\"\"\""
      ]
     },
     "execution_count": 27,
     "metadata": {},
     "output_type": "execute_result"
    }
   ],
   "source": [
    "wheezing_smoking_logit = smf.logit(\"wheeze ~ smoking\", data=wheezing).fit()\n",
    "wheezing_smoking_logit.summary()"
   ]
  },
  {
   "cell_type": "markdown",
   "metadata": {},
   "source": [
    "Since the link function for logistic regression is logit, to express fitted paramter through probabilities, we should exponentiate it. That's how we match numerically result of logistic regression to the odds ratio computed from data above."
   ]
  },
  {
   "cell_type": "code",
   "execution_count": 28,
   "metadata": {},
   "outputs": [
    {
     "data": {
      "text/plain": [
       "1.3120142958068688"
      ]
     },
     "execution_count": 28,
     "metadata": {},
     "output_type": "execute_result"
    }
   ],
   "source": [
    "np.exp(wheezing_smoking_logit.params[\"smoking\"])"
   ]
  },
  {
   "cell_type": "markdown",
   "metadata": {},
   "source": [
    "The connection can be derived in the following way:\n",
    "\n",
    "$a + b x = logit(p) = \\log \\frac{p}{1 - p}$\n",
    "\n",
    "$L = \\sum y_i \\log p_i + (1 - y_i) \\log (1 - p_i) = \\sum y_i (a + b x_i) + \\log (1 - p_i)$\n",
    "\n",
    "Optimization conditions:\n",
    "\n",
    "$\\sum \\frac{1}{1 + e^{-(a + b x_i)}} = \\sum y_i$\n",
    "\n",
    "$\\sum \\frac{x_i}{1 + e^{-(a + b x_i)}} =  \\sum y_i x_i$\n",
    "\n",
    "That is equivalent to \n",
    "\n",
    "$\\sum p_i = \\sum y_i$\n",
    "\n",
    "$\\sum x_i p_i =  \\sum y_i x_i$\n",
    "\n",
    "Assuming that we have a binary covariate:\n",
    "\n",
    "$N_{smoking} p_{smoking} + N_{non-smoking} p_{non-smoking} = N_{wheez}$\n",
    "\n",
    "$N_{smoking} p_{smoking} = N_{smoking~and~wheez}$\n",
    "\n",
    "\n",
    "Finally:\n",
    "\n",
    "$p_{smoking} = \\frac{N_{smoking~and~wheez}}{N_{smoking}} \\quad  \\text{, that is fraction of wheezing within smoking}$\n",
    "\n",
    "$p_{non-smoking} = \\frac{N_{wheez} - N_{smoking~and~wheez}}{N_{non-smoking}} = \\frac{N_{non-smoking~and~wheez}}{N_{non-smoking}} \\quad \\text{, that is fraction of wheezing within non-smoking}$"
   ]
  },
  {
   "cell_type": "code",
   "execution_count": 29,
   "metadata": {},
   "outputs": [
    {
     "name": "stdout",
     "output_type": "stream",
     "text": [
      "Optimization terminated successfully.\n",
      "         Current function value: 0.424740\n",
      "         Iterations 6\n"
     ]
    },
    {
     "data": {
      "text/html": [
       "<table class=\"simpletable\">\n",
       "<caption>Logit Regression Results</caption>\n",
       "<tr>\n",
       "  <th>Dep. Variable:</th>        <td>wheeze</td>      <th>  No. Observations:  </th>  <td>  2148</td> \n",
       "</tr>\n",
       "<tr>\n",
       "  <th>Model:</th>                 <td>Logit</td>      <th>  Df Residuals:      </th>  <td>  2146</td> \n",
       "</tr>\n",
       "<tr>\n",
       "  <th>Method:</th>                 <td>MLE</td>       <th>  Df Model:          </th>  <td>     1</td> \n",
       "</tr>\n",
       "<tr>\n",
       "  <th>Date:</th>            <td>Tue, 02 Jun 2020</td> <th>  Pseudo R-squ.:     </th> <td>0.002409</td>\n",
       "</tr>\n",
       "<tr>\n",
       "  <th>Time:</th>                <td>21:48:48</td>     <th>  Log-Likelihood:    </th> <td> -912.34</td>\n",
       "</tr>\n",
       "<tr>\n",
       "  <th>converged:</th>             <td>True</td>       <th>  LL-Null:           </th> <td> -914.54</td>\n",
       "</tr>\n",
       "<tr>\n",
       "  <th>Covariance Type:</th>     <td>nonrobust</td>    <th>  LLR p-value:       </th>  <td>0.03580</td>\n",
       "</tr>\n",
       "</table>\n",
       "<table class=\"simpletable\">\n",
       "<tr>\n",
       "      <td></td>         <th>coef</th>     <th>std err</th>      <th>z</th>      <th>P>|z|</th>  <th>[0.025</th>    <th>0.975]</th>  \n",
       "</tr>\n",
       "<tr>\n",
       "  <th>Intercept</th> <td>   -0.7645</td> <td>    0.458</td> <td>   -1.670</td> <td> 0.095</td> <td>   -1.662</td> <td>    0.133</td>\n",
       "</tr>\n",
       "<tr>\n",
       "  <th>age</th>       <td>   -0.1132</td> <td>    0.054</td> <td>   -2.095</td> <td> 0.036</td> <td>   -0.219</td> <td>   -0.007</td>\n",
       "</tr>\n",
       "</table>"
      ],
      "text/plain": [
       "<class 'statsmodels.iolib.summary.Summary'>\n",
       "\"\"\"\n",
       "                           Logit Regression Results                           \n",
       "==============================================================================\n",
       "Dep. Variable:                 wheeze   No. Observations:                 2148\n",
       "Model:                          Logit   Df Residuals:                     2146\n",
       "Method:                           MLE   Df Model:                            1\n",
       "Date:                Tue, 02 Jun 2020   Pseudo R-squ.:                0.002409\n",
       "Time:                        21:48:48   Log-Likelihood:                -912.34\n",
       "converged:                       True   LL-Null:                       -914.54\n",
       "Covariance Type:            nonrobust   LLR p-value:                   0.03580\n",
       "==============================================================================\n",
       "                 coef    std err          z      P>|z|      [0.025      0.975]\n",
       "------------------------------------------------------------------------------\n",
       "Intercept     -0.7645      0.458     -1.670      0.095      -1.662       0.133\n",
       "age           -0.1132      0.054     -2.095      0.036      -0.219      -0.007\n",
       "==============================================================================\n",
       "\"\"\""
      ]
     },
     "execution_count": 29,
     "metadata": {},
     "output_type": "execute_result"
    }
   ],
   "source": [
    "smf.logit(\"wheeze ~ age\", data=wheezing).fit().summary()"
   ]
  },
  {
   "cell_type": "markdown",
   "metadata": {},
   "source": [
    "Based on the p-value, age doesn't show significant impact on wheezing. But smoking itself is also outside 95% significance level. However, significances are comparable, so at least there is no any reason to prefer any covariate to another one."
   ]
  },
  {
   "cell_type": "code",
   "execution_count": 30,
   "metadata": {},
   "outputs": [
    {
     "name": "stdout",
     "output_type": "stream",
     "text": [
      "Optimization terminated successfully.\n",
      "         Current function value: 0.423624\n",
      "         Iterations 6\n"
     ]
    },
    {
     "data": {
      "text/html": [
       "<table class=\"simpletable\">\n",
       "<caption>Logit Regression Results</caption>\n",
       "<tr>\n",
       "  <th>Dep. Variable:</th>        <td>wheeze</td>      <th>  No. Observations:  </th>  <td>  2148</td> \n",
       "</tr>\n",
       "<tr>\n",
       "  <th>Model:</th>                 <td>Logit</td>      <th>  Df Residuals:      </th>  <td>  2145</td> \n",
       "</tr>\n",
       "<tr>\n",
       "  <th>Method:</th>                 <td>MLE</td>       <th>  Df Model:          </th>  <td>     2</td> \n",
       "</tr>\n",
       "<tr>\n",
       "  <th>Date:</th>            <td>Tue, 02 Jun 2020</td> <th>  Pseudo R-squ.:     </th> <td>0.005029</td>\n",
       "</tr>\n",
       "<tr>\n",
       "  <th>Time:</th>                <td>21:48:48</td>     <th>  Log-Likelihood:    </th> <td> -909.94</td>\n",
       "</tr>\n",
       "<tr>\n",
       "  <th>converged:</th>             <td>True</td>       <th>  LL-Null:           </th> <td> -914.54</td>\n",
       "</tr>\n",
       "<tr>\n",
       "  <th>Covariance Type:</th>     <td>nonrobust</td>    <th>  LLR p-value:       </th>  <td>0.01006</td>\n",
       "</tr>\n",
       "</table>\n",
       "<table class=\"simpletable\">\n",
       "<tr>\n",
       "      <td></td>         <th>coef</th>     <th>std err</th>      <th>z</th>      <th>P>|z|</th>  <th>[0.025</th>    <th>0.975]</th>  \n",
       "</tr>\n",
       "<tr>\n",
       "  <th>Intercept</th> <td>   -0.8630</td> <td>    0.461</td> <td>   -1.873</td> <td> 0.061</td> <td>   -1.766</td> <td>    0.040</td>\n",
       "</tr>\n",
       "<tr>\n",
       "  <th>age</th>       <td>   -0.1134</td> <td>    0.054</td> <td>   -2.097</td> <td> 0.036</td> <td>   -0.219</td> <td>   -0.007</td>\n",
       "</tr>\n",
       "<tr>\n",
       "  <th>smoking</th>   <td>    0.2721</td> <td>    0.123</td> <td>    2.204</td> <td> 0.028</td> <td>    0.030</td> <td>    0.514</td>\n",
       "</tr>\n",
       "</table>"
      ],
      "text/plain": [
       "<class 'statsmodels.iolib.summary.Summary'>\n",
       "\"\"\"\n",
       "                           Logit Regression Results                           \n",
       "==============================================================================\n",
       "Dep. Variable:                 wheeze   No. Observations:                 2148\n",
       "Model:                          Logit   Df Residuals:                     2145\n",
       "Method:                           MLE   Df Model:                            2\n",
       "Date:                Tue, 02 Jun 2020   Pseudo R-squ.:                0.005029\n",
       "Time:                        21:48:48   Log-Likelihood:                -909.94\n",
       "converged:                       True   LL-Null:                       -914.54\n",
       "Covariance Type:            nonrobust   LLR p-value:                   0.01006\n",
       "==============================================================================\n",
       "                 coef    std err          z      P>|z|      [0.025      0.975]\n",
       "------------------------------------------------------------------------------\n",
       "Intercept     -0.8630      0.461     -1.873      0.061      -1.766       0.040\n",
       "age           -0.1134      0.054     -2.097      0.036      -0.219      -0.007\n",
       "smoking        0.2721      0.123      2.204      0.028       0.030       0.514\n",
       "==============================================================================\n",
       "\"\"\""
      ]
     },
     "execution_count": 30,
     "metadata": {},
     "output_type": "execute_result"
    }
   ],
   "source": [
    "smf.logit(\"wheeze ~ age + smoking\", data=wheezing).fit().summary()"
   ]
  },
  {
   "cell_type": "markdown",
   "metadata": {},
   "source": [
    "Finally we see that effects of age and smoking are independent in the logistic model. Fitted coefficients and their p-values don't change dramatically when including/excluding covariates."
   ]
  },
  {
   "cell_type": "markdown",
   "metadata": {},
   "source": [
    "c)"
   ]
  },
  {
   "cell_type": "code",
   "execution_count": 31,
   "metadata": {},
   "outputs": [
    {
     "data": {
      "text/html": [
       "<div>\n",
       "<style scoped>\n",
       "    .dataframe tbody tr th:only-of-type {\n",
       "        vertical-align: middle;\n",
       "    }\n",
       "\n",
       "    .dataframe tbody tr th {\n",
       "        vertical-align: top;\n",
       "    }\n",
       "\n",
       "    .dataframe thead th {\n",
       "        text-align: right;\n",
       "    }\n",
       "</style>\n",
       "<table border=\"1\" class=\"dataframe\">\n",
       "  <thead>\n",
       "    <tr style=\"text-align: right;\">\n",
       "      <th></th>\n",
       "      <th>id</th>\n",
       "      <th>smoking</th>\n",
       "      <th>age</th>\n",
       "      <th>wheeze</th>\n",
       "    </tr>\n",
       "  </thead>\n",
       "  <tbody>\n",
       "    <tr>\n",
       "      <th>0</th>\n",
       "      <td>1</td>\n",
       "      <td>0</td>\n",
       "      <td>7</td>\n",
       "      <td>0</td>\n",
       "    </tr>\n",
       "    <tr>\n",
       "      <th>1</th>\n",
       "      <td>1</td>\n",
       "      <td>0</td>\n",
       "      <td>8</td>\n",
       "      <td>0</td>\n",
       "    </tr>\n",
       "    <tr>\n",
       "      <th>2</th>\n",
       "      <td>1</td>\n",
       "      <td>0</td>\n",
       "      <td>9</td>\n",
       "      <td>0</td>\n",
       "    </tr>\n",
       "    <tr>\n",
       "      <th>3</th>\n",
       "      <td>1</td>\n",
       "      <td>0</td>\n",
       "      <td>10</td>\n",
       "      <td>0</td>\n",
       "    </tr>\n",
       "    <tr>\n",
       "      <th>4</th>\n",
       "      <td>2</td>\n",
       "      <td>0</td>\n",
       "      <td>7</td>\n",
       "      <td>0</td>\n",
       "    </tr>\n",
       "  </tbody>\n",
       "</table>\n",
       "</div>"
      ],
      "text/plain": [
       "   id  smoking  age  wheeze\n",
       "0   1        0    7       0\n",
       "1   1        0    8       0\n",
       "2   1        0    9       0\n",
       "3   1        0   10       0\n",
       "4   2        0    7       0"
      ]
     },
     "execution_count": 31,
     "metadata": {},
     "output_type": "execute_result"
    }
   ],
   "source": [
    "wheezingb = pd.read_csv(\"data/wheezingb.txt\", sep=\"\\s+\")\n",
    "wheezingb.head()"
   ]
  },
  {
   "cell_type": "markdown",
   "metadata": {},
   "source": [
    "Since the data now includes information about subjects, we can treat it as longitudinal. This can give us an ability to adapt coefficients to personal characteristics of each subject."
   ]
  },
  {
   "cell_type": "code",
   "execution_count": 32,
   "metadata": {},
   "outputs": [
    {
     "name": "stderr",
     "output_type": "stream",
     "text": [
      "/home/vindex10/projects/.venvs/sandbox/lib64/python3.6/site-packages/statsmodels/regression/mixed_linear_model.py:2149: ConvergenceWarning: The MLE may be on the boundary of the parameter space.\n",
      "  warnings.warn(msg, ConvergenceWarning)\n"
     ]
    },
    {
     "data": {
      "text/html": [
       "<table class=\"simpletable\">\n",
       "<tr>\n",
       "       <td>Model:</td>       <td>MixedLM</td> <td>Dependent Variable:</td>  <td>wheeze</td>  \n",
       "</tr>\n",
       "<tr>\n",
       "  <td>No. Observations:</td>  <td>2148</td>         <td>Method:</td>         <td>REML</td>   \n",
       "</tr>\n",
       "<tr>\n",
       "     <td>No. Groups:</td>      <td>537</td>         <td>Scale:</td>         <td>0.0854</td>  \n",
       "</tr>\n",
       "<tr>\n",
       "  <td>Min. group size:</td>     <td>4</td>      <td>Log-Likelihood:</td>   <td>-708.2807</td>\n",
       "</tr>\n",
       "<tr>\n",
       "  <td>Max. group size:</td>     <td>4</td>        <td>Converged:</td>         <td>Yes</td>   \n",
       "</tr>\n",
       "<tr>\n",
       "  <td>Mean group size:</td>    <td>4.0</td>            <td></td>               <td></td>     \n",
       "</tr>\n",
       "</table>\n",
       "<table class=\"simpletable\">\n",
       "<tr>\n",
       "      <td></td>      <th>Coef.</th> <th>Std.Err.</th>    <th>z</th>   <th>P>|z|</th> <th>[0.025</th> <th>0.975]</th>\n",
       "</tr>\n",
       "<tr>\n",
       "  <th>Intercept</th> <td>0.144</td>   <td>0.013</td>  <td>10.774</td> <td>0.000</td>  <td>0.118</td>  <td>0.170</td>\n",
       "</tr>\n",
       "<tr>\n",
       "  <th>smoking</th>   <td>0.034</td>   <td>0.023</td>   <td>1.499</td> <td>0.134</td> <td>-0.010</td>  <td>0.078</td>\n",
       "</tr>\n",
       "<tr>\n",
       "  <th>age Var</th>   <td>0.001</td>   <td>0.000</td>     <td></td>      <td></td>       <td></td>       <td></td>   \n",
       "</tr>\n",
       "</table>"
      ],
      "text/plain": [
       "<class 'statsmodels.iolib.summary2.Summary'>\n",
       "\"\"\"\n",
       "         Mixed Linear Model Regression Results\n",
       "=======================================================\n",
       "Model:            MixedLM Dependent Variable: wheeze   \n",
       "No. Observations: 2148    Method:             REML     \n",
       "No. Groups:       537     Scale:              0.0854   \n",
       "Min. group size:  4       Log-Likelihood:     -708.2807\n",
       "Max. group size:  4       Converged:          Yes      \n",
       "Mean group size:  4.0                                  \n",
       "-------------------------------------------------------\n",
       "              Coef. Std.Err.   z    P>|z| [0.025 0.975]\n",
       "-------------------------------------------------------\n",
       "Intercept     0.144    0.013 10.774 0.000  0.118  0.170\n",
       "smoking       0.034    0.023  1.499 0.134 -0.010  0.078\n",
       "age Var       0.001    0.000                           \n",
       "=======================================================\n",
       "\n",
       "\"\"\""
      ]
     },
     "execution_count": 32,
     "metadata": {},
     "output_type": "execute_result"
    }
   ],
   "source": [
    "smf.mixedlm(\"wheeze ~ 1 + smoking\", data=wheezingb, re_formula=\"0 + age\", groups=wheezingb[\"id\"]).fit().summary()"
   ]
  },
  {
   "cell_type": "markdown",
   "metadata": {},
   "source": [
    "In this model we assumed that smoking provides similar effect per subject. At the same time, we include random effect of aging per subject. We expect that aging affects different people in different ways, moreover aging also can be a measure of how harmful habits besides smoking influenced subject over the time. That can be also somehow related to the metabolic characteristics of the person.\n",
    "\n",
    "After all we've got a model that shows likelihood closer to 0 than previous models. That of course has to be verified now on the independent study, because we've seen the data and might have caught a fluctuation."
   ]
  },
  {
   "cell_type": "code",
   "execution_count": null,
   "metadata": {},
   "outputs": [],
   "source": []
  }
 ],
 "metadata": {
  "hide_input": false,
  "kernelspec": {
   "display_name": "Python 3",
   "language": "python",
   "name": "python3"
  },
  "language_info": {
   "codemirror_mode": {
    "name": "ipython",
    "version": 3
   },
   "file_extension": ".py",
   "mimetype": "text/x-python",
   "name": "python",
   "nbconvert_exporter": "python",
   "pygments_lexer": "ipython3",
   "version": "3.6.10"
  }
 },
 "nbformat": 4,
 "nbformat_minor": 2
}
